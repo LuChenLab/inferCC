{
 "cells": [
  {
   "cell_type": "code",
   "execution_count": 31,
   "metadata": {},
   "outputs": [],
   "source": [
    "import os\n",
    "import re\n",
    "\n",
    "from glob import glob\n",
    "\n",
    "import kneed\n",
    "import pandas as pd\n",
    "import seaborn as sns\n",
    "from sklearn.ensemble import RandomForestClassifier\n",
    "from sklearn.model_selection import cross_val_score, cross_validate, train_test_split\n",
    "from sklearn.feature_selection import SelectFromModel\n",
    "from sklearn.neural_network import MLPClassifier\n",
    "from sklearn.neighbors.classification import KNeighborsClassifier\n",
    "from sklearn.svm import SVC\n",
    "\n",
    "from matplotlib import pyplot as plt\n",
    "import scanpy as sc"
   ]
  },
  {
   "cell_type": "markdown",
   "metadata": {},
   "source": [
    "Read different expressed genes"
   ]
  },
  {
   "cell_type": "code",
   "execution_count": 2,
   "metadata": {},
   "outputs": [],
   "source": [
    "def read_different_expressed_genes(input_dir, topn=-1):\n",
    "    u\"\"\"\n",
    "    read different expressed genes between different disease\n",
    "    \n",
    "    :param input_dir: path to input_dir\n",
    "    :param topn: only select topn genes by avg_logFC\n",
    "    \"\"\"\n",
    "    \n",
    "    files = glob(os.path.join(input_dir, \"*/disease/markers.xlsx\"))\n",
    "    \n",
    "    data = []\n",
    "    for i in files:\n",
    "        temp = pd.read_excel(i, index_col=0)\n",
    "        \n",
    "        temp = temp.loc[temp[\"p_val_adj\"] < 0.05, ]\n",
    "        temp = temp.loc[temp[\"avg_logFC\"].abs() > 0.5, ]\n",
    "        temp = temp.sort_values(by = \"avg_logFC\")\n",
    "        temp[\"ident\"] = i.split(\"/\")[-3]\n",
    "        \n",
    "        if topn > 0:\n",
    "            data.append(temp.iloc[:topn, :])\n",
    "            data.append(temp.iloc[-topn:, :])\n",
    "        else:\n",
    "            data.append(temp)\n",
    "        \n",
    "    \n",
    "    return pd.concat(data)\n",
    "    \n",
    "markers = read_different_expressed_genes(\"../../../03_each_cells/each\")"
   ]
  },
  {
   "cell_type": "markdown",
   "metadata": {},
   "source": [
    "Prepare meta info and expression value"
   ]
  },
  {
   "cell_type": "code",
   "execution_count": 3,
   "metadata": {},
   "outputs": [],
   "source": [
    "data = sc.read_h5ad(\"/mnt/raid62/Lung_cancer_10x/00_data_ingest/00_raw_data/raw_counts_clean.csv.h5ad\")"
   ]
  },
  {
   "cell_type": "markdown",
   "metadata": {},
   "source": [
    "Format data"
   ]
  },
  {
   "cell_type": "code",
   "execution_count": 8,
   "metadata": {},
   "outputs": [
    {
     "name": "stderr",
     "output_type": "stream",
     "text": [
      "/home/zhangyiming/.local/share/virtualenvs/scanpy-UGAxTWFP/lib/python3.6/site-packages/IPython/core/interactiveshell.py:3044: DtypeWarning: Columns (11,12,13,14,16,17,18) have mixed types. Specify dtype option on import or set low_memory=False.\n",
      "  interactivity=interactivity, compiler=compiler, result=result)\n"
     ]
    }
   ],
   "source": [
    "meta = pd.read_csv(\"../../../02_rds/meta.csv\", index_col=0)"
   ]
  },
  {
   "cell_type": "markdown",
   "metadata": {},
   "source": [
    "Remove data from NM"
   ]
  },
  {
   "cell_type": "code",
   "execution_count": 14,
   "metadata": {},
   "outputs": [],
   "source": [
    "cells = [x for x in data.obs.index if not x.startswith(\"BT\")]"
   ]
  },
  {
   "cell_type": "code",
   "execution_count": 15,
   "metadata": {},
   "outputs": [],
   "source": [
    "mat = data.to_df().loc[cells, ]"
   ]
  },
  {
   "cell_type": "code",
   "execution_count": 17,
   "metadata": {},
   "outputs": [],
   "source": [
    "mat = mat.loc[cells, ]"
   ]
  },
  {
   "cell_type": "code",
   "execution_count": 18,
   "metadata": {},
   "outputs": [],
   "source": [
    "data = sc.AnnData(mat, obs = data.obs.loc[cells, :])"
   ]
  },
  {
   "cell_type": "code",
   "execution_count": 64,
   "metadata": {},
   "outputs": [],
   "source": [
    "data.obs[\"Disease\"] = [\"Other\" for i in range(data.obs.shape[0])]\n",
    "\n",
    "data.obs[\"Disease\"] = meta[\"Disease\"]\n",
    "\n",
    "data.obs.loc[pd.isna(data.obs[\"Disease\"]), \"Disease\"] = \"Other\""
   ]
  },
  {
   "cell_type": "code",
   "execution_count": 24,
   "metadata": {},
   "outputs": [
    {
     "name": "stderr",
     "output_type": "stream",
     "text": [
      "... storing 'Disease' as categorical\n"
     ]
    }
   ],
   "source": [
    "data.write(\"../../../02_rds/scanpy_classifer.h5ad\")"
   ]
  },
  {
   "cell_type": "code",
   "execution_count": 4,
   "metadata": {},
   "outputs": [],
   "source": [
    "data = sc.read_h5ad(\"../../../02_rds/scanpy_classifer.h5ad\")"
   ]
  },
  {
   "cell_type": "markdown",
   "metadata": {},
   "source": [
    "## 1. get immu cell genes"
   ]
  },
  {
   "cell_type": "code",
   "execution_count": 28,
   "metadata": {},
   "outputs": [],
   "source": [
    "immu_cells = [\n",
    "    'B_cells',\n",
    "    'Granulocyte',\n",
    "    'CD8',\n",
    "    'CD4',\n",
    "    'Neuroendocrine',\n",
    "    'Mast',\n",
    "    'Dendritic',\n",
    "    'Monocytes',\n",
    "    'Treg',\n",
    "    'NK'\n",
    "]\n",
    "\n",
    "markers = markers.loc[markers[\"ident\"].isin(immu_cells), :]"
   ]
  },
  {
   "cell_type": "markdown",
   "metadata": {},
   "source": [
    "## 2. Test PCA"
   ]
  },
  {
   "cell_type": "code",
   "execution_count": 35,
   "metadata": {},
   "outputs": [],
   "source": [
    "from sklearn.decomposition import PCA\n",
    "\n",
    "pca = PCA(n_components = 5, random_state = 0)\n",
    "\n",
    "res = pca.fit_transform(data.X)"
   ]
  },
  {
   "cell_type": "code",
   "execution_count": 66,
   "metadata": {},
   "outputs": [],
   "source": [
    "def make_pca_plot(pca, object, pcs=(1, 2)):\n",
    "    u\"\"\"\n",
    "    make pca scatter plots\n",
    "    \n",
    "    \"\"\"\n",
    "    pca = pd.DataFrame(pca)\n",
    "    pca.columns = [\"PC\" + str(i + 1) for i in range(pca.shape[1]) ]\n",
    "    pca.index = object.obs.index\n",
    "\n",
    "    pca[\"Disease\"] = object.obs[\"Disease\"]\n",
    "        \n",
    "    sns.scatterplot(data=pca, x=\"PC\" + str(pcs[0]), y=\"PC\" + str(pcs[1]), hue=\"Disease\")"
   ]
  },
  {
   "cell_type": "code",
   "execution_count": 67,
   "metadata": {},
   "outputs": [
    {
     "data": {
      "image/png": "[encoded data removed]",
      "text/plain": [
       "<Figure size 432x288 with 1 Axes>"
      ]
     },
     "metadata": {
      "needs_background": "light"
     },
     "output_type": "display_data"
    }
   ],
   "source": [
    "make_pca_plot(res, data)"
   ]
  },
  {
   "cell_type": "code",
   "execution_count": 69,
   "metadata": {},
   "outputs": [],
   "source": [
    "res = pca.fit_transform(data.to_df().loc[:, markers[\"gene\"].unique()])"
   ]
  },
  {
   "cell_type": "code",
   "execution_count": 70,
   "metadata": {},
   "outputs": [
    {
     "data": {
      "image/png": "[encoded data removed]",
      "text/plain": [
       "<Figure size 432x288 with 1 Axes>"
      ]
     },
     "metadata": {
      "needs_background": "light"
     },
     "output_type": "display_data"
    }
   ],
   "source": [
    "make_pca_plot(res, data)"
   ]
  },
  {
   "cell_type": "code",
   "execution_count": 71,
   "metadata": {},
   "outputs": [
    {
     "data": {
      "text/plain": [
       "457"
      ]
     },
     "execution_count": 71,
     "metadata": {},
     "output_type": "execute_result"
    }
   ],
   "source": [
    "len(markers[\"gene\"].unique())"
   ]
  },
  {
   "cell_type": "markdown",
   "metadata": {},
   "source": [
    "## 3. try RandomForest"
   ]
  },
  {
   "cell_type": "code",
   "execution_count": 5,
   "metadata": {},
   "outputs": [],
   "source": [
    "STAGE = {\n",
    "    \"LUAD\": 1,\n",
    "    \"LUSC\": 2,\n",
    "    \"LUAD_Normal\": 3,\n",
    "    \"LUSC_Normal\": 4,\n",
    "    \"Other\": 5\n",
    "}\n",
    "\n",
    "\n",
    "def find_best_features_by_cv(\n",
    "    data, \n",
    "    init_features=None, \n",
    "    n_iter=10, \n",
    "    random_state=0, \n",
    "    n_estimitors=100, \n",
    "    max_depth=2, \n",
    "    n_jobs=10,\n",
    "    cv=10,\n",
    "    methods=\"RF\"\n",
    "):\n",
    "    u\"\"\"\n",
    "    Find best features by crossvalidation\n",
    "    :param data: \n",
    "    \"\"\"\n",
    "    clf = None\n",
    "    if methods == \"RF\":\n",
    "        clf = RandomForestClassifier(n_estimators=n_estimitors, max_depth=max_depth, random_state=random_state, n_jobs=n_jobs)\n",
    "    elif methods == \"SVM\":\n",
    "        clf = SVC(\n",
    "            C=1.0, \n",
    "            kernel=i, \n",
    "            degree=3, \n",
    "            gamma='auto_deprecated', \n",
    "            coef0=0.0, \n",
    "            shrinking=True, \n",
    "            probability=False, \n",
    "            tol=0.001, \n",
    "            cache_size=200, \n",
    "            class_weight=None, \n",
    "            verbose=False, \n",
    "            max_iter=-1, \n",
    "            decision_function_shape='ovr', \n",
    "            random_state=random_state\n",
    "        )\n",
    "    elif methods == \"KNN\":\n",
    "        clf = KNeighborsClassifier(n_neighbors=30)\n",
    "    elif methods == \"ANN\":\n",
    "        clf = MLPClassifier()\n",
    "    \n",
    "    if init_features is None:\n",
    "        init_features = data.to_df().columns\n",
    "        \n",
    "    init_features = list(set(init_features) & set(data.to_df().columns))\n",
    "            \n",
    "    res = []\n",
    "    for i in range(n_iter):\n",
    "        mat = data.to_df().loc[:, init_features]\n",
    "        cv_results = cross_validate(clf, X=mat, y=data.obs[\"Disease\"], cv=cv, n_jobs=n_jobs, return_estimator=True)\n",
    "    \n",
    "        res.append(\n",
    "            {\n",
    "                \"iter\": i,\n",
    "                \"test_score\": cv_results[\"test_score\"],\n",
    "                \"features\": init_features\n",
    "            }\n",
    "        )\n",
    "        \n",
    "        importance = [] \n",
    "        for idx, estimator in enumerate(cv_results[\"estimator\"]):\n",
    "            importance.append(\n",
    "                pd.DataFrame(\n",
    "                    estimator.feature_importances_,\n",
    "                    index=init_features,\n",
    "                )\n",
    "            )\n",
    "\n",
    "\n",
    "        importance = pd.concat(importance, axis=1)\n",
    "        \n",
    "        importance = importance > 0\n",
    "        importance = importance.sum(axis=1)\n",
    "        \n",
    "        init_features = importance[importance > (cv / 2)].index\n",
    "        \n",
    "    return res\n",
    "\n",
    "\n",
    "def test_classifer(\n",
    "    train_data,\n",
    "    test_data,\n",
    "    features=None,\n",
    "    n_iter=10, \n",
    "    random_state=0, \n",
    "    n_estimitors=100, \n",
    "    max_depth=2, \n",
    "    n_jobs=10,\n",
    "    cv=10\n",
    "):\n",
    "    u\"\"\"\n",
    "    Test classifer train by single cells data set on bulk data set\n",
    "    \"\"\"\n",
    "    \n",
    "    rf = RandomForestClassifier(n_estimators=n_estimitors, max_depth=max_depth, random_state=random_state, n_jobs=n_jobs)\n",
    "    \n",
    "    if features is None:\n",
    "        features = list(set(train_data.to_df().columns) & set(test_data.to_df().columns))\n",
    "        \n",
    "    features = list(set(features) & set(train_data.to_df().columns) & set(test_data.to_df()))\n",
    "    \n",
    "    res = []\n",
    "    for i in range(n_iter):\n",
    "        mat = train_data.to_df().loc[:, features]\n",
    "        \n",
    "        rf.fit(mat, train_data.obs[\"Disease\"])\n",
    "            \n",
    "        res.append(\n",
    "            {\n",
    "                \"iter\": i,\n",
    "                \"test_score\": rf.score(test_data.to_df().loc[:, features], test_data.obs[\"Disease\"]),\n",
    "                \"features\": features\n",
    "            }\n",
    "        )\n",
    "            \n",
    "        sel_features = []\n",
    "\n",
    "        for idx, x in enumerate(rf.feature_importances_):\n",
    "            if x > 0:\n",
    "                sel_features.append(features[idx])\n",
    "                \n",
    "        features = sel_features\n",
    "        \n",
    "    return res\n",
    "    \n",
    "    "
   ]
  },
  {
   "cell_type": "code",
   "execution_count": 123,
   "metadata": {},
   "outputs": [
    {
     "name": "stdout",
     "output_type": "stream",
     "text": [
      "[0.31927152 0.41859002 0.32187562 0.37661435 0.33969137 0.37381197\n",
      " 0.40141078 0.53427606 0.38638847 0.29865872]\n",
      "[0.32857616 0.41822577 0.32432611 0.37290549 0.34111531 0.38219028\n",
      " 0.41167704 0.53606438 0.40245074 0.30488491]\n",
      "[0.32884106 0.42087486 0.31783562 0.38380025 0.35022187 0.38209094\n",
      " 0.41531991 0.5023513  0.40933929 0.30197052]\n",
      "[0.32513245 0.42210007 0.3211471  0.37111729 0.34144645 0.36957314\n",
      " 0.41406147 0.52023447 0.41235304 0.30163934]\n",
      "[0.32917219 0.42021259 0.32051792 0.38787337 0.34893039 0.37901116\n",
      " 0.41147834 0.5218572  0.41536678 0.30392449]\n",
      "[0.32261589 0.41796086 0.31482217 0.37313729 0.33899596 0.36523496\n",
      " 0.39124387 0.51569744 0.39950323 0.29948667]\n",
      "[0.32261589 0.41796086 0.31482217 0.37313729 0.33899596 0.36523496\n",
      " 0.39124387 0.51569744 0.39950323 0.29948667]\n",
      "[0.32261589 0.41796086 0.31482217 0.37313729 0.33899596 0.36523496\n",
      " 0.39124387 0.51569744 0.39950323 0.29948667]\n",
      "[0.32261589 0.41796086 0.31482217 0.37313729 0.33899596 0.36523496\n",
      " 0.39124387 0.51569744 0.39950323 0.29948667]\n",
      "[0.32261589 0.41796086 0.31482217 0.37313729 0.33899596 0.36523496\n",
      " 0.39124387 0.51569744 0.39950323 0.29948667]\n"
     ]
    }
   ],
   "source": [
    "# Test all marker genes to classify all cells\n",
    "res = find_best_features_by_cv(data, markers[\"gene\"].unique())\n",
    "for i in res:\n",
    "    print(i[\"test_score\"])"
   ]
  },
  {
   "cell_type": "code",
   "execution_count": 9,
   "metadata": {},
   "outputs": [
    {
     "data": {
      "text/plain": [
       "AnnData object with n_obs × n_vars = 127593 × 17277 \n",
       "    obs: 'Disease', 'Cell'"
      ]
     },
     "execution_count": 9,
     "metadata": {},
     "output_type": "execute_result"
    }
   ],
   "source": [
    "data_cancer = sc.AnnData(\n",
    "    data.to_df().loc[[x in [\"LUAD\", \"LUSC\"] for x in data.obs[\"Disease\"]], :]\n",
    ")\n",
    "\n",
    "data_cancer.obs[\"Disease\"] = data.obs.loc[data_cancer.obs.index, \"Disease\"]\n",
    "data_cancer.obs[\"Cell\"] = meta.loc[data_cancer.obs.index, \"cell_name\"]\n",
    "\n",
    "data_cancer"
   ]
  },
  {
   "cell_type": "code",
   "execution_count": 162,
   "metadata": {},
   "outputs": [
    {
     "data": {
      "text/html": [
       "<div>\n",
       "<style scoped>\n",
       "    .dataframe tbody tr th:only-of-type {\n",
       "        vertical-align: middle;\n",
       "    }\n",
       "\n",
       "    .dataframe tbody tr th {\n",
       "        vertical-align: top;\n",
       "    }\n",
       "\n",
       "    .dataframe thead th {\n",
       "        text-align: right;\n",
       "    }\n",
       "</style>\n",
       "<table border=\"1\" class=\"dataframe\">\n",
       "  <thead>\n",
       "    <tr style=\"text-align: right;\">\n",
       "      <th></th>\n",
       "      <th>Disease</th>\n",
       "      <th>Cell</th>\n",
       "    </tr>\n",
       "    <tr>\n",
       "      <th>index</th>\n",
       "      <th></th>\n",
       "      <th></th>\n",
       "    </tr>\n",
       "  </thead>\n",
       "  <tbody>\n",
       "    <tr>\n",
       "      <th>AK655_AAACCTGAGTCGTTTG-1</th>\n",
       "      <td>LUAD</td>\n",
       "      <td>Ciliated</td>\n",
       "    </tr>\n",
       "    <tr>\n",
       "      <th>AK655_AAACCTGGTGTCAATC-1</th>\n",
       "      <td>LUAD</td>\n",
       "      <td>Alveolar II</td>\n",
       "    </tr>\n",
       "    <tr>\n",
       "      <th>AK655_AAACCTGTCAGCAACT-1</th>\n",
       "      <td>LUAD</td>\n",
       "      <td>Monocytes</td>\n",
       "    </tr>\n",
       "    <tr>\n",
       "      <th>AK655_AAAGATGGTCGGGTCT-1</th>\n",
       "      <td>LUAD</td>\n",
       "      <td>Monocytes</td>\n",
       "    </tr>\n",
       "    <tr>\n",
       "      <th>AK655_AAAGATGTCGCCCTTA-1</th>\n",
       "      <td>LUAD</td>\n",
       "      <td>Granulocyte</td>\n",
       "    </tr>\n",
       "  </tbody>\n",
       "</table>\n",
       "</div>"
      ],
      "text/plain": [
       "                         Disease         Cell\n",
       "index                                        \n",
       "AK655_AAACCTGAGTCGTTTG-1    LUAD     Ciliated\n",
       "AK655_AAACCTGGTGTCAATC-1    LUAD  Alveolar II\n",
       "AK655_AAACCTGTCAGCAACT-1    LUAD    Monocytes\n",
       "AK655_AAAGATGGTCGGGTCT-1    LUAD    Monocytes\n",
       "AK655_AAAGATGTCGCCCTTA-1    LUAD  Granulocyte"
      ]
     },
     "execution_count": 162,
     "metadata": {},
     "output_type": "execute_result"
    }
   ],
   "source": [
    "data_cancer.obs.head()"
   ]
  },
  {
   "cell_type": "code",
   "execution_count": 124,
   "metadata": {},
   "outputs": [
    {
     "name": "stdout",
     "output_type": "stream",
     "text": [
      "[0.70339315 0.67335423 0.74629673 0.80280586 0.83258876 0.66321812\n",
      " 0.74598323 0.81127048 0.83713457 0.60788463]\n",
      "[0.68309694 0.68628527 0.74081041 0.77725527 0.81307312 0.68006897\n",
      " 0.75711263 0.80868407 0.80492202 0.55231601]\n",
      "[0.6706371  0.67163009 0.74167254 0.78281997 0.81526765 0.67803119\n",
      " 0.72928913 0.81236774 0.80288424 0.56179951]\n",
      "[0.69234386 0.68111285 0.75092092 0.80131672 0.82482953 0.67685555\n",
      " 0.72819186 0.79802492 0.81558116 0.57488831]\n",
      "[0.6868584  0.67648903 0.72607571 0.80492202 0.81377851 0.67528803\n",
      " 0.72301905 0.80139509 0.82608355 0.57880712]\n",
      "[0.68011911 0.6830721  0.72732973 0.7922251  0.81832432 0.67991222\n",
      " 0.71980563 0.80617603 0.81338663 0.56321028]\n",
      "[0.68536949 0.68714734 0.72866212 0.79896544 0.81761894 0.67709068\n",
      " 0.71902187 0.81322988 0.8390156  0.56712909]\n",
      "[0.66914819 0.6757837  0.73501058 0.79269535 0.81354338 0.68249863\n",
      " 0.73273768 0.8056274  0.81221099 0.55882122]\n",
      "[0.70817334 0.67774295 0.72560545 0.81103535 0.81424877 0.67999059\n",
      " 0.71408418 0.8151109  0.81981347 0.57332079]\n",
      "[0.6885824  0.68095611 0.73022964 0.79590877 0.81761894 0.67928521\n",
      " 0.7159652  0.80993808 0.82153774 0.56391567]\n"
     ]
    }
   ],
   "source": [
    "# Test all marker genes to classify cancer cells\n",
    "res = find_best_features_by_cv(data_cancer, markers[\"gene\"].unique())\n",
    "for i in res:\n",
    "    print(i[\"test_score\"])"
   ]
  },
  {
   "cell_type": "code",
   "execution_count": 125,
   "metadata": {},
   "outputs": [
    {
     "name": "stdout",
     "output_type": "stream",
     "text": [
      "[0.68333203 0.66152038 0.72725135 0.80037621 0.83243201 0.61509523\n",
      " 0.72090289 0.78901168 0.83321577 0.65451838]\n",
      "[0.68458585 0.6476489  0.71157614 0.77364997 0.81910808 0.62450035\n",
      " 0.72827024 0.78650364 0.84073987 0.6449565 ]\n",
      "[0.68678003 0.6637931  0.73015127 0.79590877 0.82647543 0.64840505\n",
      " 0.72717298 0.78368211 0.83588055 0.63954855]\n",
      "[0.68678003 0.6637931  0.73015127 0.79590877 0.82647543 0.64840505\n",
      " 0.72717298 0.78368211 0.83588055 0.63954855]\n",
      "[0.68678003 0.6637931  0.73015127 0.79590877 0.82647543 0.64840505\n",
      " 0.72717298 0.78368211 0.83588055 0.63954855]\n",
      "[0.68678003 0.6637931  0.73015127 0.79590877 0.82647543 0.64840505\n",
      " 0.72717298 0.78368211 0.83588055 0.63954855]\n",
      "[0.68678003 0.6637931  0.73015127 0.79590877 0.82647543 0.64840505\n",
      " 0.72717298 0.78368211 0.83588055 0.63954855]\n",
      "[0.68678003 0.6637931  0.73015127 0.79590877 0.82647543 0.64840505\n",
      " 0.72717298 0.78368211 0.83588055 0.63954855]\n",
      "[0.68678003 0.6637931  0.73015127 0.79590877 0.82647543 0.64840505\n",
      " 0.72717298 0.78368211 0.83588055 0.63954855]\n",
      "[0.68678003 0.6637931  0.73015127 0.79590877 0.82647543 0.64840505\n",
      " 0.72717298 0.78368211 0.83588055 0.63954855]\n"
     ]
    }
   ],
   "source": [
    "# Test all marker genes (logFC > 1) to classify canccer cells\n",
    "res = find_best_features_by_cv(data_cancer, markers.loc[markers[\"avg_logFC\"] > 1, \"gene\"].unique())\n",
    "for i in res:\n",
    "    print(i[\"test_score\"])"
   ]
  },
  {
   "cell_type": "code",
   "execution_count": 126,
   "metadata": {},
   "outputs": [
    {
     "name": "stdout",
     "output_type": "stream",
     "text": [
      "[0.69187368 0.6242163  0.72160828 0.75146955 0.81965671 0.57645584\n",
      " 0.77372835 0.83368603 0.81174073 0.64958069]\n",
      "[0.71765536 0.65689655 0.74112391 0.7683204  0.80194373 0.59079865\n",
      " 0.77459049 0.83831021 0.81127048 0.6466024 ]\n",
      "[0.71765536 0.65689655 0.74112391 0.7683204  0.80194373 0.59079865\n",
      " 0.77459049 0.83831021 0.81127048 0.6466024 ]\n",
      "[0.71765536 0.65689655 0.74112391 0.7683204  0.80194373 0.59079865\n",
      " 0.77459049 0.83831021 0.81127048 0.6466024 ]\n",
      "[0.71765536 0.65689655 0.74112391 0.7683204  0.80194373 0.59079865\n",
      " 0.77459049 0.83831021 0.81127048 0.6466024 ]\n",
      "[0.71765536 0.65689655 0.74112391 0.7683204  0.80194373 0.59079865\n",
      " 0.77459049 0.83831021 0.81127048 0.6466024 ]\n",
      "[0.71765536 0.65689655 0.74112391 0.7683204  0.80194373 0.59079865\n",
      " 0.77459049 0.83831021 0.81127048 0.6466024 ]\n",
      "[0.71765536 0.65689655 0.74112391 0.7683204  0.80194373 0.59079865\n",
      " 0.77459049 0.83831021 0.81127048 0.6466024 ]\n",
      "[0.71765536 0.65689655 0.74112391 0.7683204  0.80194373 0.59079865\n",
      " 0.77459049 0.83831021 0.81127048 0.6466024 ]\n",
      "[0.71765536 0.65689655 0.74112391 0.7683204  0.80194373 0.59079865\n",
      " 0.77459049 0.83831021 0.81127048 0.6466024 ]\n"
     ]
    }
   ],
   "source": [
    "# Test all marker genes (logFC > 1.5) to classify cancer cells\n",
    "res = find_best_features_by_cv(data_cancer, markers.loc[markers[\"avg_logFC\"] > 1.5, \"gene\"].unique())\n",
    "for i in res:\n",
    "    print(i[\"test_score\"])"
   ]
  },
  {
   "cell_type": "markdown",
   "metadata": {},
   "source": [
    "## 3. Using sklearn SelectFromModel to find best features"
   ]
  },
  {
   "cell_type": "code",
   "execution_count": 10,
   "metadata": {},
   "outputs": [
    {
     "data": {
      "text/plain": [
       "SelectFromModel(estimator=RandomForestClassifier(bootstrap=True,\n",
       "                                                 class_weight=None,\n",
       "                                                 criterion='gini', max_depth=2,\n",
       "                                                 max_features='auto',\n",
       "                                                 max_leaf_nodes=None,\n",
       "                                                 min_impurity_decrease=0.0,\n",
       "                                                 min_impurity_split=None,\n",
       "                                                 min_samples_leaf=1,\n",
       "                                                 min_samples_split=2,\n",
       "                                                 min_weight_fraction_leaf=0.0,\n",
       "                                                 n_estimators=100, n_jobs=None,\n",
       "                                                 oob_score=False,\n",
       "                                                 random_state=0, verbose=0,\n",
       "                                                 warm_start=False),\n",
       "                max_features=None, norm_order=1, prefit=False, threshold=None)"
      ]
     },
     "execution_count": 10,
     "metadata": {},
     "output_type": "execute_result"
    }
   ],
   "source": [
    "sel = SelectFromModel(RandomForestClassifier(n_estimators=100, max_depth=2, random_state=0))\n",
    "\n",
    "sel.fit(data.to_df(), data.obs[\"Disease\"])"
   ]
  },
  {
   "cell_type": "code",
   "execution_count": 11,
   "metadata": {},
   "outputs": [],
   "source": [
    "features_all = data.to_df().loc[:, sel.get_support()].columns"
   ]
  },
  {
   "cell_type": "code",
   "execution_count": 127,
   "metadata": {},
   "outputs": [
    {
     "name": "stdout",
     "output_type": "stream",
     "text": [
      "[0.4068543  0.43087519 0.3863832  0.43188291 0.39866879 0.46868894\n",
      " 0.46913498 0.5406014  0.40851134 0.25398245]\n",
      "[0.47930464 0.42137157 0.46320948 0.46175243 0.44562554 0.49028049\n",
      " 0.43528944 0.52665916 0.42142739 0.26901805]\n",
      "[0.46397351 0.42084175 0.43867144 0.45519571 0.42575667 0.49077723\n",
      " 0.44605246 0.5308319  0.41596291 0.25401557]\n",
      "[0.45930464 0.42395444 0.45754686 0.46109014 0.4392675  0.4857105\n",
      " 0.43075242 0.47748046 0.41751946 0.25938069]\n",
      "[0.4831457  0.42113977 0.45933506 0.4605603  0.44334062 0.48935325\n",
      " 0.43280567 0.48407074 0.42348071 0.25928134]\n",
      "[0.47807947 0.42160336 0.46860719 0.46201735 0.44334062 0.48650528\n",
      " 0.43353424 0.49625778 0.41831429 0.25699619]\n",
      "[0.48069536 0.41935163 0.45900391 0.45536128 0.44208226 0.48802861\n",
      " 0.42803683 0.50476884 0.42722305 0.26557377]\n",
      "[0.48069536 0.41935163 0.45900391 0.45536128 0.44208226 0.48802861\n",
      " 0.42803683 0.50476884 0.42722305 0.26557377]\n",
      "[0.48069536 0.41935163 0.45900391 0.45536128 0.44208226 0.48802861\n",
      " 0.42803683 0.50476884 0.42722305 0.26557377]\n",
      "[0.48069536 0.41935163 0.45900391 0.45536128 0.44208226 0.48802861\n",
      " 0.42803683 0.50476884 0.42722305 0.26557377]\n"
     ]
    }
   ],
   "source": [
    "res = find_best_features_by_cv(data, features_all)\n",
    "for i in res:\n",
    "    print(i[\"test_score\"])"
   ]
  },
  {
   "cell_type": "code",
   "execution_count": 128,
   "metadata": {},
   "outputs": [
    {
     "name": "stdout",
     "output_type": "stream",
     "text": [
      "[0.80424732 0.66136364 0.84121013 0.91927267 0.84559918 0.70601144\n",
      " 0.79583039 0.87169841 0.82467278 0.66008308]\n",
      "[0.88237599 0.64717868 0.8432479  0.90540011 0.82968885 0.71980563\n",
      " 0.82678893 0.94678266 0.78587664 0.69754683]\n",
      "[0.84546666 0.64741379 0.83619406 0.91159182 0.82937534 0.71635708\n",
      " 0.79716279 0.96700368 0.77905792 0.71541657]\n",
      "[0.83794373 0.65415361 0.82357552 0.89474097 0.82224312 0.74692374\n",
      " 0.83470491 0.96880633 0.78814954 0.70953837]\n",
      "[0.85259776 0.64858934 0.84019124 0.89254644 0.81244612 0.75405596\n",
      " 0.83196175 0.97531154 0.7850145  0.66251274]\n",
      "[0.88511872 0.64874608 0.8445803  0.90007054 0.82545654 0.75099929\n",
      " 0.83337252 0.97515479 0.78979544 0.67881495]\n",
      "[0.8747747  0.65446708 0.84269927 0.91174857 0.81965671 0.75813152\n",
      " 0.8259268  0.97562505 0.7814092  0.68861196]\n",
      "[0.86121777 0.64929467 0.84646132 0.91613763 0.82647543 0.72889725\n",
      " 0.81534603 0.97194137 0.79465475 0.69315777]\n",
      "[0.87367761 0.65148903 0.83533192 0.90273532 0.81957834 0.75444784\n",
      " 0.82130261 0.97280351 0.78822792 0.68430128]\n",
      "[0.89115273 0.65384013 0.8321185  0.89913003 0.81660005 0.75374246\n",
      " 0.82929697 0.97272514 0.77521749 0.67740419]\n"
     ]
    }
   ],
   "source": [
    "res = find_best_features_by_cv(data_cancer, features_all)\n",
    "for i in res:\n",
    "    print(i[\"test_score\"])"
   ]
  },
  {
   "cell_type": "markdown",
   "metadata": {},
   "source": [
    "#### Test on Bulk data\n",
    "##### SYSU"
   ]
  },
  {
   "cell_type": "code",
   "execution_count": 12,
   "metadata": {},
   "outputs": [],
   "source": [
    "adc = pd.read_csv(\"../../../SYSU/ADC.csv\", index_col=0)\n",
    "scc = pd.read_csv(\"../../../SYSU/SCC.csv\", index_col=0)"
   ]
  },
  {
   "cell_type": "code",
   "execution_count": 13,
   "metadata": {},
   "outputs": [],
   "source": [
    "mat = pd.concat([adc.transpose(), scc.transpose()])"
   ]
  },
  {
   "cell_type": "code",
   "execution_count": 14,
   "metadata": {},
   "outputs": [],
   "source": [
    "data_sysu = sc.AnnData(mat)\n",
    "\n",
    "data_sysu.obs[\"Disease\"] = [\"LUSC\" if x in scc.columns else \"LUAD\" for x in data_sysu.obs.index]"
   ]
  },
  {
   "cell_type": "code",
   "execution_count": 142,
   "metadata": {},
   "outputs": [
    {
     "name": "stdout",
     "output_type": "stream",
     "text": [
      "0.7142857142857143 192\n",
      "0.7061224489795919 80\n",
      "0.6959183673469388 61\n",
      "0.6918367346938775 49\n",
      "0.7204081632653061 45\n",
      "0.7306122448979592 44\n",
      "0.7244897959183674 43\n",
      "0.726530612244898 40\n",
      "0.726530612244898 39\n",
      "0.7285714285714285 33\n",
      "Train by bulk and test on bulk\n",
      "[0.74       0.76       0.79591837 0.71428571 0.69387755 0.75510204\n",
      " 0.7755102  0.75510204 0.8125     0.77083333] Mean score:  0.757312925170068\n",
      "[0.72       0.76       0.81632653 0.67346939 0.69387755 0.75510204\n",
      " 0.7755102  0.75510204 0.8125     0.77083333] Mean score:  0.7532721088435373\n",
      "[0.74       0.76       0.83673469 0.67346939 0.69387755 0.75510204\n",
      " 0.7755102  0.73469388 0.8125     0.79166667] Mean score:  0.7573554421768708\n",
      "[0.74       0.76       0.83673469 0.67346939 0.69387755 0.75510204\n",
      " 0.73469388 0.73469388 0.8125     0.77083333] Mean score:  0.7511904761904761\n",
      "[0.72       0.76       0.81632653 0.67346939 0.69387755 0.75510204\n",
      " 0.7755102  0.73469388 0.8125     0.79166667] Mean score:  0.7533146258503401\n",
      "[0.72       0.76       0.81632653 0.67346939 0.69387755 0.75510204\n",
      " 0.75510204 0.75510204 0.83333333 0.79166667] Mean score:  0.7553979591836735\n",
      "[0.74       0.76       0.81632653 0.71428571 0.71428571 0.73469388\n",
      " 0.7755102  0.73469388 0.83333333 0.79166667] Mean score:  0.7614795918367347\n",
      "[0.74       0.76       0.81632653 0.71428571 0.71428571 0.73469388\n",
      " 0.7755102  0.73469388 0.83333333 0.79166667] Mean score:  0.7614795918367347\n",
      "[0.74       0.76       0.81632653 0.71428571 0.71428571 0.73469388\n",
      " 0.7755102  0.73469388 0.83333333 0.79166667] Mean score:  0.7614795918367347\n",
      "[0.74       0.76       0.81632653 0.71428571 0.71428571 0.73469388\n",
      " 0.7755102  0.73469388 0.83333333 0.79166667] Mean score:  0.7614795918367347\n"
     ]
    }
   ],
   "source": [
    "# Try with selected features\n",
    "res = test_classifer(train_data=data_cancer, test_data=data_sysu, features=features_all)\n",
    "\n",
    "for i in res:\n",
    "    print(i[\"test_score\"], len(i[\"features\"]))\n",
    "    \n",
    "    \n",
    "print(\"Train by bulk and test on bulk\")\n",
    "# Using features from cancer cells, to split cancer cells\n",
    "res = find_best_features_by_cv(data_sysu, features_all)\n",
    "for i in res:\n",
    "    print(i[\"test_score\"], \"Mean score: \", sum(i[\"test_score\"]) / len(i[\"test_score\"]))"
   ]
  },
  {
   "cell_type": "code",
   "execution_count": 143,
   "metadata": {},
   "outputs": [
    {
     "name": "stdout",
     "output_type": "stream",
     "text": [
      "0.5346938775510204 46\n",
      "0.5346938775510204 36\n",
      "0.5346938775510204 30\n",
      "0.5346938775510204 28\n",
      "0.5346938775510204 28\n",
      "0.5346938775510204 28\n",
      "0.5346938775510204 28\n",
      "0.5346938775510204 28\n",
      "0.5346938775510204 28\n",
      "0.5346938775510204 28\n",
      "Train by bulk and test on bulk\n",
      "[0.7        0.74       0.75510204 0.65306122 0.69387755 0.7755102\n",
      " 0.65306122 0.67346939 0.8125     0.75      ] Mean score:  0.7206581632653061\n",
      "[0.7        0.74       0.7755102  0.69387755 0.69387755 0.75510204\n",
      " 0.63265306 0.71428571 0.79166667 0.70833333] Mean score:  0.7205306122448979\n",
      "[0.7        0.74       0.7755102  0.69387755 0.71428571 0.73469388\n",
      " 0.65306122 0.69387755 0.79166667 0.72916667] Mean score:  0.7226139455782314\n",
      "[0.68       0.74       0.75510204 0.67346939 0.71428571 0.73469388\n",
      " 0.65306122 0.69387755 0.79166667 0.75      ] Mean score:  0.7186156462585035\n",
      "[0.7        0.74       0.75510204 0.67346939 0.73469388 0.75510204\n",
      " 0.65306122 0.69387755 0.83333333 0.72916667] Mean score:  0.726780612244898\n",
      "[0.7        0.74       0.75510204 0.67346939 0.73469388 0.75510204\n",
      " 0.65306122 0.69387755 0.83333333 0.72916667] Mean score:  0.726780612244898\n",
      "[0.7        0.74       0.75510204 0.67346939 0.73469388 0.75510204\n",
      " 0.65306122 0.69387755 0.83333333 0.72916667] Mean score:  0.726780612244898\n",
      "[0.7        0.74       0.75510204 0.67346939 0.73469388 0.75510204\n",
      " 0.65306122 0.69387755 0.83333333 0.72916667] Mean score:  0.726780612244898\n",
      "[0.7        0.74       0.75510204 0.67346939 0.73469388 0.75510204\n",
      " 0.65306122 0.69387755 0.83333333 0.72916667] Mean score:  0.726780612244898\n",
      "[0.7        0.74       0.75510204 0.67346939 0.73469388 0.75510204\n",
      " 0.65306122 0.69387755 0.83333333 0.72916667] Mean score:  0.726780612244898\n"
     ]
    }
   ],
   "source": [
    "# Try using markers\n",
    "res = test_classifer(train_data=data_cancer, features=markers.loc[markers[\"avg_logFC\"] > 1, \"gene\"].unique(), test_data=data_sysu)\n",
    "\n",
    "for i in res:\n",
    "    print(i[\"test_score\"], len(i[\"features\"]))\n",
    "    \n",
    "    \n",
    "print(\"Train by bulk and test on bulk\")\n",
    "# Using features from cancer cells, to split cancer cells\n",
    "res = find_best_features_by_cv(data_sysu, markers.loc[markers[\"avg_logFC\"] > 1, \"gene\"].unique())\n",
    "for i in res:\n",
    "    print(i[\"test_score\"], \"Mean score: \", sum(i[\"test_score\"]) / len(i[\"test_score\"]))"
   ]
  },
  {
   "cell_type": "code",
   "execution_count": 144,
   "metadata": {},
   "outputs": [
    {
     "name": "stdout",
     "output_type": "stream",
     "text": [
      "0.5346938775510204 281\n",
      "0.5346938775510204 88\n",
      "0.5346938775510204 56\n",
      "0.5346938775510204 46\n",
      "0.5346938775510204 41\n",
      "0.5346938775510204 38\n",
      "0.5346938775510204 34\n",
      "0.5346938775510204 33\n",
      "0.5346938775510204 31\n",
      "0.5346938775510204 30\n",
      "Train by bulk and test on bulk\n",
      "[0.7        0.74       0.7755102  0.67346939 0.73469388 0.83673469\n",
      " 0.65306122 0.73469388 0.83333333 0.79166667] Mean score:  0.7473163265306122\n",
      "[0.76       0.72       0.75510204 0.69387755 0.69387755 0.81632653\n",
      " 0.63265306 0.71428571 0.85416667 0.72916667] Mean score:  0.7369455782312926\n",
      "[0.7        0.72       0.79591837 0.63265306 0.67346939 0.83673469\n",
      " 0.65306122 0.73469388 0.8125     0.77083333] Mean score:  0.7329863945578231\n",
      "[0.7        0.72       0.83673469 0.71428571 0.73469388 0.85714286\n",
      " 0.65306122 0.75510204 0.85416667 0.75      ] Mean score:  0.7575187074829931\n",
      "[0.7        0.72       0.81632653 0.67346939 0.71428571 0.83673469\n",
      " 0.67346939 0.73469388 0.83333333 0.75      ] Mean score:  0.7452312925170068\n",
      "[0.68       0.74       0.7755102  0.65306122 0.75510204 0.83673469\n",
      " 0.69387755 0.73469388 0.8125     0.75      ] Mean score:  0.7431479591836735\n",
      "[0.7        0.72       0.79591837 0.67346939 0.73469388 0.83673469\n",
      " 0.65306122 0.69387755 0.83333333 0.75      ] Mean score:  0.739108843537415\n",
      "[0.7        0.72       0.81632653 0.69387755 0.75510204 0.85714286\n",
      " 0.65306122 0.73469388 0.79166667 0.75      ] Mean score:  0.747187074829932\n",
      "[0.68       0.72       0.79591837 0.67346939 0.71428571 0.85714286\n",
      " 0.65306122 0.73469388 0.79166667 0.77083333] Mean score:  0.7391071428571429\n",
      "[0.72       0.72       0.83673469 0.69387755 0.73469388 0.83673469\n",
      " 0.65306122 0.73469388 0.8125     0.77083333] Mean score:  0.751312925170068\n"
     ]
    }
   ],
   "source": [
    "# Try using markers\n",
    "res = test_classifer(train_data=data_cancer, features=markers.loc[markers[\"avg_logFC\"] > 0.5, \"gene\"].unique(), test_data=data_sysu)\n",
    "\n",
    "for i in res:\n",
    "    print(i[\"test_score\"], len(i[\"features\"]))\n",
    "    \n",
    "print(\"Train by bulk and test on bulk\")\n",
    "# Using features from cancer cells, to split cancer cells\n",
    "res = find_best_features_by_cv(data_sysu, markers.loc[markers[\"avg_logFC\"] > 0.5, \"gene\"].unique())\n",
    "for i in res:\n",
    "    print(i[\"test_score\"], \"Mean score: \", sum(i[\"test_score\"]) / len(i[\"test_score\"]))"
   ]
  },
  {
   "cell_type": "markdown",
   "metadata": {},
   "source": [
    "Select features from single cells (Only cancer cells)"
   ]
  },
  {
   "cell_type": "code",
   "execution_count": 15,
   "metadata": {},
   "outputs": [],
   "source": [
    "sel.fit(data_cancer.to_df(), data_cancer.obs[\"Disease\"])\n",
    "features_cancer = data_cancer.to_df().loc[:, sel.get_support()].columns"
   ]
  },
  {
   "cell_type": "code",
   "execution_count": 139,
   "metadata": {},
   "outputs": [
    {
     "name": "stdout",
     "output_type": "stream",
     "text": [
      "0.6816326530612244\n",
      "0.5877551020408164\n",
      "0.673469387755102\n",
      "0.5755102040816327\n",
      "0.6326530612244898\n",
      "0.6081632653061224\n",
      "0.6081632653061224\n",
      "0.6632653061224489\n",
      "0.6693877551020408\n",
      "0.6163265306122448\n"
     ]
    }
   ],
   "source": [
    "# Using features from cancer cells, to split all cells\n",
    "res = test_classifer(train_data=data, test_data=data_sysu, features=features_cancer)\n",
    "for i in res:\n",
    "    print(i[\"test_score\"])"
   ]
  },
  {
   "cell_type": "code",
   "execution_count": 145,
   "metadata": {},
   "outputs": [
    {
     "name": "stdout",
     "output_type": "stream",
     "text": [
      "0.6632653061224489 187\n",
      "0.6571428571428571 95\n",
      "0.6959183673469388 64\n",
      "0.7204081632653061 54\n",
      "0.7244897959183674 46\n",
      "0.7244897959183674 46\n",
      "0.7244897959183674 46\n",
      "0.7244897959183674 46\n",
      "0.7244897959183674 46\n",
      "0.7244897959183674 46\n",
      "Train by bulk and test on bulk\n",
      "[0.74       0.76       0.79591837 0.67346939 0.69387755 0.75510204\n",
      " 0.75510204 0.75510204 0.85416667 0.77083333] Mean score:  0.7553571428571428\n",
      "[0.74       0.76       0.79591837 0.67346939 0.67346939 0.7755102\n",
      " 0.75510204 0.7755102  0.83333333 0.8125    ] Mean score:  0.7594812925170069\n",
      "[0.74       0.76       0.79591837 0.69387755 0.69387755 0.79591837\n",
      " 0.75510204 0.73469388 0.85416667 0.77083333] Mean score:  0.7594387755102041\n",
      "[0.74       0.76       0.81632653 0.69387755 0.67346939 0.75510204\n",
      " 0.7755102  0.7755102  0.83333333 0.75      ] Mean score:  0.7573129251700679\n",
      "[0.74       0.76       0.79591837 0.71428571 0.67346939 0.75510204\n",
      " 0.7755102  0.75510204 0.85416667 0.77083333] Mean score:  0.7594387755102041\n",
      "[0.74       0.76       0.83673469 0.69387755 0.69387755 0.75510204\n",
      " 0.75510204 0.7755102  0.83333333 0.79166667] Mean score:  0.7635204081632653\n",
      "[0.74       0.76       0.83673469 0.69387755 0.69387755 0.79591837\n",
      " 0.7755102  0.73469388 0.85416667 0.79166667] Mean score:  0.7676445578231293\n",
      "[0.74       0.76       0.79591837 0.69387755 0.69387755 0.75510204\n",
      " 0.75510204 0.75510204 0.875      0.77083333] Mean score:  0.7594812925170067\n",
      "[0.74       0.76       0.81632653 0.73469388 0.69387755 0.7755102\n",
      " 0.7755102  0.75510204 0.85416667 0.79166667] Mean score:  0.7696853741496599\n",
      "[0.76       0.76       0.81632653 0.69387755 0.69387755 0.7755102\n",
      " 0.75510204 0.75510204 0.85416667 0.79166667] Mean score:  0.765562925170068\n"
     ]
    }
   ],
   "source": [
    "# Using features from cancer cells, to split cancer cells\n",
    "res = test_classifer(train_data=data_cancer, features=features_cancer, test_data=data_sysu)\n",
    "for i in res:\n",
    "    print(i[\"test_score\"], len(i[\"features\"]))\n",
    "    \n",
    "print(\"Train by bulk and test on bulk\")\n",
    "# Using features from cancer cells, to split cancer cells\n",
    "res = find_best_features_by_cv(data_sysu, features_cancer)\n",
    "for i in res:\n",
    "    print(i[\"test_score\"], \"Mean score: \", sum(i[\"test_score\"]) / len(i[\"test_score\"]))"
   ]
  },
  {
   "cell_type": "code",
   "execution_count": 146,
   "metadata": {},
   "outputs": [
    {
     "name": "stdout",
     "output_type": "stream",
     "text": [
      "[0.74       0.76       0.79591837 0.67346939 0.69387755 0.75510204\n",
      " 0.75510204 0.75510204 0.85416667 0.77083333] Mean score:  0.7553571428571428\n",
      "[0.74       0.76       0.79591837 0.67346939 0.67346939 0.7755102\n",
      " 0.75510204 0.7755102  0.83333333 0.8125    ] Mean score:  0.7594812925170069\n",
      "[0.74       0.76       0.79591837 0.69387755 0.69387755 0.79591837\n",
      " 0.75510204 0.73469388 0.85416667 0.77083333] Mean score:  0.7594387755102041\n",
      "[0.74       0.76       0.81632653 0.69387755 0.67346939 0.75510204\n",
      " 0.7755102  0.7755102  0.83333333 0.75      ] Mean score:  0.7573129251700679\n",
      "[0.74       0.76       0.79591837 0.71428571 0.67346939 0.75510204\n",
      " 0.7755102  0.75510204 0.85416667 0.77083333] Mean score:  0.7594387755102041\n",
      "[0.74       0.76       0.83673469 0.69387755 0.69387755 0.75510204\n",
      " 0.75510204 0.7755102  0.83333333 0.79166667] Mean score:  0.7635204081632653\n",
      "[0.74       0.76       0.83673469 0.69387755 0.69387755 0.79591837\n",
      " 0.7755102  0.73469388 0.85416667 0.79166667] Mean score:  0.7676445578231293\n",
      "[0.74       0.76       0.79591837 0.69387755 0.69387755 0.75510204\n",
      " 0.75510204 0.75510204 0.875      0.77083333] Mean score:  0.7594812925170067\n",
      "[0.74       0.76       0.81632653 0.73469388 0.69387755 0.7755102\n",
      " 0.7755102  0.75510204 0.85416667 0.79166667] Mean score:  0.7696853741496599\n",
      "[0.76       0.76       0.81632653 0.69387755 0.69387755 0.7755102\n",
      " 0.75510204 0.75510204 0.85416667 0.79166667] Mean score:  0.765562925170068\n"
     ]
    }
   ],
   "source": [
    "# Try with selected features\n",
    "res = find_best_features_by_cv(data_sysu, features_cancer)\n",
    "\n",
    "for i in res:\n",
    "    print(i[\"test_score\"], \"Mean score: \", sum(i[\"test_score\"]) / len(i[\"test_score\"]))"
   ]
  },
  {
   "cell_type": "markdown",
   "metadata": {},
   "source": [
    "##### TCGA"
   ]
  },
  {
   "cell_type": "code",
   "execution_count": 16,
   "metadata": {},
   "outputs": [],
   "source": [
    "adc = pd.read_csv(\"../../../TCGA/LUAD_raw_expresion.csv\", index_col=0)\n",
    "scc = pd.read_csv(\"../../../TCGA/LUSC_raw_expresion.csv\", index_col=0)"
   ]
  },
  {
   "cell_type": "code",
   "execution_count": 17,
   "metadata": {},
   "outputs": [],
   "source": [
    "adc.index = [x.split(\"|\")[0] for x in adc.index]\n",
    "scc.index = [x.split(\"|\")[0] for x in scc.index]\n",
    "\n",
    "mat = pd.concat([adc.transpose(), scc.transpose()])\n",
    "cols = {i: idx for idx, i in enumerate(mat.columns)}\n",
    "mat = mat.iloc[:, list(cols.values())]\n",
    "\n",
    "data_tcga = sc.AnnData(mat)\n",
    "\n",
    "data_tcga.obs[\"Disease\"] = [\"LUSC\" if x in scc.columns else \"LUAD\" for x in data_tcga.obs.index]"
   ]
  },
  {
   "cell_type": "code",
   "execution_count": 149,
   "metadata": {},
   "outputs": [
    {
     "name": "stdout",
     "output_type": "stream",
     "text": [
      "0.5128432240921169 182\n",
      "0.5172719220549159 84\n",
      "0.5783879539415412 58\n",
      "0.5110717449069974 48\n",
      "0.5181576616474757 39\n",
      "0.5199291408325952 37\n",
      "0.5287865367581931 34\n",
      "0.5137289636846767 32\n",
      "0.5137289636846767 32\n",
      "0.5137289636846767 32\n",
      "[0.90350877 0.86842105 0.87719298 0.92035398 0.92035398 0.92035398\n",
      " 0.91964286 0.92857143 0.94642857 0.91964286] Mean score:  0.9124470468205914\n",
      "[0.89473684 0.85964912 0.88596491 0.92920354 0.92035398 0.91150442\n",
      " 0.90178571 0.9375     0.95535714 0.91964286] Mean score:  0.9115698538381352\n",
      "[0.9122807  0.86842105 0.87719298 0.92920354 0.92035398 0.92035398\n",
      " 0.91071429 0.92857143 0.95535714 0.91964286] Mean score:  0.9142091955552598\n",
      "[0.9122807  0.87719298 0.87719298 0.92035398 0.92920354 0.92920354\n",
      " 0.90178571 0.92857143 0.95535714 0.91964286] Mean score:  0.9150784871470712\n",
      "[0.90350877 0.85964912 0.88596491 0.92035398 0.92035398 0.92035398\n",
      " 0.91071429 0.92857143 0.95535714 0.91964286] Mean score:  0.9124470468205914\n",
      "[0.9122807  0.87719298 0.87719298 0.92920354 0.92035398 0.92920354\n",
      " 0.90178571 0.92857143 0.95535714 0.92857143] Mean score:  0.9159713442899283\n",
      "[0.9122807  0.86842105 0.88596491 0.92035398 0.92920354 0.9380531\n",
      " 0.91071429 0.92857143 0.95535714 0.91964286] Mean score:  0.9168563000421408\n",
      "[0.9122807  0.86842105 0.87719298 0.92920354 0.92035398 0.92035398\n",
      " 0.91071429 0.92857143 0.95535714 0.91964286] Mean score:  0.9142091955552598\n",
      "[0.9122807  0.86842105 0.87719298 0.92920354 0.92035398 0.92035398\n",
      " 0.91071429 0.92857143 0.95535714 0.91964286] Mean score:  0.9142091955552598\n",
      "[0.9122807  0.86842105 0.87719298 0.92920354 0.92035398 0.92035398\n",
      " 0.91071429 0.92857143 0.95535714 0.91964286] Mean score:  0.9142091955552598\n"
     ]
    }
   ],
   "source": [
    "# Using features from cancer cells, to split cancer cells\n",
    "res = test_classifer(train_data=data_cancer, features=features_all, test_data=data_tcga)\n",
    "for i in res:\n",
    "    print(i[\"test_score\"], len(i[\"features\"]))\n",
    "\n",
    "# Try with selected features\n",
    "res = find_best_features_by_cv(data_tcga, features_all)\n",
    "\n",
    "for i in res:\n",
    "    print(i[\"test_score\"], \"Mean score: \", sum(i[\"test_score\"]) / len(i[\"test_score\"]))"
   ]
  },
  {
   "cell_type": "code",
   "execution_count": 150,
   "metadata": {},
   "outputs": [
    {
     "name": "stdout",
     "output_type": "stream",
     "text": [
      "0.5101860053144376 48\n",
      "0.5101860053144376 39\n",
      "0.5101860053144376 32\n",
      "0.5101860053144376 28\n",
      "0.5101860053144376 25\n",
      "0.5101860053144376 25\n",
      "0.5101860053144376 25\n",
      "0.5101860053144376 25\n",
      "0.5101860053144376 25\n",
      "0.5101860053144376 25\n",
      "[0.87719298 0.85964912 0.85087719 0.91150442 0.92035398 0.85840708\n",
      " 0.90178571 0.875      0.88392857 0.94642857] Mean score:  0.8885127642114135\n",
      "[0.86842105 0.85964912 0.85087719 0.90265487 0.90265487 0.84070796\n",
      " 0.89285714 0.875      0.86607143 0.94642857] Mean score:  0.880532221039324\n",
      "[0.87719298 0.85964912 0.85087719 0.90265487 0.91150442 0.86725664\n",
      " 0.875      0.86607143 0.86607143 0.92857143] Mean score:  0.880484951316344\n",
      "[0.86842105 0.86842105 0.85964912 0.89380531 0.92035398 0.85840708\n",
      " 0.88392857 0.875      0.875      0.92857143] Mean score:  0.883155759975159\n",
      "[0.87719298 0.87719298 0.85964912 0.89380531 0.91150442 0.84955752\n",
      " 0.90178571 0.875      0.875      0.94642857] Mean score:  0.8867116630070753\n",
      "[0.87719298 0.87719298 0.85964912 0.89380531 0.91150442 0.84955752\n",
      " 0.90178571 0.875      0.875      0.94642857] Mean score:  0.8867116630070753\n",
      "[0.87719298 0.87719298 0.85964912 0.89380531 0.91150442 0.84955752\n",
      " 0.90178571 0.875      0.875      0.94642857] Mean score:  0.8867116630070753\n",
      "[0.87719298 0.87719298 0.85964912 0.89380531 0.91150442 0.84955752\n",
      " 0.90178571 0.875      0.875      0.94642857] Mean score:  0.8867116630070753\n",
      "[0.87719298 0.87719298 0.85964912 0.89380531 0.91150442 0.84955752\n",
      " 0.90178571 0.875      0.875      0.94642857] Mean score:  0.8867116630070753\n",
      "[0.87719298 0.87719298 0.85964912 0.89380531 0.91150442 0.84955752\n",
      " 0.90178571 0.875      0.875      0.94642857] Mean score:  0.8867116630070753\n"
     ]
    }
   ],
   "source": [
    "# Using features from cancer cells, to split cancer cells\n",
    "res = test_classifer(train_data=data_cancer, features=markers.loc[markers[\"avg_logFC\"] > 1, \"gene\"].unique(), test_data=data_tcga)\n",
    "for i in res:\n",
    "    print(i[\"test_score\"], len(i[\"features\"]))\n",
    "\n",
    "\n",
    "# Try using markers\n",
    "res = find_best_features_by_cv(data_tcga, markers.loc[markers[\"avg_logFC\"] > 1, \"gene\"].unique())\n",
    "\n",
    "for i in res:\n",
    "    print(i[\"test_score\"], \"Mean score: \", sum(i[\"test_score\"]) / len(i[\"test_score\"]))  "
   ]
  },
  {
   "cell_type": "code",
   "execution_count": 152,
   "metadata": {},
   "outputs": [
    {
     "name": "stdout",
     "output_type": "stream",
     "text": [
      "0.5101860053144376 274\n",
      "0.5101860053144376 90\n",
      "0.5101860053144376 57\n",
      "0.5101860053144376 44\n",
      "0.5101860053144376 38\n",
      "0.5101860053144376 35\n",
      "0.5101860053144376 33\n",
      "0.5101860053144376 33\n",
      "0.5101860053144376 33\n",
      "0.5101860053144376 33\n",
      "[0.89473684 0.86842105 0.87719298 0.91150442 0.91150442 0.84955752\n",
      " 0.86607143 0.88392857 0.86607143 0.9375    ] Mean score:  0.8866488677445827\n",
      "[0.89473684 0.87719298 0.87719298 0.90265487 0.9380531  0.86725664\n",
      " 0.88392857 0.89285714 0.875      0.91964286] Mean score:  0.8928515980216026\n",
      "[0.92105263 0.86842105 0.88596491 0.90265487 0.9380531  0.86725664\n",
      " 0.89285714 0.89285714 0.85714286 0.92857143] Mean score:  0.8954831769689712\n",
      "[0.87719298 0.87719298 0.88596491 0.91150442 0.94690265 0.85840708\n",
      " 0.89285714 0.89285714 0.875      0.9375    ] Mean score:  0.8955379322199304\n",
      "[0.86842105 0.88596491 0.87719298 0.89380531 0.9380531  0.87610619\n",
      " 0.88392857 0.89285714 0.86607143 0.9375    ] Mean score:  0.8919900691995476\n",
      "[0.90350877 0.85964912 0.87719298 0.89380531 0.95575221 0.86725664\n",
      " 0.90178571 0.90178571 0.875      0.9375    ] Mean score:  0.8973236465056447\n",
      "[0.90350877 0.85964912 0.87719298 0.89380531 0.95575221 0.86725664\n",
      " 0.90178571 0.90178571 0.875      0.9375    ] Mean score:  0.8973236465056447\n",
      "[0.90350877 0.85964912 0.87719298 0.89380531 0.95575221 0.86725664\n",
      " 0.90178571 0.90178571 0.875      0.9375    ] Mean score:  0.8973236465056447\n",
      "[0.90350877 0.85964912 0.87719298 0.89380531 0.95575221 0.86725664\n",
      " 0.90178571 0.90178571 0.875      0.9375    ] Mean score:  0.8973236465056447\n",
      "[0.90350877 0.85964912 0.87719298 0.89380531 0.95575221 0.86725664\n",
      " 0.90178571 0.90178571 0.875      0.9375    ] Mean score:  0.8973236465056447\n"
     ]
    }
   ],
   "source": [
    "# Using features from cancer cells, to split cancer cells\n",
    "res = test_classifer(train_data=data_cancer, features=markers.loc[markers[\"avg_logFC\"] > 0.5, \"gene\"].unique(), test_data=data_tcga)\n",
    "for i in res:\n",
    "    print(i[\"test_score\"], len(i[\"features\"]))\n",
    "\n",
    "# Try using markers\n",
    "res = find_best_features_by_cv(data_tcga, markers.loc[markers[\"avg_logFC\"] > 0.5, \"gene\"].unique())\n",
    "\n",
    "for i in res:\n",
    "    print(i[\"test_score\"], \"Mean score: \", sum(i[\"test_score\"]) / len(i[\"test_score\"]))"
   ]
  },
  {
   "cell_type": "code",
   "execution_count": 154,
   "metadata": {},
   "outputs": [
    {
     "name": "stdout",
     "output_type": "stream",
     "text": [
      "0.5101860053144376 181\n",
      "0.5367581930912312 80\n",
      "0.5155004428697962 57\n",
      "0.5119574844995571 49\n",
      "0.5633303808680248 37\n",
      "0.5305580159433126 34\n",
      "0.5349867139061116 33\n",
      "0.5199291408325952 32\n",
      "0.5199291408325952 32\n",
      "0.5199291408325952 32\n",
      "[0.9122807  0.86842105 0.87719298 0.92920354 0.92035398 0.91150442\n",
      " 0.91964286 0.91071429 0.94642857 0.91964286] Mean score:  0.9115385255173332\n",
      "[0.9122807  0.88596491 0.88596491 0.92920354 0.92035398 0.92035398\n",
      " 0.91964286 0.91964286 0.95535714 0.92857143] Mean score:  0.9177336316454852\n",
      "[0.9122807  0.86842105 0.88596491 0.92035398 0.92035398 0.92920354\n",
      " 0.91071429 0.9375     0.95535714 0.91964286] Mean score:  0.9159792456805731\n",
      "[0.9122807  0.86842105 0.88596491 0.92035398 0.92035398 0.92920354\n",
      " 0.91071429 0.9375     0.95535714 0.91964286] Mean score:  0.9159792456805731\n",
      "[0.9122807  0.86842105 0.88596491 0.92035398 0.92035398 0.92920354\n",
      " 0.91071429 0.9375     0.95535714 0.91964286] Mean score:  0.9159792456805731\n",
      "[0.9122807  0.86842105 0.88596491 0.92035398 0.92035398 0.92920354\n",
      " 0.91071429 0.9375     0.95535714 0.91964286] Mean score:  0.9159792456805731\n",
      "[0.9122807  0.86842105 0.88596491 0.92035398 0.92035398 0.92920354\n",
      " 0.91071429 0.9375     0.95535714 0.91964286] Mean score:  0.9159792456805731\n",
      "[0.9122807  0.86842105 0.88596491 0.92035398 0.92035398 0.92920354\n",
      " 0.91071429 0.9375     0.95535714 0.91964286] Mean score:  0.9159792456805731\n",
      "[0.9122807  0.86842105 0.88596491 0.92035398 0.92035398 0.92920354\n",
      " 0.91071429 0.9375     0.95535714 0.91964286] Mean score:  0.9159792456805731\n",
      "[0.9122807  0.86842105 0.88596491 0.92035398 0.92035398 0.92920354\n",
      " 0.91071429 0.9375     0.95535714 0.91964286] Mean score:  0.9159792456805731\n"
     ]
    }
   ],
   "source": [
    "# Using features selected from cancer cells to split tcga data\n",
    "res = test_classifer(train_data=data_cancer, features=features_cancer, test_data=data_tcga)\n",
    "for i in res:\n",
    "    print(i[\"test_score\"], len(i[\"features\"]))\n",
    "\n",
    "# Using features from cancer cells, to split all cells\n",
    "res = find_best_features_by_cv(data_tcga, features_cancer)\n",
    "for i in res:\n",
    "    print(i[\"test_score\"], \"Mean score: \", sum(i[\"test_score\"]) / len(i[\"test_score\"]))"
   ]
  },
  {
   "cell_type": "markdown",
   "metadata": {},
   "source": [
    "### Try to identify LUAD, LUSC and normal"
   ]
  },
  {
   "cell_type": "code",
   "execution_count": 111,
   "metadata": {},
   "outputs": [],
   "source": [
    "data_lu = sc.AnnData(\n",
    "    data.to_df().loc[[x.startswith(\"LU\") for x in data.obs[\"Disease\"]], :]\n",
    ")\n",
    "\n",
    "data_lu.obs[\"Disease\"] = [x if x in [\"LUAD\", \"LUSC\"] else \"Normal\" for x in data.obs.loc[data_lu.obs.index, \"Disease\"]]"
   ]
  },
  {
   "cell_type": "code",
   "execution_count": 112,
   "metadata": {},
   "outputs": [
    {
     "name": "stdout",
     "output_type": "stream",
     "text": [
      "[0.55688939 0.55507739 0.55557233 0.55901231 0.55769521 0.55867694\n",
      " 0.55671349 0.55535418 0.5607159  0.55331521]\n",
      "[0.57463194 0.56610042 0.57029598 0.57486974 0.57128833 0.57287419\n",
      " 0.56826763 0.56539798 0.57446005 0.5663797 ]\n",
      "[0.57093243 0.56262741 0.56855935 0.56777165 0.5659266  0.56660625\n",
      " 0.56434073 0.56252832 0.5663797  0.56215073]\n",
      "[0.5597584  0.55500189 0.55632739 0.55931435 0.55739314 0.55610935\n",
      " 0.55316417 0.55603383 0.55754418 0.55754418]\n",
      "[0.56534541 0.5587014  0.55934763 0.55878577 0.55988521 0.55845039\n",
      " 0.554599   0.55006797 0.55686452 0.55595831]\n",
      "[0.56625142 0.55749339 0.56931441 0.56618591 0.56449177 0.56343453\n",
      " 0.56690832 0.56320797 0.56713487 0.56434073]\n",
      "[0.55500189 0.55122688 0.56017819 0.55984294 0.55346624 0.55769521\n",
      " 0.54863314 0.552409   0.55671349 0.5506721 ]\n",
      "[0.57304643 0.56927142 0.56893688 0.56641244 0.56819212 0.56502039\n",
      " 0.56554901 0.56396315 0.56675729 0.55973418]\n",
      "[0.57606644 0.57055493 0.57497735 0.57154723 0.56668177 0.56894729\n",
      " 0.56849419 0.56524694 0.5720435  0.56690832]\n",
      "[0.57606644 0.57055493 0.57497735 0.57154723 0.56668177 0.56894729\n",
      " 0.56849419 0.56524694 0.5720435  0.56690832]\n"
     ]
    }
   ],
   "source": [
    "# Try using markers\n",
    "res = find_best_features_by_cv(data_lu, markers.loc[markers[\"avg_logFC\"] > 0.5, \"gene\"].unique())\n",
    "\n",
    "for i in res:\n",
    "    print(i[\"test_score\"])"
   ]
  },
  {
   "cell_type": "code",
   "execution_count": 113,
   "metadata": {},
   "outputs": [
    {
     "name": "stdout",
     "output_type": "stream",
     "text": [
      "[0.55779539 0.54798037 0.55776201 0.56225931 0.55271107 0.55407038\n",
      " 0.55535418 0.55452349 0.55701556 0.55172935]\n",
      "[0.56715742 0.5598339  0.57339172 0.56648796 0.5663797  0.56758798\n",
      " 0.56403866 0.56335901 0.56841867 0.56237728]\n",
      "[0.5603624  0.55500189 0.56954092 0.563543   0.56426522 0.56532246\n",
      " 0.5619997  0.55988521 0.56721039 0.56018728]\n",
      "[0.5603624  0.55500189 0.56954092 0.563543   0.56426522 0.56532246\n",
      " 0.5619997  0.55988521 0.56721039 0.56018728]\n",
      "[0.5603624  0.55500189 0.56954092 0.563543   0.56426522 0.56532246\n",
      " 0.5619997  0.55988521 0.56721039 0.56018728]\n",
      "[0.5603624  0.55500189 0.56954092 0.563543   0.56426522 0.56532246\n",
      " 0.5619997  0.55988521 0.56721039 0.56018728]\n",
      "[0.5603624  0.55500189 0.56954092 0.563543   0.56426522 0.56532246\n",
      " 0.5619997  0.55988521 0.56721039 0.56018728]\n",
      "[0.5603624  0.55500189 0.56954092 0.563543   0.56426522 0.56532246\n",
      " 0.5619997  0.55988521 0.56721039 0.56018728]\n",
      "[0.5603624  0.55500189 0.56954092 0.563543   0.56426522 0.56532246\n",
      " 0.5619997  0.55988521 0.56721039 0.56018728]\n",
      "[0.5603624  0.55500189 0.56954092 0.563543   0.56426522 0.56532246\n",
      " 0.5619997  0.55988521 0.56721039 0.56018728]\n"
     ]
    }
   ],
   "source": [
    "# Try using markers\n",
    "res = find_best_features_by_cv(data_lu, markers.loc[markers[\"avg_logFC\"] > 1, \"gene\"].unique())\n",
    "\n",
    "for i in res:\n",
    "    print(i[\"test_score\"])"
   ]
  },
  {
   "cell_type": "code",
   "execution_count": 114,
   "metadata": {},
   "outputs": [
    {
     "name": "stdout",
     "output_type": "stream",
     "text": [
      "[0.51634579 0.50955077 0.51948052 0.51627275 0.51585863 0.51404622\n",
      " 0.51782208 0.51344208 0.51752001 0.51057242]\n",
      "[0.51234428 0.50705927 0.51812141 0.51227063 0.51404622 0.51427277\n",
      " 0.51555656 0.51306449 0.5157076  0.50974173]\n",
      "[0.51234428 0.50705927 0.51812141 0.51227063 0.51404622 0.51427277\n",
      " 0.51555656 0.51306449 0.5157076  0.50974173]\n",
      "[0.51234428 0.50705927 0.51812141 0.51227063 0.51404622 0.51427277\n",
      " 0.51555656 0.51306449 0.5157076  0.50974173]\n",
      "[0.51234428 0.50705927 0.51812141 0.51227063 0.51404622 0.51427277\n",
      " 0.51555656 0.51306449 0.5157076  0.50974173]\n",
      "[0.51234428 0.50705927 0.51812141 0.51227063 0.51404622 0.51427277\n",
      " 0.51555656 0.51306449 0.5157076  0.50974173]\n",
      "[0.51234428 0.50705927 0.51812141 0.51227063 0.51404622 0.51427277\n",
      " 0.51555656 0.51306449 0.5157076  0.50974173]\n",
      "[0.51234428 0.50705927 0.51812141 0.51227063 0.51404622 0.51427277\n",
      " 0.51555656 0.51306449 0.5157076  0.50974173]\n",
      "[0.51234428 0.50705927 0.51812141 0.51227063 0.51404622 0.51427277\n",
      " 0.51555656 0.51306449 0.5157076  0.50974173]\n",
      "[0.51234428 0.50705927 0.51812141 0.51227063 0.51404622 0.51427277\n",
      " 0.51555656 0.51306449 0.5157076  0.50974173]\n"
     ]
    }
   ],
   "source": [
    "# Try using markers\n",
    "res = find_best_features_by_cv(data_lu, markers.loc[markers[\"avg_logFC\"] > 1.5, \"gene\"].unique())\n",
    "\n",
    "for i in res:\n",
    "    print(i[\"test_score\"])"
   ]
  },
  {
   "cell_type": "markdown",
   "metadata": {},
   "source": [
    "---\n",
    "## Find out which Cell is most useful when classify different diseases"
   ]
  },
  {
   "cell_type": "code",
   "execution_count": 18,
   "metadata": {},
   "outputs": [],
   "source": [
    "def find_best_cells(train_data, test_data, features, n_iter=10):\n",
    "    res = []\n",
    "\n",
    "    for i in train_data.obs[\"Cell\"].unique():\n",
    "        print(i)\n",
    "        temp_cells = train_data.obs.loc[train_data.obs[\"Cell\"] == i, :]\n",
    "                \n",
    "        temp_data = sc.AnnData(\n",
    "            train_data.to_df().loc[temp_cells.index, :]\n",
    "        )\n",
    "\n",
    "        temp_data.obs = temp_cells\n",
    "\n",
    "        temp_res = test_classifer(train_data=temp_data, features=features, test_data=test_data, n_iter=n_iter)\n",
    "\n",
    "        res.append(\n",
    "            pd.DataFrame({\n",
    "                \"score\": [x[\"test_score\"] for x in temp_res],\n",
    "                \"Cell\": [i for x in range(len(temp_res))]\n",
    "            })\n",
    "        )\n",
    "\n",
    "    return pd.concat(res)"
   ]
  },
  {
   "cell_type": "markdown",
   "metadata": {},
   "source": [
    "Try each cells on sysu"
   ]
  },
  {
   "cell_type": "code",
   "execution_count": 189,
   "metadata": {},
   "outputs": [
    {
     "name": "stdout",
     "output_type": "stream",
     "text": [
      "Ciliated\n",
      "Alveolar II\n",
      "Monocytes\n",
      "Granulocyte\n",
      "Dendritic\n",
      "NK\n",
      "CD4\n",
      "CD8\n",
      "Epithelial\n",
      "B cells\n",
      "Club\n",
      "Neuroendocrine\n",
      "Treg\n",
      "Mast\n",
      "Basal\n",
      "Endothelial\n",
      "Fibroblasts\n"
     ]
    },
    {
     "data": {
      "text/plain": [
       "(array([ 0,  1,  2,  3,  4,  5,  6,  7,  8,  9, 10, 11, 12, 13, 14, 15, 16]),\n",
       " <a list of 17 Text xticklabel objects>)"
      ]
     },
     "execution_count": 189,
     "metadata": {},
     "output_type": "execute_result"
    },
    {
     "data": {
      "image/png": "[encoded data removed]",
      "text/plain": [
       "<Figure size 432x288 with 1 Axes>"
      ]
     },
     "metadata": {
      "needs_background": "light"
     },
     "output_type": "display_data"
    }
   ],
   "source": [
    "temp = find_best_cells(train_data=data_cancer, test_data=data_sysu, features=markers.loc[markers[\"avg_logFC\"] > 0.5, \"gene\"].unique())\n",
    "\n",
    "fig, ax = plt.subplots(figsize=(6, 4))\n",
    "sns.violinplot(\n",
    "    x=\"Cell\", \n",
    "    y=\"score\", \n",
    "    hue = \"Cell\", \n",
    "    data=temp, \n",
    "    legend=False, \n",
    "    ax=ax, \n",
    "    order=temp.groupby('Cell').agg(['mean']).sort_values(by=('score', 'mean'), ascending=False).index\n",
    ")\n",
    "ax.get_legend().remove()\n",
    "plt.xticks(rotation=90)"
   ]
  },
  {
   "cell_type": "code",
   "execution_count": 190,
   "metadata": {},
   "outputs": [
    {
     "name": "stdout",
     "output_type": "stream",
     "text": [
      "Ciliated\n",
      "Alveolar II\n",
      "Monocytes\n",
      "Granulocyte\n",
      "Dendritic\n",
      "NK\n",
      "CD4\n",
      "CD8\n",
      "Epithelial\n",
      "B cells\n",
      "Club\n",
      "Neuroendocrine\n",
      "Treg\n",
      "Mast\n",
      "Basal\n",
      "Endothelial\n",
      "Fibroblasts\n"
     ]
    },
    {
     "data": {
      "text/plain": [
       "(array([ 0,  1,  2,  3,  4,  5,  6,  7,  8,  9, 10, 11, 12, 13, 14, 15, 16]),\n",
       " <a list of 17 Text xticklabel objects>)"
      ]
     },
     "execution_count": 190,
     "metadata": {},
     "output_type": "execute_result"
    },
    {
     "data": {
      "image/png": "[encoded data removed]",
      "text/plain": [
       "<Figure size 432x288 with 1 Axes>"
      ]
     },
     "metadata": {
      "needs_background": "light"
     },
     "output_type": "display_data"
    }
   ],
   "source": [
    "temp = find_best_cells(train_data=data_cancer, test_data=data_sysu, features=features_all)\n",
    "\n",
    "fig, ax = plt.subplots(figsize=(6, 4))\n",
    "sns.violinplot(\n",
    "    x=\"Cell\", \n",
    "    y=\"score\", \n",
    "    hue = \"Cell\", \n",
    "    data=temp, \n",
    "    legend=False, \n",
    "    ax=ax, \n",
    "    order=temp.groupby('Cell').agg(['mean']).sort_values(by=('score', 'mean'), ascending=False).index\n",
    ")\n",
    "ax.get_legend().remove()\n",
    "plt.xticks(rotation=90)"
   ]
  },
  {
   "cell_type": "code",
   "execution_count": 188,
   "metadata": {},
   "outputs": [
    {
     "name": "stdout",
     "output_type": "stream",
     "text": [
      "Ciliated\n",
      "Alveolar II\n",
      "Monocytes\n",
      "Granulocyte\n",
      "Dendritic\n",
      "NK\n",
      "CD4\n",
      "CD8\n",
      "Epithelial\n",
      "B cells\n",
      "Club\n",
      "Neuroendocrine\n",
      "Treg\n",
      "Mast\n",
      "Basal\n",
      "Endothelial\n",
      "Fibroblasts\n"
     ]
    },
    {
     "data": {
      "text/plain": [
       "(array([ 0,  1,  2,  3,  4,  5,  6,  7,  8,  9, 10, 11, 12, 13, 14, 15, 16]),\n",
       " <a list of 17 Text xticklabel objects>)"
      ]
     },
     "execution_count": 188,
     "metadata": {},
     "output_type": "execute_result"
    },
    {
     "data": {
      "image/png": "[encoded data removed]",
      "text/plain": [
       "<Figure size 864x432 with 1 Axes>"
      ]
     },
     "metadata": {
      "needs_background": "light"
     },
     "output_type": "display_data"
    }
   ],
   "source": [
    "temp = find_best_cells(train_data=data_cancer, test_data=data_sysu, features=features_cancer)\n",
    "\n",
    "fig, ax = plt.subplots(figsize=(6, 4))\n",
    "sns.violinplot(\n",
    "    x=\"Cell\", \n",
    "    y=\"score\", \n",
    "    hue = \"Cell\", \n",
    "    data=temp, \n",
    "    legend=False, \n",
    "    ax=ax, \n",
    "    order=temp.groupby('Cell').agg(['mean']).sort_values(by=('score', 'mean'), ascending=False).index\n",
    ")\n",
    "ax.get_legend().remove()\n",
    "plt.xticks(rotation=90)"
   ]
  },
  {
   "cell_type": "markdown",
   "metadata": {},
   "source": [
    "Try each cells on TCGA"
   ]
  },
  {
   "cell_type": "code",
   "execution_count": 191,
   "metadata": {},
   "outputs": [
    {
     "name": "stdout",
     "output_type": "stream",
     "text": [
      "Ciliated\n",
      "Alveolar II\n",
      "Monocytes\n",
      "Granulocyte\n",
      "Dendritic\n",
      "NK\n",
      "CD4\n",
      "CD8\n",
      "Epithelial\n",
      "B cells\n",
      "Club\n",
      "Neuroendocrine\n",
      "Treg\n",
      "Mast\n",
      "Basal\n",
      "Endothelial\n",
      "Fibroblasts\n"
     ]
    },
    {
     "data": {
      "text/plain": [
       "(array([ 0,  1,  2,  3,  4,  5,  6,  7,  8,  9, 10, 11, 12, 13, 14, 15, 16]),\n",
       " <a list of 17 Text xticklabel objects>)"
      ]
     },
     "execution_count": 191,
     "metadata": {},
     "output_type": "execute_result"
    },
    {
     "data": {
      "image/png": "[encoded data removed]",
      "text/plain": [
       "<Figure size 432x288 with 1 Axes>"
      ]
     },
     "metadata": {
      "needs_background": "light"
     },
     "output_type": "display_data"
    }
   ],
   "source": [
    "temp = find_best_cells(train_data=data_cancer, test_data=data_tcga, features=markers.loc[markers[\"avg_logFC\"] > 0.5, \"gene\"].unique())\n",
    "\n",
    "fig, ax = plt.subplots(figsize=(6, 4))\n",
    "sns.violinplot(\n",
    "    x=\"Cell\", \n",
    "    y=\"score\", \n",
    "    hue = \"Cell\", \n",
    "    data=temp, \n",
    "    legend=False, \n",
    "    ax=ax, \n",
    "    order=temp.groupby('Cell').agg(['mean']).sort_values(by=('score', 'mean'), ascending=False).index\n",
    ")\n",
    "ax.get_legend().remove()\n",
    "plt.xticks(rotation=90)"
   ]
  },
  {
   "cell_type": "code",
   "execution_count": 192,
   "metadata": {},
   "outputs": [
    {
     "name": "stdout",
     "output_type": "stream",
     "text": [
      "Ciliated\n",
      "Alveolar II\n",
      "Monocytes\n",
      "Granulocyte\n",
      "Dendritic\n",
      "NK\n",
      "CD4\n",
      "CD8\n",
      "Epithelial\n",
      "B cells\n",
      "Club\n",
      "Neuroendocrine\n",
      "Treg\n",
      "Mast\n",
      "Basal\n",
      "Endothelial\n",
      "Fibroblasts\n"
     ]
    },
    {
     "data": {
      "text/plain": [
       "(array([ 0,  1,  2,  3,  4,  5,  6,  7,  8,  9, 10, 11, 12, 13, 14, 15, 16]),\n",
       " <a list of 17 Text xticklabel objects>)"
      ]
     },
     "execution_count": 192,
     "metadata": {},
     "output_type": "execute_result"
    },
    {
     "data": {
      "image/png": "[encoded data removed]",
      "text/plain": [
       "<Figure size 432x288 with 1 Axes>"
      ]
     },
     "metadata": {
      "needs_background": "light"
     },
     "output_type": "display_data"
    }
   ],
   "source": [
    "temp = find_best_cells(train_data=data_cancer, test_data=data_tcga, features=features_all)\n",
    "\n",
    "fig, ax = plt.subplots(figsize=(6, 4))\n",
    "sns.violinplot(\n",
    "    x=\"Cell\", \n",
    "    y=\"score\", \n",
    "    hue = \"Cell\", \n",
    "    data=temp, \n",
    "    legend=False, \n",
    "    ax=ax, \n",
    "    order=temp.groupby('Cell').agg(['mean']).sort_values(by=('score', 'mean'), ascending=False).index\n",
    ")\n",
    "ax.get_legend().remove()\n",
    "plt.xticks(rotation=90)"
   ]
  },
  {
   "cell_type": "code",
   "execution_count": 193,
   "metadata": {},
   "outputs": [
    {
     "name": "stdout",
     "output_type": "stream",
     "text": [
      "Ciliated\n",
      "Alveolar II\n",
      "Monocytes\n",
      "Granulocyte\n",
      "Dendritic\n",
      "NK\n",
      "CD4\n",
      "CD8\n",
      "Epithelial\n",
      "B cells\n",
      "Club\n",
      "Treg\n",
      "Mast\n",
      "Basal\n",
      "Endothelial\n",
      "Fibroblasts\n"
     ]
    },
    {
     "data": {
      "text/plain": [
       "(array([ 0,  1,  2,  3,  4,  5,  6,  7,  8,  9, 10, 11, 12, 13, 14, 15, 16]),\n",
       " <a list of 17 Text xticklabel objects>)"
      ]
     },
     "execution_count": 193,
     "metadata": {},
     "output_type": "execute_result"
    },
    {
     "data": {
      "image/png": "[encoded data removed]",
      "text/plain": [
       "<Figure size 432x288 with 1 Axes>"
      ]
     },
     "metadata": {
      "needs_background": "light"
     },
     "output_type": "display_data"
    }
   ],
   "source": [
    "temp = find_best_cells(train_data=data_cancer, test_data=data_tcga, features=features_cancer)\n",
    "\n",
    "fig, ax = plt.subplots(figsize=(6, 4))\n",
    "sns.violinplot(\n",
    "    x=\"Cell\", \n",
    "    y=\"score\", \n",
    "    hue = \"Cell\", \n",
    "    data=temp, \n",
    "    legend=False, \n",
    "    ax=ax, \n",
    "    order=temp.groupby('Cell').agg(['mean']).sort_values(by=('score', 'mean'), ascending=False).index\n",
    ")\n",
    "ax.get_legend().remove()\n",
    "plt.xticks(rotation=90)"
   ]
  },
  {
   "cell_type": "markdown",
   "metadata": {},
   "source": [
    "---\n",
    "#### Test different classifier using data_cancer and features_cancer"
   ]
  },
  {
   "cell_type": "code",
   "execution_count": 60,
   "metadata": {},
   "outputs": [],
   "source": [
    "def test_diff_classifer(\n",
    "    train_data,\n",
    "    test_data,\n",
    "    features=None,\n",
    "    n_iter=10, \n",
    "    random_state=0, \n",
    "    n_estimitors=100, \n",
    "    max_depth=2, \n",
    "    n_jobs=10,\n",
    "    cv=10,\n",
    "    n_neighbors=30,\n",
    "    methods=None\n",
    "):\n",
    "    u\"\"\"\n",
    "    Test classifer train by single cells data set on bulk data set\n",
    "    \"\"\"\n",
    "    \n",
    "    clf = None\n",
    "    if methods == \"RF\":\n",
    "        clf = RandomForestClassifier(n_estimators=n_estimitors, max_depth=max_depth, random_state=random_state, n_jobs=n_jobs)\n",
    "    elif methods == \"SVM\":\n",
    "        clf = SVC(\n",
    "            C=1.0, \n",
    "            degree=3, \n",
    "            gamma='auto', \n",
    "            coef0=0.0, \n",
    "            shrinking=True, \n",
    "            probability=False, \n",
    "            tol=0.001, \n",
    "            cache_size=200, \n",
    "            class_weight=None, \n",
    "            verbose=False, \n",
    "            max_iter=-1, \n",
    "            decision_function_shape='ovr', \n",
    "            random_state=random_state\n",
    "        )\n",
    "    elif methods == \"KNN\":\n",
    "        clf = KNeighborsClassifier(n_neighbors=n_neighbors, n_jobs=n_jobs)\n",
    "    elif methods == \"ANN\":\n",
    "        clf = MLPClassifier(random_state=random_state)\n",
    "    \n",
    "    if features is None:\n",
    "        features = list(set(train_data.to_df().columns) & set(test_data.to_df().columns))\n",
    "        \n",
    "    features = list(set(features) & set(train_data.to_df().columns) & set(test_data.to_df()))\n",
    "    \n",
    "    mat = train_data.to_df().loc[:, features]\n",
    "        \n",
    "    clf.fit(mat, train_data.obs[\"Disease\"])\n",
    "            \n",
    "    return clf.score(test_data.to_df().loc[:, features], test_data.obs[\"Disease\"])"
   ]
  },
  {
   "cell_type": "code",
   "execution_count": 19,
   "metadata": {},
   "outputs": [
    {
     "name": "stdout",
     "output_type": "stream",
     "text": [
      "RF\n",
      "KNN\n",
      "ANN\n"
     ]
    }
   ],
   "source": [
    "res = {}\n",
    "for i in [\"RF\", \"KNN\", \"ANN\"]:\n",
    "    print(i)\n",
    "    # Try with selected features\n",
    "    res[i] = test_diff_classifer(train_data = data_cancer, test_data=data_tcga, features=features_cancer, methods = i)\n",
    "#     for j in res:\n",
    "#         print(j[\"test_score\"], \"Mean score: \", sum(j[\"test_score\"]) / len(j[\"test_score\"]))"
   ]
  },
  {
   "cell_type": "code",
   "execution_count": 20,
   "metadata": {},
   "outputs": [
    {
     "name": "stdout",
     "output_type": "stream",
     "text": [
      "RF\n",
      "KNN\n",
      "ANN\n"
     ]
    }
   ],
   "source": [
    "res1 = {}\n",
    "for i in [\"RF\", \"KNN\", \"ANN\"]:\n",
    "    print(i)\n",
    "    # Try with selected features\n",
    "    res1[i] = test_diff_classifer(train_data = data_cancer, test_data=data_sysu, features=features_cancer, methods = i)\n",
    "    \n",
    "#     for j in res:\n",
    "#         print(j[\"test_score\"], \"Mean score: \", sum(j[\"test_score\"]) / len(j[\"test_score\"]))"
   ]
  },
  {
   "cell_type": "code",
   "execution_count": 21,
   "metadata": {},
   "outputs": [
    {
     "name": "stdout",
     "output_type": "stream",
     "text": [
      "{'RF': 0.5101860053144376, 'KNN': 0.7201062887511072, 'ANN': 0.7980513728963685}\n",
      "{'RF': 0.6346938775510204, 'KNN': 0.45714285714285713, 'ANN': 0.5142857142857142}\n"
     ]
    }
   ],
   "source": [
    "print(res)\n",
    "print(res1)"
   ]
  },
  {
   "cell_type": "markdown",
   "metadata": {},
   "source": [
    "registerDoMC(10)\n",
    "\n",
    "markers = foreach(i=1:200, .combine=rbind) %dopar% {\n",
    "    set.seed(i)\n",
    "    \n",
    "    temp = FindMarkers(obj, ident.1 = luad[sample(1:length(luad), 10000)], ident.2 = lusc[sample(1:length(lusc), 10000)],)\n",
    "    \n",
    "    temp$ident = i\n",
    "    temp$gene = rownames(temp)\n",
    "    \n",
    "    temp\n",
    "}"
   ]
  },
  {
   "cell_type": "markdown",
   "metadata": {},
   "source": [
    "---\n",
    "### Test classifier on Guo2018"
   ]
  },
  {
   "cell_type": "markdown",
   "metadata": {},
   "source": [
    "guo = pd.read_csv(\"../../../Guo2018/GSE99254_NSCLC.TCell.S12346.count.txt.gz\", index_col=1, sep = \"\\t\")"
   ]
  },
  {
   "cell_type": "code",
   "execution_count": 27,
   "metadata": {},
   "outputs": [
    {
     "data": {
      "text/html": [
       "<div>\n",
       "<style scoped>\n",
       "    .dataframe tbody tr th:only-of-type {\n",
       "        vertical-align: middle;\n",
       "    }\n",
       "\n",
       "    .dataframe tbody tr th {\n",
       "        vertical-align: top;\n",
       "    }\n",
       "\n",
       "    .dataframe thead th {\n",
       "        text-align: right;\n",
       "    }\n",
       "</style>\n",
       "<table border=\"1\" class=\"dataframe\">\n",
       "  <thead>\n",
       "    <tr style=\"text-align: right;\">\n",
       "      <th></th>\n",
       "      <th>NTH10-0616A</th>\n",
       "      <th>NTH11-0616A</th>\n",
       "      <th>NTH15-0616A</th>\n",
       "      <th>NTH17-0616A</th>\n",
       "      <th>NTH2-0616A</th>\n",
       "      <th>NTH4-0616A</th>\n",
       "      <th>NTR15-0616A</th>\n",
       "      <th>NTR16-0616A</th>\n",
       "      <th>NTR17-0616A</th>\n",
       "      <th>NTR18-0616A</th>\n",
       "      <th>...</th>\n",
       "      <th>TTY52-20171219</th>\n",
       "      <th>TTY54-20171219</th>\n",
       "      <th>TTY59-20171219</th>\n",
       "      <th>TTY60-20171219</th>\n",
       "      <th>TTY6-20171219</th>\n",
       "      <th>TTY63-20171219</th>\n",
       "      <th>TTY65-20171219</th>\n",
       "      <th>TTY7-20171219</th>\n",
       "      <th>TTY8-20171219</th>\n",
       "      <th>TTY9-20171219</th>\n",
       "    </tr>\n",
       "    <tr>\n",
       "      <th>symbol</th>\n",
       "      <th></th>\n",
       "      <th></th>\n",
       "      <th></th>\n",
       "      <th></th>\n",
       "      <th></th>\n",
       "      <th></th>\n",
       "      <th></th>\n",
       "      <th></th>\n",
       "      <th></th>\n",
       "      <th></th>\n",
       "      <th></th>\n",
       "      <th></th>\n",
       "      <th></th>\n",
       "      <th></th>\n",
       "      <th></th>\n",
       "      <th></th>\n",
       "      <th></th>\n",
       "      <th></th>\n",
       "      <th></th>\n",
       "      <th></th>\n",
       "      <th></th>\n",
       "    </tr>\n",
       "  </thead>\n",
       "  <tbody>\n",
       "    <tr>\n",
       "      <th>A1BG</th>\n",
       "      <td>0</td>\n",
       "      <td>0</td>\n",
       "      <td>0</td>\n",
       "      <td>0</td>\n",
       "      <td>0</td>\n",
       "      <td>0</td>\n",
       "      <td>0</td>\n",
       "      <td>0</td>\n",
       "      <td>0</td>\n",
       "      <td>0</td>\n",
       "      <td>...</td>\n",
       "      <td>0</td>\n",
       "      <td>0</td>\n",
       "      <td>0</td>\n",
       "      <td>0</td>\n",
       "      <td>0</td>\n",
       "      <td>0</td>\n",
       "      <td>0</td>\n",
       "      <td>0</td>\n",
       "      <td>0</td>\n",
       "      <td>0</td>\n",
       "    </tr>\n",
       "    <tr>\n",
       "      <th>NAT2</th>\n",
       "      <td>0</td>\n",
       "      <td>0</td>\n",
       "      <td>0</td>\n",
       "      <td>0</td>\n",
       "      <td>0</td>\n",
       "      <td>0</td>\n",
       "      <td>0</td>\n",
       "      <td>0</td>\n",
       "      <td>0</td>\n",
       "      <td>0</td>\n",
       "      <td>...</td>\n",
       "      <td>0</td>\n",
       "      <td>0</td>\n",
       "      <td>0</td>\n",
       "      <td>0</td>\n",
       "      <td>0</td>\n",
       "      <td>1</td>\n",
       "      <td>0</td>\n",
       "      <td>1</td>\n",
       "      <td>0</td>\n",
       "      <td>0</td>\n",
       "    </tr>\n",
       "    <tr>\n",
       "      <th>ADA</th>\n",
       "      <td>223</td>\n",
       "      <td>519</td>\n",
       "      <td>0</td>\n",
       "      <td>0</td>\n",
       "      <td>0</td>\n",
       "      <td>120</td>\n",
       "      <td>511</td>\n",
       "      <td>0</td>\n",
       "      <td>0</td>\n",
       "      <td>0</td>\n",
       "      <td>...</td>\n",
       "      <td>0</td>\n",
       "      <td>0</td>\n",
       "      <td>0</td>\n",
       "      <td>0</td>\n",
       "      <td>0</td>\n",
       "      <td>0</td>\n",
       "      <td>0</td>\n",
       "      <td>0</td>\n",
       "      <td>0</td>\n",
       "      <td>0</td>\n",
       "    </tr>\n",
       "    <tr>\n",
       "      <th>CDH2</th>\n",
       "      <td>0</td>\n",
       "      <td>0</td>\n",
       "      <td>0</td>\n",
       "      <td>0</td>\n",
       "      <td>0</td>\n",
       "      <td>0</td>\n",
       "      <td>0</td>\n",
       "      <td>0</td>\n",
       "      <td>0</td>\n",
       "      <td>0</td>\n",
       "      <td>...</td>\n",
       "      <td>0</td>\n",
       "      <td>1</td>\n",
       "      <td>0</td>\n",
       "      <td>0</td>\n",
       "      <td>0</td>\n",
       "      <td>0</td>\n",
       "      <td>0</td>\n",
       "      <td>0</td>\n",
       "      <td>0</td>\n",
       "      <td>0</td>\n",
       "    </tr>\n",
       "    <tr>\n",
       "      <th>AKT3</th>\n",
       "      <td>57</td>\n",
       "      <td>0</td>\n",
       "      <td>0</td>\n",
       "      <td>0</td>\n",
       "      <td>0</td>\n",
       "      <td>0</td>\n",
       "      <td>0</td>\n",
       "      <td>0</td>\n",
       "      <td>0</td>\n",
       "      <td>0</td>\n",
       "      <td>...</td>\n",
       "      <td>0</td>\n",
       "      <td>0</td>\n",
       "      <td>1</td>\n",
       "      <td>0</td>\n",
       "      <td>0</td>\n",
       "      <td>0</td>\n",
       "      <td>0</td>\n",
       "      <td>0</td>\n",
       "      <td>0</td>\n",
       "      <td>0</td>\n",
       "    </tr>\n",
       "  </tbody>\n",
       "</table>\n",
       "<p>5 rows × 12346 columns</p>\n",
       "</div>"
      ],
      "text/plain": [
       "        NTH10-0616A  NTH11-0616A  NTH15-0616A  NTH17-0616A  NTH2-0616A  \\\n",
       "symbol                                                                   \n",
       "A1BG              0            0            0            0           0   \n",
       "NAT2              0            0            0            0           0   \n",
       "ADA             223          519            0            0           0   \n",
       "CDH2              0            0            0            0           0   \n",
       "AKT3             57            0            0            0           0   \n",
       "\n",
       "        NTH4-0616A  NTR15-0616A  NTR16-0616A  NTR17-0616A  NTR18-0616A  ...  \\\n",
       "symbol                                                                  ...   \n",
       "A1BG             0            0            0            0            0  ...   \n",
       "NAT2             0            0            0            0            0  ...   \n",
       "ADA            120          511            0            0            0  ...   \n",
       "CDH2             0            0            0            0            0  ...   \n",
       "AKT3             0            0            0            0            0  ...   \n",
       "\n",
       "        TTY52-20171219  TTY54-20171219  TTY59-20171219  TTY60-20171219  \\\n",
       "symbol                                                                   \n",
       "A1BG                 0               0               0               0   \n",
       "NAT2                 0               0               0               0   \n",
       "ADA                  0               0               0               0   \n",
       "CDH2                 0               1               0               0   \n",
       "AKT3                 0               0               1               0   \n",
       "\n",
       "        TTY6-20171219  TTY63-20171219  TTY65-20171219  TTY7-20171219  \\\n",
       "symbol                                                                 \n",
       "A1BG                0               0               0              0   \n",
       "NAT2                0               1               0              1   \n",
       "ADA                 0               0               0              0   \n",
       "CDH2                0               0               0              0   \n",
       "AKT3                0               0               0              0   \n",
       "\n",
       "        TTY8-20171219  TTY9-20171219  \n",
       "symbol                                \n",
       "A1BG                0              0  \n",
       "NAT2                0              0  \n",
       "ADA                 0              0  \n",
       "CDH2                0              0  \n",
       "AKT3                0              0  \n",
       "\n",
       "[5 rows x 12346 columns]"
      ]
     },
     "execution_count": 27,
     "metadata": {},
     "output_type": "execute_result"
    }
   ],
   "source": [
    "guo = guo.loc[:, [x for x in guo.columns if x != \"geneID\"]]\n",
    "\n",
    "guo.head()"
   ]
  },
  {
   "cell_type": "code",
   "execution_count": 40,
   "metadata": {},
   "outputs": [
    {
     "name": "stderr",
     "output_type": "stream",
     "text": [
      "Variable names are not unique. To make them unique, call `.var_names_make_unique`.\n"
     ]
    }
   ],
   "source": [
    "SampleDisease = {\n",
    "    \"P0616A\": \"LUAD\",\n",
    "    \"P0616P\": \"LUAD\",\n",
    "    \"P0617\": \"LUAD\",\n",
    "    \"P0729\": \"LUAD\",\n",
    "    \"P0913\": \"LUSC\",\n",
    "    \"P1010\": \"LUAD\",\n",
    "    \"P1011\": \"LUSC\",\n",
    "    \"P1118\": \"LUAD\",\n",
    "    \"P1202\": \"LUAD\",\n",
    "    \"P0619\": \"LUAD\",\n",
    "    \"P0706\": \"LUSC\",\n",
    "    \"P0729\": \"LUAD\",\n",
    "    \"P1120\": \"LUAD\",\n",
    "    \"P1208\": \"LUAD\",\n",
    "    \"P1219\": \"LUAD\"\n",
    "}\n",
    "\n",
    "data_guo = sc.AnnData(guo.transpose())\n",
    "\n",
    "data_guo.obs[\"Disease\"] = [SampleDisease[re.sub(r\"^[\\w-]+\\-(2017)?\", \"P\", x)] for x in data_guo.obs.index]"
   ]
  },
  {
   "cell_type": "code",
   "execution_count": 42,
   "metadata": {},
   "outputs": [
    {
     "name": "stderr",
     "output_type": "stream",
     "text": [
      "... storing 'Disease' as categorical\n"
     ]
    }
   ],
   "source": [
    "data_guo.write(\"../../../02_rds/guo.h5ad\")"
   ]
  },
  {
   "cell_type": "code",
   "execution_count": 43,
   "metadata": {},
   "outputs": [
    {
     "name": "stdout",
     "output_type": "stream",
     "text": [
      "RF\n",
      "KNN\n",
      "ANN\n"
     ]
    },
    {
     "name": "stderr",
     "output_type": "stream",
     "text": [
      "/home/zhangyiming/.local/share/virtualenvs/scanpy-UGAxTWFP/lib/python3.6/site-packages/sklearn/neural_network/multilayer_perceptron.py:566: ConvergenceWarning: Stochastic Optimizer: Maximum iterations (200) reached and the optimization hasn't converged yet.\n",
      "  % self.max_iter, ConvergenceWarning)\n"
     ]
    },
    {
     "data": {
      "text/plain": [
       "{'RF': 0.5576705005669853,\n",
       " 'KNN': 0.7209622549813705,\n",
       " 'ANN': 0.5908796371294346}"
      ]
     },
     "execution_count": 43,
     "metadata": {},
     "output_type": "execute_result"
    }
   ],
   "source": [
    "res_guo = {}\n",
    "for i in [\"RF\", \"KNN\", \"ANN\"]:\n",
    "    print(i)\n",
    "    # Try with selected features\n",
    "    res_guo[i] = test_diff_classifer(train_data = data_cancer, test_data=data_guo, features=features_cancer, methods = i)\n",
    "#     for j in res:\n",
    "#         print(j[\"test_score\"], \"Mean score: \", sum(j[\"test_score\"]) / len(j[\"test_score\"]))\n",
    "\n",
    "res_guo"
   ]
  },
  {
   "cell_type": "code",
   "execution_count": 44,
   "metadata": {},
   "outputs": [
    {
     "name": "stdout",
     "output_type": "stream",
     "text": [
      "RF\n",
      "KNN\n",
      "ANN\n"
     ]
    },
    {
     "data": {
      "text/plain": [
       "{'RF': 0.4387655920946055,\n",
       " 'KNN': 0.7702899724607161,\n",
       " 'ANN': 0.5223554187591123}"
      ]
     },
     "execution_count": 44,
     "metadata": {},
     "output_type": "execute_result"
    }
   ],
   "source": [
    "res_guo_markers = {}\n",
    "for i in [\"RF\", \"KNN\", \"ANN\"]:\n",
    "    print(i)\n",
    "    # Try with selected features\n",
    "    res_guo_markers[i] = test_diff_classifer(train_data = data_cancer, test_data=data_guo, features=markers.loc[markers[\"avg_logFC\"].abs() > 0.5, \"gene\"].unique(), methods = i)\n",
    "#     for j in res:\n",
    "#         print(j[\"test_score\"], \"Mean score: \", sum(j[\"test_score\"]) / len(j[\"test_score\"]))\n",
    "\n",
    "res_guo_markers"
   ]
  },
  {
   "cell_type": "code",
   "execution_count": 54,
   "metadata": {},
   "outputs": [],
   "source": [
    "markers_all = pd.read_csv(os.path.abspath(\"../../../03_each_cells/overall_LUSC_LUAD_DEGS.csv\"))"
   ]
  },
  {
   "cell_type": "code",
   "execution_count": 57,
   "metadata": {},
   "outputs": [],
   "source": [
    "markers_all = markers_all.loc[markers_all[\"p_val_adj\"] < 0.05, :]"
   ]
  },
  {
   "cell_type": "markdown",
   "metadata": {},
   "source": [
    "Test KNN"
   ]
  },
  {
   "cell_type": "code",
   "execution_count": 61,
   "metadata": {},
   "outputs": [
    {
     "data": {
      "text/plain": [
       "0.765349100923376"
      ]
     },
     "execution_count": 61,
     "metadata": {},
     "output_type": "execute_result"
    }
   ],
   "source": [
    "res_mk = test_diff_classifer(train_data = data_cancer, test_data=data_guo, features=markers.loc[markers[\"avg_logFC\"].abs() > 0.5, \"gene\"].unique(), methods = \"KNN\")\n",
    "res_mk"
   ]
  },
  {
   "cell_type": "code",
   "execution_count": 62,
   "metadata": {},
   "outputs": [
    {
     "data": {
      "text/plain": [
       "0.7606512230682002"
      ]
     },
     "execution_count": 62,
     "metadata": {},
     "output_type": "execute_result"
    }
   ],
   "source": [
    "res_mk_all = test_diff_classifer(train_data = data_cancer, test_data=data_guo, features=markers_all.loc[markers_all[\"avg_logFC\"].abs() > 0.5, \"gene\"].unique(), methods = \"KNN\")\n",
    "res_mk_all"
   ]
  },
  {
   "cell_type": "code",
   "execution_count": 65,
   "metadata": {},
   "outputs": [
    {
     "name": "stdout",
     "output_type": "stream",
     "text": [
      "5\n",
      "10\n",
      "15\n",
      "20\n",
      "25\n",
      "30\n",
      "35\n",
      "40\n",
      "45\n"
     ]
    },
    {
     "data": {
      "text/plain": [
       "{5: 0.760732220962255,\n",
       " 10: 0.7670500566985259,\n",
       " 15: 0.7664020735460878,\n",
       " 20: 0.7666450672282521,\n",
       " 25: 0.7646201198768832,\n",
       " 30: 0.765349100923376,\n",
       " 35: 0.7645391219828285,\n",
       " 40: 0.765997084075814,\n",
       " 45: 0.764701117770938}"
      ]
     },
     "execution_count": 65,
     "metadata": {},
     "output_type": "execute_result"
    }
   ],
   "source": [
    "res_mk = {}\n",
    "for i in range(5, 50, 5):\n",
    "    print(i)\n",
    "    res_mk[i] = test_diff_classifer(train_data = data_cancer, test_data=data_guo, features=markers.loc[markers[\"avg_logFC\"].abs() > 0.5, \"gene\"].unique(), methods = \"KNN\", n_neighbors=i)\n",
    "res_mk"
   ]
  },
  {
   "cell_type": "code",
   "execution_count": 66,
   "metadata": {},
   "outputs": [
    {
     "name": "stdout",
     "output_type": "stream",
     "text": [
      "5\n",
      "10\n",
      "15\n",
      "20\n",
      "25\n",
      "30\n",
      "35\n",
      "40\n",
      "45\n"
     ]
    },
    {
     "data": {
      "text/plain": [
       "{5: 0.5481937469625789,\n",
       " 10: 0.5549975700631784,\n",
       " 15: 0.538959987040337,\n",
       " 20: 0.5422809006965819,\n",
       " 25: 0.5374210270532966,\n",
       " 30: 0.5409849343917058,\n",
       " 35: 0.5380690102057346,\n",
       " 40: 0.5410659322857606,\n",
       " 45: 0.5377450186295156}"
      ]
     },
     "execution_count": 66,
     "metadata": {},
     "output_type": "execute_result"
    }
   ],
   "source": [
    "res_mk = {}\n",
    "for i in range(5, 50, 5):\n",
    "    print(i)\n",
    "    res_mk[i] = test_diff_classifer(train_data = data_cancer, test_data=data_guo, features=markers.loc[markers[\"avg_logFC\"].abs() > 1, \"gene\"].unique(), methods = \"KNN\", n_neighbors=i)\n",
    "res_mk"
   ]
  },
  {
   "cell_type": "code",
   "execution_count": 68,
   "metadata": {},
   "outputs": [
    {
     "name": "stdout",
     "output_type": "stream",
     "text": [
      "5\n",
      "10\n",
      "15\n",
      "20\n",
      "25\n",
      "30\n",
      "35\n",
      "40\n",
      "45\n"
     ]
    },
    {
     "data": {
      "text/plain": [
       "{5: 0.718451320265673,\n",
       " 10: 0.7221772233921918,\n",
       " 15: 0.7195852907824396,\n",
       " 20: 0.7221772233921918,\n",
       " 25: 0.7192612992062206,\n",
       " 30: 0.7209622549813705,\n",
       " 35: 0.721448242345699,\n",
       " 40: 0.7225012149684108,\n",
       " 45: 0.721448242345699}"
      ]
     },
     "execution_count": 68,
     "metadata": {},
     "output_type": "execute_result"
    }
   ],
   "source": [
    "res_mk = {}\n",
    "for i in range(5, 50, 5):\n",
    "    print(i)\n",
    "    res_mk[i] = test_diff_classifer(train_data = data_cancer, test_data=data_guo, features=features_cancer, methods = \"KNN\", n_neighbors=i)\n",
    "res_mk"
   ]
  },
  {
   "cell_type": "code",
   "execution_count": 69,
   "metadata": {},
   "outputs": [
    {
     "name": "stdout",
     "output_type": "stream",
     "text": [
      "5\n",
      "10\n",
      "15\n",
      "20\n",
      "25\n",
      "30\n",
      "35\n",
      "40\n",
      "45\n"
     ]
    },
    {
     "data": {
      "text/plain": [
       "{5: 0.7719909282358659,\n",
       " 10: 0.7715049408715373,\n",
       " 15: 0.7684270208974566,\n",
       " 20: 0.7683460230034019,\n",
       " 25: 0.7677790377450187,\n",
       " 30: 0.7679410335331281,\n",
       " 35: 0.7677790377450187,\n",
       " 40: 0.7676980398509639,\n",
       " 45: 0.7682650251093471}"
      ]
     },
     "execution_count": 69,
     "metadata": {},
     "output_type": "execute_result"
    }
   ],
   "source": [
    "res_mk = {}\n",
    "for i in range(5, 50, 5):\n",
    "    print(i)\n",
    "    res_mk[i] = test_diff_classifer(train_data = data_cancer, test_data=data_guo, features=features_all, methods = \"KNN\", n_neighbors=i)\n",
    "res_mk"
   ]
  },
  {
   "cell_type": "code",
   "execution_count": 81,
   "metadata": {},
   "outputs": [],
   "source": [
    "def find_best_cells_knn(train_data, test_data, features, n_iter=10):\n",
    "    res = []\n",
    "\n",
    "    for i in train_data.obs[\"Cell\"].unique():\n",
    "        print(i)\n",
    "        temp_cells = train_data.obs.loc[train_data.obs[\"Cell\"] == i, :]\n",
    "                \n",
    "        temp_data = sc.AnnData(\n",
    "            train_data.to_df().loc[temp_cells.index, :]\n",
    "        )\n",
    "\n",
    "        temp_data.obs = temp_cells\n",
    "        \n",
    "        res_mk = {}\n",
    "        for j in range(5, 55, 5):\n",
    "            res_mk[j] = test_diff_classifer(train_data = temp_data, test_data=data_guo, features=features_all, methods = \"KNN\", n_neighbors=j)\n",
    "\n",
    "        res.append(\n",
    "            pd.DataFrame({\n",
    "                \"score\": list(res_mk.values()),\n",
    "                \"Cell\": [i for x in range(len(res_mk))]\n",
    "            })\n",
    "        )\n",
    "\n",
    "    return pd.concat(res)"
   ]
  },
  {
   "cell_type": "code",
   "execution_count": 82,
   "metadata": {},
   "outputs": [
    {
     "name": "stdout",
     "output_type": "stream",
     "text": [
      "Ciliated\n",
      "Alveolar II\n",
      "Monocytes\n",
      "Granulocyte\n",
      "Dendritic\n",
      "NK\n",
      "CD4\n",
      "CD8\n",
      "Epithelial\n",
      "B cells\n",
      "Club\n",
      "Neuroendocrine\n",
      "Treg\n",
      "Mast\n",
      "Basal\n",
      "Endothelial\n",
      "Fibroblasts\n"
     ]
    },
    {
     "data": {
      "text/plain": [
       "(array([ 0,  1,  2,  3,  4,  5,  6,  7,  8,  9, 10, 11, 12, 13, 14, 15, 16]),\n",
       " <a list of 17 Text xticklabel objects>)"
      ]
     },
     "execution_count": 82,
     "metadata": {},
     "output_type": "execute_result"
    },
    {
     "data": {
      "image/png": "[encoded data removed]",
      "text/plain": [
       "<Figure size 432x288 with 1 Axes>"
      ]
     },
     "metadata": {
      "needs_background": "light"
     },
     "output_type": "display_data"
    }
   ],
   "source": [
    "temp = find_best_cells_knn(train_data=data_cancer, test_data=data_guo, features=features_cancer)"
   ]
  },
  {
   "cell_type": "code",
   "execution_count": 83,
   "metadata": {},
   "outputs": [
    {
     "data": {
      "text/plain": [
       "(array([ 0,  1,  2,  3,  4,  5,  6,  7,  8,  9, 10, 11, 12, 13, 14, 15, 16]),\n",
       " <a list of 17 Text xticklabel objects>)"
      ]
     },
     "execution_count": 83,
     "metadata": {},
     "output_type": "execute_result"
    },
    {
     "data": {
      "image/png": "[encoded data removed]",
      "text/plain": [
       "<Figure size 864x576 with 1 Axes>"
      ]
     },
     "metadata": {
      "needs_background": "light"
     },
     "output_type": "display_data"
    }
   ],
   "source": [
    "\n",
    "fig, ax = plt.subplots(figsize=(12, 8))\n",
    "sns.violinplot(\n",
    "    x=\"Cell\", \n",
    "    y=\"score\", \n",
    "    hue = \"Cell\", \n",
    "    data=temp, \n",
    "    legend=False, \n",
    "    ax=ax, \n",
    "    order=temp.groupby('Cell').agg(['mean']).sort_values(by=('score', 'mean'), ascending=False).index\n",
    ")\n",
    "ax.get_legend().remove()\n",
    "plt.xticks(rotation=90)"
   ]
  },
  {
   "cell_type": "code",
   "execution_count": null,
   "metadata": {},
   "outputs": [],
   "source": []
  }
 ],
 "metadata": {
  "kernelspec": {
   "display_name": "Python 3",
   "language": "python",
   "name": "python3"
  },
  "language_info": {
   "codemirror_mode": {
    "name": "ipython",
    "version": 3
   },
   "file_extension": ".py",
   "mimetype": "text/x-python",
   "name": "python",
   "nbconvert_exporter": "python",
   "pygments_lexer": "ipython3",
   "version": "3.6.8"
  }
 },
 "nbformat": 4,
 "nbformat_minor": 4
}
