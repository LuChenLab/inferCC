{
 "cells": [
  {
   "cell_type": "code",
   "execution_count": 1,
   "metadata": {},
   "outputs": [],
   "source": [
    "%matplotlib inline\n",
    "# since 2019.07.10\n",
    "import os\n",
    "\n",
    "from glob import glob\n",
    "from multiprocessing import Pool\n",
    "\n",
    "import pandas as pd\n",
    "import seaborn as sns\n",
    "\n",
    "from matplotlib import pyplot as plt"
   ]
  },
  {
   "cell_type": "code",
   "execution_count": 2,
   "metadata": {},
   "outputs": [],
   "source": [
    "n_jobs = 20"
   ]
  },
  {
   "cell_type": "markdown",
   "metadata": {},
   "source": [
    "Read all scaled expression value"
   ]
  },
  {
   "cell_type": "code",
   "execution_count": 4,
   "metadata": {},
   "outputs": [
    {
     "data": {
      "text/plain": [
       "['/mnt/raid62/Lung_cancer_10x/final_plots/03_each_cells/each/NK/scanpy',\n",
       " '/mnt/raid62/Lung_cancer_10x/final_plots/03_each_cells/each/Dendritic/scanpy',\n",
       " '/mnt/raid62/Lung_cancer_10x/final_plots/03_each_cells/each/Basal/scanpy',\n",
       " '/mnt/raid62/Lung_cancer_10x/final_plots/03_each_cells/each/Neuroendocrine/scanpy',\n",
       " '/mnt/raid62/Lung_cancer_10x/final_plots/03_each_cells/each/Alveolar_II/scanpy',\n",
       " '/mnt/raid62/Lung_cancer_10x/final_plots/03_each_cells/each/Fibroblasts/scanpy',\n",
       " '/mnt/raid62/Lung_cancer_10x/final_plots/03_each_cells/each/Erythroid_precursor/scanpy',\n",
       " '/mnt/raid62/Lung_cancer_10x/final_plots/03_each_cells/each/Ciliated/scanpy',\n",
       " '/mnt/raid62/Lung_cancer_10x/final_plots/03_each_cells/each/Exhaust_T/scanpy',\n",
       " '/mnt/raid62/Lung_cancer_10x/final_plots/03_each_cells/each/CD4/scanpy',\n",
       " '/mnt/raid62/Lung_cancer_10x/final_plots/03_each_cells/each/Monocytes/scanpy',\n",
       " '/mnt/raid62/Lung_cancer_10x/final_plots/03_each_cells/each/B_cells/scanpy',\n",
       " '/mnt/raid62/Lung_cancer_10x/final_plots/03_each_cells/each/Mast/scanpy',\n",
       " '/mnt/raid62/Lung_cancer_10x/final_plots/03_each_cells/each/Club/scanpy',\n",
       " '/mnt/raid62/Lung_cancer_10x/final_plots/03_each_cells/each/Endothelial/scanpy']"
      ]
     },
     "execution_count": 4,
     "metadata": {},
     "output_type": "execute_result"
    }
   ],
   "source": [
    "all_cell = glob(os.path.join(\"/mnt/raid62/Lung_cancer_10x/final_plots/03_each_cells/each\", \"*/scanpy\"))\n",
    "all_luad = glob(os.path.join(\"/mnt/raid62/Lung_cancer_10x/final_plots/03_each_cells/LUAD\", \"*/scanpy\"))\n",
    "all_lusc = glob(os.path.join(\"/mnt/raid62/Lung_cancer_10x/final_plots/03_each_cells/LUSC\", \"*/scanpy\"))\n",
    "\n",
    "all_cell"
   ]
  },
  {
   "cell_type": "code",
   "execution_count": 5,
   "metadata": {},
   "outputs": [],
   "source": [
    "def read_data(path: str):\n",
    "    u\"\"\"\n",
    "    read scaled data\n",
    "    \"\"\"\n",
    "    data = pd.read_csv(os.path.join(path, \"scale.csv.gz\"), index_col=0)\n",
    "    meta = pd.read_csv(os.path.join(path, \"meta.csv.gz\"), index_col=0)\n",
    "    \n",
    "    # melt expression data\n",
    "    data[\"gene\"] = data.index\n",
    "    data = data.melt(id_vars = [\"gene\"])\n",
    "    \n",
    "    # process meta info\n",
    "    meta = meta.loc[:, [\"res.0.6\"]]\n",
    "    meta[\"cell\"] = meta.index\n",
    "    \n",
    "    # format data\n",
    "    res = meta.merge(data, left_on=\"cell\", right_on=\"variable\")\n",
    "    res = res.groupby([\"res.0.6\", \"gene\"]).mean()\n",
    "    res = res.reset_index()\n",
    "    res.columns = [\"Cluster\", \"gene\", \"value\"]\n",
    "    res[\"Cell\"] = os.path.basename(os.path.dirname(path))\n",
    "    \n",
    "    return res"
   ]
  },
  {
   "cell_type": "markdown",
   "metadata": {},
   "source": [
    "Read data"
   ]
  },
  {
   "cell_type": "code",
   "execution_count": null,
   "metadata": {},
   "outputs": [],
   "source": [
    "with Pool(n_jobs) as p:\n",
    "    all_cell = p.map(read_data, all_cell)"
   ]
  },
  {
   "cell_type": "code",
   "execution_count": 50,
   "metadata": {},
   "outputs": [],
   "source": [
    "pd.concat(all_cell).to_csv(\"/mnt/raid62/Lung_cancer_10x/final_plots/05_gene_drug/all_cell_scale_mean_expr.csv\")"
   ]
  },
  {
   "cell_type": "markdown",
   "metadata": {},
   "source": [
    "Read and process all luad data"
   ]
  },
  {
   "cell_type": "code",
   "execution_count": null,
   "metadata": {},
   "outputs": [],
   "source": [
    "with Pool(n_jobs) as p:\n",
    "    all_luad = p.map(read_data, all_luad)"
   ]
  },
  {
   "cell_type": "code",
   "execution_count": 53,
   "metadata": {},
   "outputs": [],
   "source": [
    "pd.concat(all_luad).to_csv(\"/mnt/raid62/Lung_cancer_10x/final_plots/05_gene_drug/all_luad_scale_mean_expr.csv\")"
   ]
  },
  {
   "cell_type": "code",
   "execution_count": 54,
   "metadata": {},
   "outputs": [],
   "source": [
    "with Pool(n_jobs) as p:\n",
    "    all_lusc = p.map(read_data, all_lusc)"
   ]
  },
  {
   "cell_type": "code",
   "execution_count": 55,
   "metadata": {},
   "outputs": [],
   "source": [
    "pd.concat(all_lusc).to_csv(\"/mnt/raid62/Lung_cancer_10x/final_plots/05_gene_drug/all_lusc_scale_mean_expr.csv\")"
   ]
  },
  {
   "cell_type": "code",
   "execution_count": null,
   "metadata": {},
   "outputs": [],
   "source": []
  }
 ],
 "metadata": {
  "kernelspec": {
   "display_name": "Python 3",
   "language": "python",
   "name": "python3"
  },
  "language_info": {
   "codemirror_mode": {
    "name": "ipython",
    "version": 3
   },
   "file_extension": ".py",
   "mimetype": "text/x-python",
   "name": "python",
   "nbconvert_exporter": "python",
   "pygments_lexer": "ipython3",
   "version": "3.6.8"
  }
 },
 "nbformat": 4,
 "nbformat_minor": 2
}
