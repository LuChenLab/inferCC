{
 "cells": [
  {
   "cell_type": "code",
   "execution_count": 1,
   "metadata": {},
   "outputs": [],
   "source": [
    "%matplotlib inline\n",
    "# since 2019.07.10\n",
    "import os\n",
    "\n",
    "from glob import glob\n",
    "from multiprocessing import Pool\n",
    "\n",
    "import pandas as pd\n",
    "import seaborn as sns\n",
    "\n",
    "from matplotlib import pyplot as plt"
   ]
  },
  {
   "cell_type": "code",
   "execution_count": 2,
   "metadata": {},
   "outputs": [],
   "source": [
    "n_jobs = 20"
   ]
  },
  {
   "cell_type": "markdown",
   "metadata": {},
   "source": [
    "Read all scaled expression value"
   ]
  },
  {
   "cell_type": "code",
   "execution_count": 3,
   "metadata": {},
   "outputs": [
    {
     "data": {
      "text/plain": [
       "['/mnt/raid62/Lung_cancer_10x/final_plots/03_each_cells/each/NK/scanpy',\n",
       " '/mnt/raid62/Lung_cancer_10x/final_plots/03_each_cells/each/Dendritic/scanpy',\n",
       " '/mnt/raid62/Lung_cancer_10x/final_plots/03_each_cells/each/Basal/scanpy',\n",
       " '/mnt/raid62/Lung_cancer_10x/final_plots/03_each_cells/each/Neuroendocrine/scanpy',\n",
       " '/mnt/raid62/Lung_cancer_10x/final_plots/03_each_cells/each/Alveolar_II/scanpy',\n",
       " '/mnt/raid62/Lung_cancer_10x/final_plots/03_each_cells/each/Fibroblasts/scanpy',\n",
       " '/mnt/raid62/Lung_cancer_10x/final_plots/03_each_cells/each/Erythroid_precursor/scanpy',\n",
       " '/mnt/raid62/Lung_cancer_10x/final_plots/03_each_cells/each/Ciliated/scanpy',\n",
       " '/mnt/raid62/Lung_cancer_10x/final_plots/03_each_cells/each/Exhaust_T/scanpy',\n",
       " '/mnt/raid62/Lung_cancer_10x/final_plots/03_each_cells/each/CD4/scanpy',\n",
       " '/mnt/raid62/Lung_cancer_10x/final_plots/03_each_cells/each/Monocytes/scanpy',\n",
       " '/mnt/raid62/Lung_cancer_10x/final_plots/03_each_cells/each/B_cells/scanpy',\n",
       " '/mnt/raid62/Lung_cancer_10x/final_plots/03_each_cells/each/Mast/scanpy',\n",
       " '/mnt/raid62/Lung_cancer_10x/final_plots/03_each_cells/each/Club/scanpy',\n",
       " '/mnt/raid62/Lung_cancer_10x/final_plots/03_each_cells/each/Endothelial/scanpy']"
      ]
     },
     "execution_count": 3,
     "metadata": {},
     "output_type": "execute_result"
    }
   ],
   "source": [
    "all_cell = glob(os.path.join(\"/mnt/raid62/Lung_cancer_10x/final_plots/03_each_cells/each\", \"*/scanpy\"))\n",
    "all_luad = glob(os.path.join(\"/mnt/raid62/Lung_cancer_10x/final_plots/03_each_cells/LUAD\", \"*/scanpy\"))\n",
    "all_lusc = glob(os.path.join(\"/mnt/raid62/Lung_cancer_10x/final_plots/03_each_cells/LUSC\", \"*/scanpy\"))\n",
    "\n",
    "all_cell"
   ]
  },
  {
   "cell_type": "code",
   "execution_count": 4,
   "metadata": {},
   "outputs": [],
   "source": [
    "def read_data(path: str):\n",
    "    u\"\"\"\n",
    "    read scaled data\n",
    "    \"\"\"\n",
    "    data = pd.read_csv(os.path.join(path, \"scale.csv.gz\"), index_col=0)\n",
    "    meta = pd.read_csv(os.path.join(path, \"meta.csv.gz\"), index_col=0)\n",
    "    \n",
    "    # melt expression data\n",
    "    data[\"gene\"] = data.index\n",
    "    data = data.melt(id_vars = [\"gene\"])\n",
    "    \n",
    "    # process meta info\n",
    "    meta = meta.loc[:, [\"res.0.6\"]]\n",
    "    meta[\"cell\"] = meta.index\n",
    "    \n",
    "    # format data\n",
    "    res = meta.merge(data, left_on=\"cell\", right_on=\"variable\")\n",
    "    res = res.groupby([\"res.0.6\", \"gene\"]).mean()\n",
    "    res = res.reset_index()\n",
    "    res.columns = [\"Cluster\", \"gene\", \"value\"]\n",
    "    res[\"Cell\"] = os.path.basename(os.path.dirname(path))\n",
    "    \n",
    "    return res"
   ]
  },
  {
   "cell_type": "markdown",
   "metadata": {},
   "source": [
    "Read data"
   ]
  },
  {
   "cell_type": "code",
   "execution_count": 5,
   "metadata": {},
   "outputs": [
    {
     "ename": "MemoryError",
     "evalue": "",
     "output_type": "error",
     "traceback": [
      "\u001b[0;31m---------------------------------------------------------------------------\u001b[0m",
      "\u001b[0;31mRemoteTraceback\u001b[0m                           Traceback (most recent call last)",
      "\u001b[0;31mRemoteTraceback\u001b[0m: \n\"\"\"\nTraceback (most recent call last):\n  File \"/mnt/data5/zhangyiming/program/pyenv/versions/3.6.8/lib/python3.6/multiprocessing/pool.py\", line 119, in worker\n    result = (True, func(*args, **kwds))\n  File \"/mnt/data5/zhangyiming/program/pyenv/versions/3.6.8/lib/python3.6/multiprocessing/pool.py\", line 44, in mapstar\n    return list(map(*args))\n  File \"<ipython-input-4-c5438f0e052c>\", line 18, in read_data\n    res = res.groupby([\"res.0.6\", \"gene\"]).mean()\n  File \"/home/zhangyiming/.local/share/virtualenvs/scanpy-UGAxTWFP/lib/python3.6/site-packages/pandas/core/generic.py\", line 7632, in groupby\n    observed=observed, **kwargs)\n  File \"/home/zhangyiming/.local/share/virtualenvs/scanpy-UGAxTWFP/lib/python3.6/site-packages/pandas/core/groupby/groupby.py\", line 2110, in groupby\n    return klass(obj, by, **kwds)\n  File \"/home/zhangyiming/.local/share/virtualenvs/scanpy-UGAxTWFP/lib/python3.6/site-packages/pandas/core/groupby/groupby.py\", line 335, in __init__\n    obj._consolidate_inplace()\n  File \"/home/zhangyiming/.local/share/virtualenvs/scanpy-UGAxTWFP/lib/python3.6/site-packages/pandas/core/generic.py\", line 5138, in _consolidate_inplace\n    self._protect_consolidate(f)\n  File \"/home/zhangyiming/.local/share/virtualenvs/scanpy-UGAxTWFP/lib/python3.6/site-packages/pandas/core/generic.py\", line 5127, in _protect_consolidate\n    result = f()\n  File \"/home/zhangyiming/.local/share/virtualenvs/scanpy-UGAxTWFP/lib/python3.6/site-packages/pandas/core/generic.py\", line 5136, in f\n    self._data = self._data.consolidate()\n  File \"/home/zhangyiming/.local/share/virtualenvs/scanpy-UGAxTWFP/lib/python3.6/site-packages/pandas/core/internals/managers.py\", line 924, in consolidate\n    bm._consolidate_inplace()\n  File \"/home/zhangyiming/.local/share/virtualenvs/scanpy-UGAxTWFP/lib/python3.6/site-packages/pandas/core/internals/managers.py\", line 929, in _consolidate_inplace\n    self.blocks = tuple(_consolidate(self.blocks))\n  File \"/home/zhangyiming/.local/share/virtualenvs/scanpy-UGAxTWFP/lib/python3.6/site-packages/pandas/core/internals/managers.py\", line 1899, in _consolidate\n    _can_consolidate=_can_consolidate)\n  File \"/home/zhangyiming/.local/share/virtualenvs/scanpy-UGAxTWFP/lib/python3.6/site-packages/pandas/core/internals/blocks.py\", line 3149, in _merge_blocks\n    new_values = new_values[argsort]\nMemoryError\n\"\"\"",
      "\nThe above exception was the direct cause of the following exception:\n",
      "\u001b[0;31mMemoryError\u001b[0m                               Traceback (most recent call last)",
      "\u001b[0;32m<ipython-input-5-e48419cf46e8>\u001b[0m in \u001b[0;36m<module>\u001b[0;34m\u001b[0m\n\u001b[1;32m      1\u001b[0m \u001b[0;32mwith\u001b[0m \u001b[0mPool\u001b[0m\u001b[0;34m(\u001b[0m\u001b[0mn_jobs\u001b[0m\u001b[0;34m)\u001b[0m \u001b[0;32mas\u001b[0m \u001b[0mp\u001b[0m\u001b[0;34m:\u001b[0m\u001b[0;34m\u001b[0m\u001b[0;34m\u001b[0m\u001b[0m\n\u001b[0;32m----> 2\u001b[0;31m     \u001b[0mall_cell\u001b[0m \u001b[0;34m=\u001b[0m \u001b[0mp\u001b[0m\u001b[0;34m.\u001b[0m\u001b[0mmap\u001b[0m\u001b[0;34m(\u001b[0m\u001b[0mread_data\u001b[0m\u001b[0;34m,\u001b[0m \u001b[0mall_cell\u001b[0m\u001b[0;34m[\u001b[0m\u001b[0;34m:\u001b[0m\u001b[0;36m2\u001b[0m\u001b[0;34m]\u001b[0m\u001b[0;34m)\u001b[0m\u001b[0;34m\u001b[0m\u001b[0;34m\u001b[0m\u001b[0m\n\u001b[0m",
      "\u001b[0;32m/mnt/data5/zhangyiming/program/pyenv/versions/3.6.8/lib/python3.6/multiprocessing/pool.py\u001b[0m in \u001b[0;36mmap\u001b[0;34m(self, func, iterable, chunksize)\u001b[0m\n\u001b[1;32m    264\u001b[0m         \u001b[0;32min\u001b[0m \u001b[0ma\u001b[0m \u001b[0mlist\u001b[0m \u001b[0mthat\u001b[0m \u001b[0;32mis\u001b[0m \u001b[0mreturned\u001b[0m\u001b[0;34m.\u001b[0m\u001b[0;34m\u001b[0m\u001b[0;34m\u001b[0m\u001b[0m\n\u001b[1;32m    265\u001b[0m         '''\n\u001b[0;32m--> 266\u001b[0;31m         \u001b[0;32mreturn\u001b[0m \u001b[0mself\u001b[0m\u001b[0;34m.\u001b[0m\u001b[0m_map_async\u001b[0m\u001b[0;34m(\u001b[0m\u001b[0mfunc\u001b[0m\u001b[0;34m,\u001b[0m \u001b[0miterable\u001b[0m\u001b[0;34m,\u001b[0m \u001b[0mmapstar\u001b[0m\u001b[0;34m,\u001b[0m \u001b[0mchunksize\u001b[0m\u001b[0;34m)\u001b[0m\u001b[0;34m.\u001b[0m\u001b[0mget\u001b[0m\u001b[0;34m(\u001b[0m\u001b[0;34m)\u001b[0m\u001b[0;34m\u001b[0m\u001b[0;34m\u001b[0m\u001b[0m\n\u001b[0m\u001b[1;32m    267\u001b[0m \u001b[0;34m\u001b[0m\u001b[0m\n\u001b[1;32m    268\u001b[0m     \u001b[0;32mdef\u001b[0m \u001b[0mstarmap\u001b[0m\u001b[0;34m(\u001b[0m\u001b[0mself\u001b[0m\u001b[0;34m,\u001b[0m \u001b[0mfunc\u001b[0m\u001b[0;34m,\u001b[0m \u001b[0miterable\u001b[0m\u001b[0;34m,\u001b[0m \u001b[0mchunksize\u001b[0m\u001b[0;34m=\u001b[0m\u001b[0;32mNone\u001b[0m\u001b[0;34m)\u001b[0m\u001b[0;34m:\u001b[0m\u001b[0;34m\u001b[0m\u001b[0;34m\u001b[0m\u001b[0m\n",
      "\u001b[0;32m/mnt/data5/zhangyiming/program/pyenv/versions/3.6.8/lib/python3.6/multiprocessing/pool.py\u001b[0m in \u001b[0;36mget\u001b[0;34m(self, timeout)\u001b[0m\n\u001b[1;32m    642\u001b[0m             \u001b[0;32mreturn\u001b[0m \u001b[0mself\u001b[0m\u001b[0;34m.\u001b[0m\u001b[0m_value\u001b[0m\u001b[0;34m\u001b[0m\u001b[0;34m\u001b[0m\u001b[0m\n\u001b[1;32m    643\u001b[0m         \u001b[0;32melse\u001b[0m\u001b[0;34m:\u001b[0m\u001b[0;34m\u001b[0m\u001b[0;34m\u001b[0m\u001b[0m\n\u001b[0;32m--> 644\u001b[0;31m             \u001b[0;32mraise\u001b[0m \u001b[0mself\u001b[0m\u001b[0;34m.\u001b[0m\u001b[0m_value\u001b[0m\u001b[0;34m\u001b[0m\u001b[0;34m\u001b[0m\u001b[0m\n\u001b[0m\u001b[1;32m    645\u001b[0m \u001b[0;34m\u001b[0m\u001b[0m\n\u001b[1;32m    646\u001b[0m     \u001b[0;32mdef\u001b[0m \u001b[0m_set\u001b[0m\u001b[0;34m(\u001b[0m\u001b[0mself\u001b[0m\u001b[0;34m,\u001b[0m \u001b[0mi\u001b[0m\u001b[0;34m,\u001b[0m \u001b[0mobj\u001b[0m\u001b[0;34m)\u001b[0m\u001b[0;34m:\u001b[0m\u001b[0;34m\u001b[0m\u001b[0;34m\u001b[0m\u001b[0m\n",
      "\u001b[0;31mMemoryError\u001b[0m: "
     ]
    }
   ],
   "source": [
    "with Pool(n_jobs) as p:\n",
    "    all_cell = p.map(read_data, all_cell[:2])"
   ]
  },
  {
   "cell_type": "code",
   "execution_count": 50,
   "metadata": {},
   "outputs": [],
   "source": [
    "pd.concat(all_cell).to_csv(\"/mnt/raid62/Lung_cancer_10x/final_plots/05_gene_drug/all_cell_scale_mean_expr.csv\")"
   ]
  },
  {
   "cell_type": "markdown",
   "metadata": {},
   "source": [
    "Read and process all luad data"
   ]
  },
  {
   "cell_type": "code",
   "execution_count": null,
   "metadata": {},
   "outputs": [],
   "source": [
    "with Pool(n_jobs) as p:\n",
    "    all_luad = p.map(read_data, all_luad)"
   ]
  },
  {
   "cell_type": "code",
   "execution_count": 53,
   "metadata": {},
   "outputs": [],
   "source": [
    "pd.concat(all_luad).to_csv(\"/mnt/raid62/Lung_cancer_10x/final_plots/05_gene_drug/all_luad_scale_mean_expr.csv\")"
   ]
  },
  {
   "cell_type": "code",
   "execution_count": 54,
   "metadata": {},
   "outputs": [],
   "source": [
    "with Pool(n_jobs) as p:\n",
    "    all_lusc = p.map(read_data, all_lusc)"
   ]
  },
  {
   "cell_type": "code",
   "execution_count": 55,
   "metadata": {},
   "outputs": [],
   "source": [
    "pd.concat(all_lusc).to_csv(\"/mnt/raid62/Lung_cancer_10x/final_plots/05_gene_drug/all_lusc_scale_mean_expr.csv\")"
   ]
  },
  {
   "cell_type": "code",
   "execution_count": null,
   "metadata": {},
   "outputs": [],
   "source": []
  }
 ],
 "metadata": {
  "kernelspec": {
   "display_name": "Python 3",
   "language": "python",
   "name": "python3"
  },
  "language_info": {
   "codemirror_mode": {
    "name": "ipython",
    "version": 3
   },
   "file_extension": ".py",
   "mimetype": "text/x-python",
   "name": "python",
   "nbconvert_exporter": "python",
   "pygments_lexer": "ipython3",
   "version": "3.6.8"
  }
 },
 "nbformat": 4,
 "nbformat_minor": 2
}
