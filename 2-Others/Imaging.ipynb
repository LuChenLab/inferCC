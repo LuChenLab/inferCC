{
 "nbformat": 4,
 "nbformat_minor": 2,
 "metadata": {
  "language_info": {
   "name": "python",
   "codemirror_mode": {
    "name": "ipython",
    "version": 3
   }
  },
  "orig_nbformat": 2,
  "file_extension": ".py",
  "mimetype": "text/x-python",
  "name": "python",
  "npconvert_exporter": "python",
  "pygments_lexer": "ipython3",
  "version": 3
 },
 "cells": [
  {
   "cell_type": "code",
   "execution_count": 1,
   "metadata": {},
   "outputs": [],
   "source": [
    "import os\n",
    "import re\n",
    "import pandas as pd\n",
    "\n",
    "from scipy.stats import spearmanr\n",
    "from tqdm import tqdm"
   ]
  },
  {
   "cell_type": "code",
   "execution_count": 2,
   "metadata": {},
   "outputs": [
    {
     "data": {
      "text/html": "<div>\n<style scoped>\n    .dataframe tbody tr th:only-of-type {\n        vertical-align: middle;\n    }\n\n    .dataframe tbody tr th {\n        vertical-align: top;\n    }\n\n    .dataframe thead th {\n        text-align: right;\n    }\n</style>\n<table border=\"1\" class=\"dataframe\">\n  <thead>\n    <tr style=\"text-align: right;\">\n      <th></th>\n      <th>nGene</th>\n      <th>nUMI</th>\n      <th>SampleID</th>\n      <th>Batch</th>\n      <th>Tissue</th>\n      <th>Cells</th>\n      <th>batch</th>\n      <th>percent.mito</th>\n      <th>res.0.6</th>\n      <th>cell_name</th>\n      <th>PatientID</th>\n      <th>Gender</th>\n      <th>Disease</th>\n      <th>Stage</th>\n      <th>Age</th>\n      <th>T</th>\n      <th>N</th>\n      <th>M</th>\n      <th>res.0.8</th>\n      <th>orig.ident</th>\n    </tr>\n  </thead>\n  <tbody>\n    <tr>\n      <th>2018jz1_ACAGCCGTCTCTGTCG-1</th>\n      <td>704</td>\n      <td>1026</td>\n      <td>2018jz1</td>\n      <td>1</td>\n      <td>Tumor</td>\n      <td>2018jz1_ACAGCCGTCTCTGTCG-1</td>\n      <td>First</td>\n      <td>0</td>\n      <td>3</td>\n      <td>Alveolar II</td>\n      <td>PA13</td>\n      <td>Male</td>\n      <td>LUAD</td>\n      <td>II</td>\n      <td>73</td>\n      <td>T2b</td>\n      <td>N1</td>\n      <td>M0</td>\n      <td>5</td>\n      <td>2018jz1</td>\n    </tr>\n    <tr>\n      <th>2018jz1_ACATGGTAGTACGATA-1</th>\n      <td>3460</td>\n      <td>17232</td>\n      <td>2018jz1</td>\n      <td>1</td>\n      <td>Tumor</td>\n      <td>2018jz1_ACATGGTAGTACGATA-1</td>\n      <td>First</td>\n      <td>0</td>\n      <td>4</td>\n      <td>Alveolar II</td>\n      <td>PA13</td>\n      <td>Male</td>\n      <td>LUAD</td>\n      <td>II</td>\n      <td>73</td>\n      <td>T2b</td>\n      <td>N1</td>\n      <td>M0</td>\n      <td>1</td>\n      <td>2018jz1</td>\n    </tr>\n    <tr>\n      <th>2018jz1_ACGCAGCCAACCGCCA-1</th>\n      <td>3268</td>\n      <td>10057</td>\n      <td>2018jz1</td>\n      <td>1</td>\n      <td>Tumor</td>\n      <td>2018jz1_ACGCAGCCAACCGCCA-1</td>\n      <td>First</td>\n      <td>0</td>\n      <td>21</td>\n      <td>Alveolar II</td>\n      <td>PA13</td>\n      <td>Male</td>\n      <td>LUAD</td>\n      <td>II</td>\n      <td>73</td>\n      <td>T2b</td>\n      <td>N1</td>\n      <td>M0</td>\n      <td>9</td>\n      <td>2018jz1</td>\n    </tr>\n    <tr>\n      <th>2018jz1_CACCAGGTCTTGTCAT-1</th>\n      <td>3241</td>\n      <td>16954</td>\n      <td>2018jz1</td>\n      <td>1</td>\n      <td>Tumor</td>\n      <td>2018jz1_CACCAGGTCTTGTCAT-1</td>\n      <td>First</td>\n      <td>0</td>\n      <td>3</td>\n      <td>Alveolar II</td>\n      <td>PA13</td>\n      <td>Male</td>\n      <td>LUAD</td>\n      <td>II</td>\n      <td>73</td>\n      <td>T2b</td>\n      <td>N1</td>\n      <td>M0</td>\n      <td>7</td>\n      <td>2018jz1</td>\n    </tr>\n    <tr>\n      <th>2018jz1_CCGTACTGTTTGTTTC-1</th>\n      <td>4038</td>\n      <td>20429</td>\n      <td>2018jz1</td>\n      <td>1</td>\n      <td>Tumor</td>\n      <td>2018jz1_CCGTACTGTTTGTTTC-1</td>\n      <td>First</td>\n      <td>0</td>\n      <td>21</td>\n      <td>Alveolar II</td>\n      <td>PA13</td>\n      <td>Male</td>\n      <td>LUAD</td>\n      <td>II</td>\n      <td>73</td>\n      <td>T2b</td>\n      <td>N1</td>\n      <td>M0</td>\n      <td>5</td>\n      <td>2018jz1</td>\n    </tr>\n  </tbody>\n</table>\n</div>",
      "text/plain": "                            nGene   nUMI SampleID  Batch Tissue  \\\n2018jz1_ACAGCCGTCTCTGTCG-1    704   1026  2018jz1      1  Tumor   \n2018jz1_ACATGGTAGTACGATA-1   3460  17232  2018jz1      1  Tumor   \n2018jz1_ACGCAGCCAACCGCCA-1   3268  10057  2018jz1      1  Tumor   \n2018jz1_CACCAGGTCTTGTCAT-1   3241  16954  2018jz1      1  Tumor   \n2018jz1_CCGTACTGTTTGTTTC-1   4038  20429  2018jz1      1  Tumor   \n\n                                                 Cells  batch  percent.mito  \\\n2018jz1_ACAGCCGTCTCTGTCG-1  2018jz1_ACAGCCGTCTCTGTCG-1  First             0   \n2018jz1_ACATGGTAGTACGATA-1  2018jz1_ACATGGTAGTACGATA-1  First             0   \n2018jz1_ACGCAGCCAACCGCCA-1  2018jz1_ACGCAGCCAACCGCCA-1  First             0   \n2018jz1_CACCAGGTCTTGTCAT-1  2018jz1_CACCAGGTCTTGTCAT-1  First             0   \n2018jz1_CCGTACTGTTTGTTTC-1  2018jz1_CCGTACTGTTTGTTTC-1  First             0   \n\n                            res.0.6    cell_name PatientID Gender Disease  \\\n2018jz1_ACAGCCGTCTCTGTCG-1        3  Alveolar II      PA13   Male    LUAD   \n2018jz1_ACATGGTAGTACGATA-1        4  Alveolar II      PA13   Male    LUAD   \n2018jz1_ACGCAGCCAACCGCCA-1       21  Alveolar II      PA13   Male    LUAD   \n2018jz1_CACCAGGTCTTGTCAT-1        3  Alveolar II      PA13   Male    LUAD   \n2018jz1_CCGTACTGTTTGTTTC-1       21  Alveolar II      PA13   Male    LUAD   \n\n                           Stage  Age    T   N   M  res.0.8 orig.ident  \n2018jz1_ACAGCCGTCTCTGTCG-1    II   73  T2b  N1  M0        5    2018jz1  \n2018jz1_ACATGGTAGTACGATA-1    II   73  T2b  N1  M0        1    2018jz1  \n2018jz1_ACGCAGCCAACCGCCA-1    II   73  T2b  N1  M0        9    2018jz1  \n2018jz1_CACCAGGTCTTGTCAT-1    II   73  T2b  N1  M0        7    2018jz1  \n2018jz1_CCGTACTGTTTGTTTC-1    II   73  T2b  N1  M0        5    2018jz1  "
     },
     "execution_count": 2,
     "metadata": {},
     "output_type": "execute_result"
    }
   ],
   "source": [
    "meta = pd.read_csv(\"LungCancer10x/03_each_cells/total/Alveolar_II/scanpy/meta.csv.gz\", index_col=0)\n",
    "meta.head()"
   ]
  },
  {
   "cell_type": "code",
   "execution_count": null,
   "metadata": {},
   "outputs": [],
   "source": [
    "import os\n",
    "\n",
    "import pandas as pd\n",
    "import scanpy as sc\n",
    "from anndata import AnnData\n",
    "\n",
    "\n",
    "def load_data(path:str):\n",
    "    u\"\"\"\n",
    "    load data from specific path\n",
    "    \n",
    "    :param path: path to directory\n",
    "    \"\"\"\n",
    "    raw = pd.read_csv(os.path.join(path, \"raw.csv.gz\"), index_col=0, engine=\"python\")\n",
    "    scale = pd.read_csv(os.path.join(path, \"scale.csv.gz\"), index_col=0, engine=\"python\")\n",
    "    meta = pd.read_csv(os.path.join(path, \"meta.csv.gz\"), index_col=0, engine=\"python\")\n",
    "    meta[\"ident\"] = [\"{}-{}\".format(x[\"Disease\"], x[\"Stage\"]) for _, x in meta.iterrows()]\n",
    "    \n",
    "    data = AnnData(X=scale.transpose(), obs = meta)\n",
    "    data.obs = meta\n",
    "    data.raw = AnnData(X=raw.transpose(), obs = meta)\n",
    "    \n",
    "    return data\n",
    "\n",
    "obj = load_data(\"LungCancer10x/03_each_cells/total/Alveolar_II/scanpy\")\n",
    "\n",
    "sc.tl.rank_genes_groups(obj, \"ident\", use_raw=True, method='wilcoxon')"
   ]
  },
  {
   "cell_type": "code",
   "execution_count": null,
   "metadata": {},
   "outputs": [],
   "source": [
    "markers = {}\n",
    "for i in ['scores', 'names', 'logfoldchanges', 'pvals', 'pvals_adj']:\n",
    "    markers[i] = obj.uns[\"rank_genes_groups\"][i]"
   ]
  }
 ]
}