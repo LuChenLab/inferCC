{
 "nbformat": 4,
 "nbformat_minor": 2,
 "metadata": {
  "language_info": {
   "name": "python",
   "codemirror_mode": {
    "name": "ipython",
    "version": 3
   }
  },
  "orig_nbformat": 2,
  "file_extension": ".py",
  "mimetype": "text/x-python",
  "name": "python",
  "npconvert_exporter": "python",
  "pygments_lexer": "ipython3",
  "version": 3
 },
 "cells": [
  {
   "cell_type": "code",
   "execution_count": 1,
   "metadata": {},
   "outputs": [],
   "source": [
    "import re\n",
    "import numpy as np\n",
    "import scipy.signal as signal\n",
    "import pandas as pd\n",
    "import seaborn as sns\n",
    "\n",
    "from multiprocessing import Pool\n",
    "\n",
    "from matplotlib import pyplot as plt\n",
    "from scipy import spatial\n",
    "from scipy.stats import zscore\n",
    "from scipy.sparse import coo_matrix\n",
    "from sklearn.cluster import KMeans\n",
    "from tqdm import tqdm"
   ]
  },
  {
   "cell_type": "markdown",
   "execution_count": null,
   "metadata": {},
   "outputs": [],
   "source": [
    "# ATAC"
   ]
  },
  {
   "cell_type": "code",
   "execution_count": 2,
   "metadata": {},
   "outputs": [
    {
     "name": "stderr",
     "output_type": "stream",
     "text": "program/anaconda3/lib/python3.7/site-packages/numpy/lib/arraysetops.py:568: FutureWarning: elementwise comparison failed; returning scalar instead, but in the future will perform elementwise comparison\n  mask |= (ar1 == a)\n"
    }
   ],
   "source": [
    "data = pd.read_csv(\"LungCancer10x/09_bulk/ATAC/computedMatrix/all.csv.gz\", index_col=0)"
   ]
  },
  {
   "cell_type": "code",
   "execution_count": null,
   "metadata": {},
   "outputs": [],
   "source": []
  },
  {
   "cell_type": "code",
   "execution_count": 0,
   "metadata": {},
   "outputs": [],
   "source": [
    "data.head()"
   ]
  },
  {
   "cell_type": "code",
   "execution_count": 24,
   "metadata": {},
   "outputs": [],
   "source": [
    "from multiprocessing import Queue, Process\n",
    "import gc\n",
    "import warnings\n",
    "warnings.filterwarnings('ignore')\n",
    "\n",
    "\n",
    "def mean(data):\n",
    "    if len(data) == 0:\n",
    "        return 0\n",
    "    \n",
    "    return sum(data) / len(data)\n",
    "\n",
    "def calculate_freq_of_cluster(labels, ident, total):\n",
    "    res = {}\n",
    "    for i, j in zip(labels, ident):\n",
    "        i = int(i)\n",
    "        j = re.subn(r\"\\d+\", \"\", j)[0]\n",
    "        temp = res.get(i, {})\n",
    "        temp[j] = temp.get(j, 0) + 1\n",
    "        res[i] = temp\n",
    "\n",
    "    return {\n",
    "        \"score\": mean([max([v / total[k] for k, v in x.items()]) for x in res.values()]),\n",
    "        \"data\": res\n",
    "    }\n",
    "\n",
    "def __calculate_atac_score_using_kmeans__(data):\n",
    "    data, total, n_cluster, random_state, group_by, columns = data\n",
    "    res = []\n",
    "    kmeans = KMeans(n_clusters=n_cluster, random_state=random_state)\n",
    "    for i in data[group_by].unique():\n",
    "        temp_data = data.loc[data[group_by] == i, :]\n",
    "        temp_mtx = temp_data.iloc[:, columns]\n",
    "        temp_mtx.index = temp_data[\"ident\"]\n",
    "        temp_mtx = zscore(temp_mtx, axis = 1)\n",
    "        try:\n",
    "            kmeans.fit(temp_mtx)\n",
    "            temp_res = calculate_freq_of_cluster(kmeans.labels_, temp_data[\"ident\"], total)\n",
    "            temp_res[\"ident\"] = i\n",
    "\n",
    "            res.append(temp_res)\n",
    "        except ValueError:\n",
    "            continue\n",
    "    return res\n",
    "\n",
    "def calculate_atac_score_using_kmeans(data, n_jobs, total, columns, n_cluster=3, random_state=0, group_by=\"trans_id\"):\n",
    "    res = []\n",
    "    gc.collect()\n",
    "    tasks = []\n",
    "    genes = list(data[group_by].unique())\n",
    "    bk = len(genes) // n_jobs\n",
    "\n",
    "    for i in range(0, len(genes), bk):\n",
    "        tasks.append([data.loc[data[group_by].isin(genes[i: i + bk]), :], total, n_cluster, random_state, group_by, columns])\n",
    "\n",
    "    with Pool(n_jobs) as p:\n",
    "        for i in list(p.imap(__calculate_atac_score_using_kmeans__, tasks)):\n",
    "            res += i\n",
    "    gc.collect()\n",
    "    return res"
   ]
  },
  {
   "cell_type": "code",
   "execution_count": null,
   "metadata": {},
   "outputs": [],
   "source": [
    "total = {}\n",
    "for i in data[\"ident\"].unique():\n",
    "    i = re.subn(r\"\\d+\", \"\", i)[0]\n",
    "    total[i] = total.get(i, 0) + 1\n",
    "\n",
    "genes = list(data[\"trans_id\"].unique())\n",
    "bk = len(genes) // 20\n",
    "\n",
    "res = []\n",
    "for i in tqdm(range(0, len(genes), bk)):\n",
    "    res += calculate_atac_score_using_kmeans(data.loc[data[\"trans_id\"].isin(genes[i: i + bk]), :], 10, total, [x for x in range(1, 201)])"
   ]
  },
  {
   "cell_type": "code",
   "execution_count": 23,
   "metadata": {},
   "outputs": [
    {
     "data": {
      "text/html": "<div>\n<style scoped>\n    .dataframe tbody tr th:only-of-type {\n        vertical-align: middle;\n    }\n\n    .dataframe tbody tr th {\n        vertical-align: top;\n    }\n\n    .dataframe thead th {\n        text-align: right;\n    }\n</style>\n<table border=\"1\" class=\"dataframe\">\n  <thead>\n    <tr style=\"text-align: right;\">\n      <th></th>\n      <th>X</th>\n      <th>X0</th>\n      <th>X1</th>\n      <th>X2</th>\n      <th>X3</th>\n      <th>X4</th>\n      <th>X5</th>\n      <th>X6</th>\n      <th>X7</th>\n      <th>X8</th>\n      <th>...</th>\n      <th>X198</th>\n      <th>X199</th>\n      <th>ident</th>\n      <th>chrom</th>\n      <th>start</th>\n      <th>end</th>\n      <th>strand</th>\n      <th>gene_id</th>\n      <th>trans_id</th>\n      <th>gene_name</th>\n    </tr>\n  </thead>\n  <tbody>\n    <tr>\n      <th>1</th>\n      <td>chr1:11868-14409:+\\tENST00000456328.2</td>\n      <td>0.0</td>\n      <td>0.0</td>\n      <td>0.0</td>\n      <td>0.0</td>\n      <td>0.0</td>\n      <td>0.0</td>\n      <td>0.0</td>\n      <td>0.0</td>\n      <td>0.0</td>\n      <td>...</td>\n      <td>0.0</td>\n      <td>0.0</td>\n      <td>BSPN1</td>\n      <td>chr1</td>\n      <td>11868</td>\n      <td>14409</td>\n      <td>+</td>\n      <td>ENSG00000223972</td>\n      <td>ENST00000456328</td>\n      <td>AP001094.3</td>\n    </tr>\n    <tr>\n      <th>2</th>\n      <td>chr1:12009-13670:+\\tENST00000450305.2</td>\n      <td>0.0</td>\n      <td>0.0</td>\n      <td>0.0</td>\n      <td>0.0</td>\n      <td>0.0</td>\n      <td>0.0</td>\n      <td>0.0</td>\n      <td>0.0</td>\n      <td>0.0</td>\n      <td>...</td>\n      <td>0.0</td>\n      <td>0.0</td>\n      <td>BSPN1</td>\n      <td>chr1</td>\n      <td>12009</td>\n      <td>13670</td>\n      <td>+</td>\n      <td>ENSG00000223972</td>\n      <td>ENST00000450305</td>\n      <td>AP001094.3</td>\n    </tr>\n    <tr>\n      <th>3</th>\n      <td>chr1:14403-29570:-\\tENST00000488147.1</td>\n      <td>0.0</td>\n      <td>0.0</td>\n      <td>0.0</td>\n      <td>0.0</td>\n      <td>0.0</td>\n      <td>0.0</td>\n      <td>0.0</td>\n      <td>0.0</td>\n      <td>0.0</td>\n      <td>...</td>\n      <td>0.0</td>\n      <td>0.0</td>\n      <td>BSPN1</td>\n      <td>chr1</td>\n      <td>14403</td>\n      <td>29570</td>\n      <td>-</td>\n      <td>ENSG00000227232</td>\n      <td>ENST00000488147</td>\n      <td>SNX6P1</td>\n    </tr>\n    <tr>\n      <th>4</th>\n      <td>chr1:17368-17436:-\\tENST00000619216.1</td>\n      <td>0.0</td>\n      <td>0.0</td>\n      <td>0.0</td>\n      <td>0.0</td>\n      <td>0.0</td>\n      <td>0.0</td>\n      <td>0.0</td>\n      <td>0.0</td>\n      <td>0.0</td>\n      <td>...</td>\n      <td>0.0</td>\n      <td>0.0</td>\n      <td>BSPN1</td>\n      <td>chr1</td>\n      <td>17368</td>\n      <td>17436</td>\n      <td>-</td>\n      <td>ENSG00000278267</td>\n      <td>ENST00000619216</td>\n      <td>AL161785.1</td>\n    </tr>\n    <tr>\n      <th>5</th>\n      <td>chr1:29553-31097:+\\tENST00000473358.1</td>\n      <td>0.0</td>\n      <td>0.0</td>\n      <td>0.0</td>\n      <td>0.0</td>\n      <td>0.0</td>\n      <td>0.0</td>\n      <td>0.0</td>\n      <td>0.0</td>\n      <td>0.0</td>\n      <td>...</td>\n      <td>0.0</td>\n      <td>0.0</td>\n      <td>BSPN1</td>\n      <td>chr1</td>\n      <td>29553</td>\n      <td>31097</td>\n      <td>+</td>\n      <td>ENSG00000243485</td>\n      <td>ENST00000473358</td>\n      <td>RNU6-815P</td>\n    </tr>\n  </tbody>\n</table>\n<p>5 rows × 209 columns</p>\n</div>",
      "text/plain": "                                       X   X0   X1   X2   X3   X4   X5   X6  \\\n1  chr1:11868-14409:+\\tENST00000456328.2  0.0  0.0  0.0  0.0  0.0  0.0  0.0   \n2  chr1:12009-13670:+\\tENST00000450305.2  0.0  0.0  0.0  0.0  0.0  0.0  0.0   \n3  chr1:14403-29570:-\\tENST00000488147.1  0.0  0.0  0.0  0.0  0.0  0.0  0.0   \n4  chr1:17368-17436:-\\tENST00000619216.1  0.0  0.0  0.0  0.0  0.0  0.0  0.0   \n5  chr1:29553-31097:+\\tENST00000473358.1  0.0  0.0  0.0  0.0  0.0  0.0  0.0   \n\n    X7   X8     ...      X198  X199  ident  chrom  start    end  strand  \\\n1  0.0  0.0     ...       0.0   0.0  BSPN1   chr1  11868  14409       +   \n2  0.0  0.0     ...       0.0   0.0  BSPN1   chr1  12009  13670       +   \n3  0.0  0.0     ...       0.0   0.0  BSPN1   chr1  14403  29570       -   \n4  0.0  0.0     ...       0.0   0.0  BSPN1   chr1  17368  17436       -   \n5  0.0  0.0     ...       0.0   0.0  BSPN1   chr1  29553  31097       +   \n\n           gene_id         trans_id   gene_name  \n1  ENSG00000223972  ENST00000456328  AP001094.3  \n2  ENSG00000223972  ENST00000450305  AP001094.3  \n3  ENSG00000227232  ENST00000488147      SNX6P1  \n4  ENSG00000278267  ENST00000619216  AL161785.1  \n5  ENSG00000243485  ENST00000473358   RNU6-815P  \n\n[5 rows x 209 columns]"
     },
     "execution_count": 23,
     "metadata": {},
     "output_type": "execute_result"
    }
   ],
   "source": [
    "with open(\"LungCancer10x/09_bulk/ATAC/computedMatrix/all.res\", \"w+\") as w:\n",
    "    for i in res:\n",
    "        w.write(\"{}\\t{}\\n\".format(i[\"score\"], i[\"ident\"]))"
   ]
  },
  {
   "cell_type": "markdown",
   "execution_count": 5,
   "metadata": {},
   "outputs": [],
   "source": [
    "# WGS"
   ]
  },
  {
   "cell_type": "code",
   "execution_count": 2,
   "metadata": {},
   "outputs": [],
   "source": [
    "data = pd.read_csv(\"LungCancer10x/09_bulk/DNA/computedMatrix/wgs.csv\", index_col=0)"
   ]
  },
  {
   "cell_type": "code",
   "execution_count": 7,
   "metadata": {},
   "outputs": [
    {
     "data": {
      "text/html": "<div>\n<style scoped>\n    .dataframe tbody tr th:only-of-type {\n        vertical-align: middle;\n    }\n\n    .dataframe tbody tr th {\n        vertical-align: top;\n    }\n\n    .dataframe thead th {\n        text-align: right;\n    }\n</style>\n<table border=\"1\" class=\"dataframe\">\n  <thead>\n    <tr style=\"text-align: right;\">\n      <th></th>\n      <th>chrom</th>\n      <th>start</th>\n      <th>end</th>\n      <th>strand</th>\n      <th>gene_name</th>\n      <th>V6</th>\n      <th>V7</th>\n      <th>V8</th>\n      <th>V9</th>\n      <th>V10</th>\n      <th>...</th>\n      <th>V98</th>\n      <th>V99</th>\n      <th>V100</th>\n      <th>V101</th>\n      <th>V102</th>\n      <th>V103</th>\n      <th>V104</th>\n      <th>V105</th>\n      <th>SampleID</th>\n      <th>SampleType</th>\n    </tr>\n  </thead>\n  <tbody>\n    <tr>\n      <th>1</th>\n      <td>chr1</td>\n      <td>569076</td>\n      <td>569756</td>\n      <td>+</td>\n      <td>MTATP6P1</td>\n      <td>56.000000</td>\n      <td>56.000000</td>\n      <td>56.000000</td>\n      <td>82.142857</td>\n      <td>117.000000</td>\n      <td>...</td>\n      <td>73.000000</td>\n      <td>73.000000</td>\n      <td>73.000000</td>\n      <td>73.000000</td>\n      <td>73.000000</td>\n      <td>73.000000</td>\n      <td>73.000000</td>\n      <td>68.714286</td>\n      <td>BSPN1</td>\n      <td>Tumor</td>\n    </tr>\n    <tr>\n      <th>2</th>\n      <td>chr1</td>\n      <td>879584</td>\n      <td>894689</td>\n      <td>-</td>\n      <td>NOC2L</td>\n      <td>22.776316</td>\n      <td>40.509934</td>\n      <td>51.841060</td>\n      <td>38.463576</td>\n      <td>34.456954</td>\n      <td>...</td>\n      <td>43.172185</td>\n      <td>48.668874</td>\n      <td>46.649007</td>\n      <td>48.052980</td>\n      <td>50.311258</td>\n      <td>46.072848</td>\n      <td>42.622517</td>\n      <td>43.523179</td>\n      <td>BSPN1</td>\n      <td>Tumor</td>\n    </tr>\n    <tr>\n      <th>3</th>\n      <td>chr1</td>\n      <td>934342</td>\n      <td>935552</td>\n      <td>-</td>\n      <td>HES4</td>\n      <td>0.000000</td>\n      <td>0.000000</td>\n      <td>0.000000</td>\n      <td>0.000000</td>\n      <td>0.000000</td>\n      <td>...</td>\n      <td>2.000000</td>\n      <td>2.000000</td>\n      <td>2.000000</td>\n      <td>2.000000</td>\n      <td>2.000000</td>\n      <td>2.000000</td>\n      <td>2.000000</td>\n      <td>1.333333</td>\n      <td>BSPN1</td>\n      <td>Tumor</td>\n    </tr>\n    <tr>\n      <th>4</th>\n      <td>chr1</td>\n      <td>936518</td>\n      <td>949921</td>\n      <td>+</td>\n      <td>ISG15</td>\n      <td>52.164179</td>\n      <td>34.164179</td>\n      <td>30.059701</td>\n      <td>21.776119</td>\n      <td>7.582090</td>\n      <td>...</td>\n      <td>43.985075</td>\n      <td>37.074627</td>\n      <td>37.597015</td>\n      <td>29.985075</td>\n      <td>30.447761</td>\n      <td>31.194030</td>\n      <td>44.343284</td>\n      <td>43.770370</td>\n      <td>BSPN1</td>\n      <td>Tumor</td>\n    </tr>\n    <tr>\n      <th>5</th>\n      <td>chr1</td>\n      <td>955503</td>\n      <td>991498</td>\n      <td>+</td>\n      <td>AGRN</td>\n      <td>4.473538</td>\n      <td>13.011111</td>\n      <td>39.822222</td>\n      <td>40.633333</td>\n      <td>34.638889</td>\n      <td>...</td>\n      <td>36.322222</td>\n      <td>44.833333</td>\n      <td>31.177778</td>\n      <td>35.361111</td>\n      <td>39.344444</td>\n      <td>47.038889</td>\n      <td>45.883333</td>\n      <td>32.772222</td>\n      <td>BSPN1</td>\n      <td>Tumor</td>\n    </tr>\n  </tbody>\n</table>\n<p>5 rows × 107 columns</p>\n</div>",
      "text/plain": "  chrom   start     end strand gene_name         V6         V7         V8  \\\n1  chr1  569076  569756      +  MTATP6P1  56.000000  56.000000  56.000000   \n2  chr1  879584  894689      -     NOC2L  22.776316  40.509934  51.841060   \n3  chr1  934342  935552      -      HES4   0.000000   0.000000   0.000000   \n4  chr1  936518  949921      +     ISG15  52.164179  34.164179  30.059701   \n5  chr1  955503  991498      +      AGRN   4.473538  13.011111  39.822222   \n\n          V9         V10     ...            V98        V99       V100  \\\n1  82.142857  117.000000     ...      73.000000  73.000000  73.000000   \n2  38.463576   34.456954     ...      43.172185  48.668874  46.649007   \n3   0.000000    0.000000     ...       2.000000   2.000000   2.000000   \n4  21.776119    7.582090     ...      43.985075  37.074627  37.597015   \n5  40.633333   34.638889     ...      36.322222  44.833333  31.177778   \n\n        V101       V102       V103       V104       V105  SampleID  SampleType  \n1  73.000000  73.000000  73.000000  73.000000  68.714286     BSPN1       Tumor  \n2  48.052980  50.311258  46.072848  42.622517  43.523179     BSPN1       Tumor  \n3   2.000000   2.000000   2.000000   2.000000   1.333333     BSPN1       Tumor  \n4  29.985075  30.447761  31.194030  44.343284  43.770370     BSPN1       Tumor  \n5  35.361111  39.344444  47.038889  45.883333  32.772222     BSPN1       Tumor  \n\n[5 rows x 107 columns]"
     },
     "execution_count": 7,
     "metadata": {},
     "output_type": "execute_result"
    }
   ],
   "source": [
    "data.head()"
   ]
  },
  {
   "cell_type": "code",
   "execution_count": 9,
   "metadata": {},
   "outputs": [
    {
     "data": {
      "text/html": "<div>\n<style scoped>\n    .dataframe tbody tr th:only-of-type {\n        vertical-align: middle;\n    }\n\n    .dataframe tbody tr th {\n        vertical-align: top;\n    }\n\n    .dataframe thead th {\n        text-align: right;\n    }\n</style>\n<table border=\"1\" class=\"dataframe\">\n  <thead>\n    <tr style=\"text-align: right;\">\n      <th></th>\n      <th>chrom</th>\n      <th>start</th>\n      <th>end</th>\n      <th>strand</th>\n      <th>gene_name</th>\n      <th>V6</th>\n      <th>V7</th>\n      <th>V8</th>\n      <th>V9</th>\n      <th>V10</th>\n      <th>...</th>\n      <th>V99</th>\n      <th>V100</th>\n      <th>V101</th>\n      <th>V102</th>\n      <th>V103</th>\n      <th>V104</th>\n      <th>V105</th>\n      <th>SampleID</th>\n      <th>SampleType</th>\n      <th>ident</th>\n    </tr>\n  </thead>\n  <tbody>\n    <tr>\n      <th>1</th>\n      <td>chr1</td>\n      <td>569076</td>\n      <td>569756</td>\n      <td>+</td>\n      <td>MTATP6P1</td>\n      <td>56.000000</td>\n      <td>56.000000</td>\n      <td>56.000000</td>\n      <td>82.142857</td>\n      <td>117.000000</td>\n      <td>...</td>\n      <td>73.000000</td>\n      <td>73.000000</td>\n      <td>73.000000</td>\n      <td>73.000000</td>\n      <td>73.000000</td>\n      <td>73.000000</td>\n      <td>68.714286</td>\n      <td>BSPN1</td>\n      <td>Tumor</td>\n      <td>BSPN-Tumor</td>\n    </tr>\n    <tr>\n      <th>2</th>\n      <td>chr1</td>\n      <td>879584</td>\n      <td>894689</td>\n      <td>-</td>\n      <td>NOC2L</td>\n      <td>22.776316</td>\n      <td>40.509934</td>\n      <td>51.841060</td>\n      <td>38.463576</td>\n      <td>34.456954</td>\n      <td>...</td>\n      <td>48.668874</td>\n      <td>46.649007</td>\n      <td>48.052980</td>\n      <td>50.311258</td>\n      <td>46.072848</td>\n      <td>42.622517</td>\n      <td>43.523179</td>\n      <td>BSPN1</td>\n      <td>Tumor</td>\n      <td>BSPN-Tumor</td>\n    </tr>\n    <tr>\n      <th>3</th>\n      <td>chr1</td>\n      <td>934342</td>\n      <td>935552</td>\n      <td>-</td>\n      <td>HES4</td>\n      <td>0.000000</td>\n      <td>0.000000</td>\n      <td>0.000000</td>\n      <td>0.000000</td>\n      <td>0.000000</td>\n      <td>...</td>\n      <td>2.000000</td>\n      <td>2.000000</td>\n      <td>2.000000</td>\n      <td>2.000000</td>\n      <td>2.000000</td>\n      <td>2.000000</td>\n      <td>1.333333</td>\n      <td>BSPN1</td>\n      <td>Tumor</td>\n      <td>BSPN-Tumor</td>\n    </tr>\n    <tr>\n      <th>4</th>\n      <td>chr1</td>\n      <td>936518</td>\n      <td>949921</td>\n      <td>+</td>\n      <td>ISG15</td>\n      <td>52.164179</td>\n      <td>34.164179</td>\n      <td>30.059701</td>\n      <td>21.776119</td>\n      <td>7.582090</td>\n      <td>...</td>\n      <td>37.074627</td>\n      <td>37.597015</td>\n      <td>29.985075</td>\n      <td>30.447761</td>\n      <td>31.194030</td>\n      <td>44.343284</td>\n      <td>43.770370</td>\n      <td>BSPN1</td>\n      <td>Tumor</td>\n      <td>BSPN-Tumor</td>\n    </tr>\n    <tr>\n      <th>5</th>\n      <td>chr1</td>\n      <td>955503</td>\n      <td>991498</td>\n      <td>+</td>\n      <td>AGRN</td>\n      <td>4.473538</td>\n      <td>13.011111</td>\n      <td>39.822222</td>\n      <td>40.633333</td>\n      <td>34.638889</td>\n      <td>...</td>\n      <td>44.833333</td>\n      <td>31.177778</td>\n      <td>35.361111</td>\n      <td>39.344444</td>\n      <td>47.038889</td>\n      <td>45.883333</td>\n      <td>32.772222</td>\n      <td>BSPN1</td>\n      <td>Tumor</td>\n      <td>BSPN-Tumor</td>\n    </tr>\n  </tbody>\n</table>\n<p>5 rows × 108 columns</p>\n</div>",
      "text/plain": "  chrom   start     end strand gene_name         V6         V7         V8  \\\n1  chr1  569076  569756      +  MTATP6P1  56.000000  56.000000  56.000000   \n2  chr1  879584  894689      -     NOC2L  22.776316  40.509934  51.841060   \n3  chr1  934342  935552      -      HES4   0.000000   0.000000   0.000000   \n4  chr1  936518  949921      +     ISG15  52.164179  34.164179  30.059701   \n5  chr1  955503  991498      +      AGRN   4.473538  13.011111  39.822222   \n\n          V9         V10     ...            V99       V100       V101  \\\n1  82.142857  117.000000     ...      73.000000  73.000000  73.000000   \n2  38.463576   34.456954     ...      48.668874  46.649007  48.052980   \n3   0.000000    0.000000     ...       2.000000   2.000000   2.000000   \n4  21.776119    7.582090     ...      37.074627  37.597015  29.985075   \n5  40.633333   34.638889     ...      44.833333  31.177778  35.361111   \n\n        V102       V103       V104       V105  SampleID  SampleType  \\\n1  73.000000  73.000000  73.000000  68.714286     BSPN1       Tumor   \n2  50.311258  46.072848  42.622517  43.523179     BSPN1       Tumor   \n3   2.000000   2.000000   2.000000   1.333333     BSPN1       Tumor   \n4  30.447761  31.194030  44.343284  43.770370     BSPN1       Tumor   \n5  39.344444  47.038889  45.883333  32.772222     BSPN1       Tumor   \n\n        ident  \n1  BSPN-Tumor  \n2  BSPN-Tumor  \n3  BSPN-Tumor  \n4  BSPN-Tumor  \n5  BSPN-Tumor  \n\n[5 rows x 108 columns]"
     },
     "execution_count": 9,
     "metadata": {},
     "output_type": "execute_result"
    }
   ],
   "source": [
    "data[\"ident\"] = [\"{}-{}\".format(re.subn(r\"\\d+\", \"\", x[\"SampleID\"])[0], x[\"SampleType\"]) for _, x in data.iterrows()]\n",
    "data.head()"
   ]
  },
  {
   "cell_type": "code",
   "execution_count": 35,
   "metadata": {},
   "outputs": [],
   "source": [
    "from itertools import combinations\n",
    "from scipy.stats import kruskal\n",
    "\n",
    "\n",
    "def pandas_to_list(data, columns):\n",
    "    res = []\n",
    "\n",
    "    for _, row in data.iterrows():\n",
    "        res += list(row)\n",
    "    return res\n",
    "\n",
    "\n",
    "def calculate_pvalue(data):\n",
    "    res = {}\n",
    "    for i in data[\"gene_name\"].unique():\n",
    "        temp_data = data.loc[data[\"gene_name\"] == i, :]\n",
    "\n",
    "        temp_res = {}\n",
    "        for j, k in combinations(temp_data[\"ident\"], 2):\n",
    "            temp_1 = pandas_to_list(temp_data.loc[temp_data[\"ident\"] == j, ], [x for x in range(5, 105)])\n",
    "            temp_2 = pandas_to_list(temp_data.loc[temp_data[\"ident\"] == k, ], [x for x in range(5, 105)])\n",
    "\n",
    "            temp_res[\"{}|{}\".format(j, k)] = kruskal(temp_1, temp_2).pvalue\n",
    "        res[i] = temp_res\n",
    "    return res\n"
   ]
  },
  {
   "cell_type": "code",
   "execution_count": 19,
   "metadata": {},
   "outputs": [
    {
     "data": {
      "text/plain": "8352"
     },
     "execution_count": 19,
     "metadata": {},
     "output_type": "execute_result"
    }
   ],
   "source": [
    "genes = list(data[\"gene_name\"].unique())\n",
    "bk = len(genes) // n_jobs\n",
    "\n",
    "\n",
    "tasks = []\n",
    "for i in tqdm(range(0, len(genes), bk)):\n",
    "    tasks.append(data.loc[data[\"gene_name\"].isin(genes[i: i + bk]), :])\n",
    "\n",
    "\n",
    "res = {}\n",
    "with Pool(n_jobs) as p:\n",
    "    for i in p.imap(calculate_pvalue, tasks):\n",
    "        res.update(i)"
   ]
  },
  {
   "cell_type": "code",
   "execution_count": 0,
   "metadata": {},
   "outputs": [],
   "source": [
    "for i in res:\n",
    "    print(i)\n",
    "    break"
   ]
  },
  {
   "cell_type": "code",
   "execution_count": 26,
   "metadata": {},
   "outputs": [],
   "source": [
    "with open(\"LungCancer10x/09_bulk/DNA/computedMatrix/wgs.res\", \"w+\") as w:\n",
    "\n",
    "    for i in res:\n",
    "        w.write(\"{}\\t{}\\n\".format(i[\"score\"], i[\"ident\"]))"
   ]
  },
  {
   "cell_type": "code",
   "execution_count": 28,
   "metadata": {},
   "outputs": [],
   "source": [
    "import json\n",
    "with open(\"LungCancer10x/09_bulk/DNA/computedMatrix/wgs.json\", \"w+\") as w:\n",
    "    json.dump(res, w, indent = 4)"
   ]
  },
  {
   "cell_type": "code",
   "execution_count": null,
   "metadata": {},
   "outputs": [],
   "source": [
    "stats.kruskal(x, y)"
   ]
  }
 ]
}