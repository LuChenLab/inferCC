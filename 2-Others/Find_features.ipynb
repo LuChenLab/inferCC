{
 "cells": [
  {
   "cell_type": "code",
   "execution_count": null,
   "metadata": {},
   "outputs": [],
   "source": [
    "import os\n",
    "\n",
    "import pandas as pd\n",
    "\n",
    "import numpy as np\n",
    "\n",
    "import random\n",
    "import gzip\n",
    "\n",
    "import pickle\n",
    "\n",
    "from tqdm import tqdm\n",
    "\n",
    "from sklearn.model_selection import cross_val_score, cross_validate, train_test_split\n",
    "from sklearn.feature_selection import SelectFromModel\n",
    "from sklearn.neural_network import MLPClassifier\n",
    "from sklearn.neighbors.classification import KNeighborsClassifier\n",
    "from sklearn.ensemble import RandomForestClassifier\n",
    "from sklearn.metrics import accuracy_score\n",
    "from sklearn.feature_selection import SelectKBest, SelectFromModel\n",
    "\n",
    "from imblearn.under_sampling import RepeatedEditedNearestNeighbours"
   ]
  },
  {
   "cell_type": "markdown",
   "metadata": {},
   "source": [
    "### Find cell markers"
   ]
  },
  {
   "cell_type": "code",
   "execution_count": null,
   "metadata": {},
   "outputs": [],
   "source": [
    "meta = pd.read_csv(\"../../02_rds/meta_after_singleR.csv\", index_col=0)\n",
    "meta = meta.loc[(meta['Batch'] != 3) & (meta[\"cell_name\"].notna()), :]\n",
    "\n",
    "print(meta.shape)"
   ]
  },
  {
   "cell_type": "code",
   "execution_count": null,
   "metadata": {},
   "outputs": [],
   "source": [
    "def choose_cells(meta, seed = 42, n=1000):\n",
    "    u\"\"\"\n",
    "    \n",
    "    \"\"\"\n",
    "    choosed_cells = []\n",
    "\n",
    "    random.seed(seed)\n",
    "    for i in meta[\"cell_name\"].unique():\n",
    "        cells = meta.loc[meta[\"cell_name\"] == i, \"Cells\"]\n",
    "\n",
    "        if len(cells) <= n:\n",
    "            choosed_cells += list(cells)\n",
    "        else:\n",
    "            choosed_cells += random.choices(list(cells), k=n)\n",
    "    \n",
    "    return choosed_cells\n",
    "\n",
    "choosed_cells = choose_cells(meta)"
   ]
  },
  {
   "cell_type": "code",
   "execution_count": null,
   "metadata": {},
   "outputs": [],
   "source": [
    "\n",
    "\n",
    "def read_scale_data(path, cells=None):\n",
    "    \n",
    "    header = {}\n",
    "    res = {}\n",
    "    with gzip.open(path, \"rt\") as r:\n",
    "        for line in tqdm(r):\n",
    "            lines = line.strip().replace(\"\\\"\", \"\").split(\",\")\n",
    "            if len(header) == 0:\n",
    "                for i, j in enumerate(lines):\n",
    "                    header[j] = i + 1\n",
    "                \n",
    "                if not cells:\n",
    "                    cells = list(header.keys())\n",
    "            else:\n",
    "                temp = {k: float(lines[header[k]]) for k in cells}\n",
    "                res[lines[0]] = temp\n",
    "    return pd.DataFrame(res)\n",
    "\n",
    "expr = read_scale_data(\"scale_data.csv.gz\", choosed_cells)\n",
    "    \n",
    "with open(\"./choosed_all_cells_scale_expr.pickle\", \"wb+\") as w:\n",
    "    pickle.dump(expr, w)\n",
    "    \n",
    "expr = expr.transpose()"
   ]
  },
  {
   "cell_type": "code",
   "execution_count": null,
   "metadata": {},
   "outputs": [],
   "source": [
    "with open(\"./choosed_all_cells_scale_expr.pickle\", \"rb\") as r:\n",
    "    expr = pickle.load(r)"
   ]
  },
  {
   "cell_type": "markdown",
   "metadata": {},
   "source": [
    "Read features"
   ]
  },
  {
   "cell_type": "code",
   "execution_count": 16,
   "metadata": {},
   "outputs": [],
   "source": [
    "\"\"\"\n",
    "write.csv(tf, here(\"12_TF/Teichmann_TFlist.csv\"))\n",
    "\n",
    "write.csv(sf, here(\"12_TF/Han_Molecular_Cell.csv\"))\n",
    "\n",
    "write.csv(rbp, here(\"12_TF/RBP.csv\"))\n",
    "\"\"\"\n",
    "\n",
    "tf = pd.read_csv(\"../12_TF/Teichmann_TFlist.csv\", index_col=0)\n",
    "sf = pd.read_csv(\"../12_TF/Han_Molecular_Cell.csv\", index_col=0)\n",
    "rbp = pd.read_csv(\"../12_TF/RBP.csv\", index_col=0)\n"
   ]
  },
  {
   "cell_type": "code",
   "execution_count": 11,
   "metadata": {},
   "outputs": [],
   "source": [
    "def find_best_features_by_cv(\n",
    "    data, \n",
    "    cluster,\n",
    "    init_features=None, \n",
    "    n_iter=10, \n",
    "    random_state=0, \n",
    "    n_estimitors=100, \n",
    "    max_depth=2, \n",
    "    n_jobs=10,\n",
    "    cv=10,\n",
    "    methods=\"RF\"\n",
    "):\n",
    "    u\"\"\"\n",
    "    Find best features by crossvalidation\n",
    "    :param data: \n",
    "    \"\"\"\n",
    "    clf = None\n",
    "    if methods == \"RF\":\n",
    "        clf = RandomForestClassifier(n_estimators=n_estimitors, max_depth=max_depth, random_state=random_state, n_jobs=n_jobs)\n",
    "    elif methods == \"SVM\":\n",
    "        clf = SVC(\n",
    "            C=1.0, \n",
    "            kernel=i, \n",
    "            degree=3, \n",
    "            gamma='auto_deprecated', \n",
    "            coef0=0.0, \n",
    "            shrinking=True, \n",
    "            probability=False, \n",
    "            tol=0.001, \n",
    "            cache_size=200, \n",
    "            class_weight=None, \n",
    "            verbose=False, \n",
    "            max_iter=-1, \n",
    "            decision_function_shape='ovr', \n",
    "            random_state=random_state\n",
    "        )\n",
    "    elif methods == \"KNN\":\n",
    "        clf = KNeighborsClassifier(n_neighbors=30)\n",
    "    elif methods == \"ANN\":\n",
    "        clf = MLPClassifier()\n",
    "    \n",
    "    if init_features is None:\n",
    "        init_features = data.index \n",
    "        \n",
    "    init_features = list(set(init_features) & set(data.index))\n",
    "            \n",
    "    res = []\n",
    "    for i in range(n_iter):\n",
    "        mat = data.loc[init_features, :].transpose()\n",
    "        cv_results = cross_validate(clf, X=mat, y=cluster, cv=cv, n_jobs=n_jobs, return_estimator=True)\n",
    "    \n",
    "        res.append(\n",
    "            {\n",
    "                \"iter\": i,\n",
    "                \"test_score\": cv_results[\"test_score\"],\n",
    "                \"features\": init_features\n",
    "            }\n",
    "        )\n",
    "        \n",
    "        importance = [] \n",
    "        for idx, estimator in enumerate(cv_results[\"estimator\"]):\n",
    "            importance.append(\n",
    "                pd.DataFrame(\n",
    "                    estimator.feature_importances_,\n",
    "                    index=init_features,\n",
    "                )\n",
    "            )\n",
    "\n",
    "\n",
    "        importance = pd.concat(importance, axis=1)\n",
    "        \n",
    "        importance = importance > 0\n",
    "        importance = importance.sum(axis=1)\n",
    "        \n",
    "        init_features = importance[importance > (cv / 2)].index\n",
    "        \n",
    "    return res"
   ]
  },
  {
   "cell_type": "code",
   "execution_count": 42,
   "metadata": {},
   "outputs": [],
   "source": [
    "def find_best_features_by_select_from_model(\n",
    "    data, \n",
    "    cluster,\n",
    "    init_features=None, \n",
    "    n_iter=10, \n",
    "    random_state=0, \n",
    "    n_estimitors=100, \n",
    "    max_depth=2, \n",
    "    n_jobs=10,\n",
    "    cv=10,\n",
    "    methods=\"RF\"\n",
    "):\n",
    "    u\"\"\"\n",
    "    Find best features by crossvalidation\n",
    "    :param data: \n",
    "    \"\"\"\n",
    "    clf = None\n",
    "    if methods == \"RF\":\n",
    "        clf = RandomForestClassifier(n_estimators=n_estimitors, max_depth=max_depth, random_state=random_state, n_jobs=n_jobs)\n",
    "    elif methods == \"SVM\":\n",
    "        clf = SVC(\n",
    "            C=1.0, \n",
    "            kernel=i, \n",
    "            degree=3, \n",
    "            gamma='auto_deprecated', \n",
    "            coef0=0.0, \n",
    "            shrinking=True, \n",
    "            probability=False, \n",
    "            tol=0.001, \n",
    "            cache_size=200, \n",
    "            class_weight=None, \n",
    "            verbose=False, \n",
    "            max_iter=-1, \n",
    "            decision_function_shape='ovr', \n",
    "            random_state=random_state\n",
    "        )\n",
    "    elif methods == \"KNN\":\n",
    "        clf = KNeighborsClassifier(n_neighbors=30)\n",
    "    elif methods == \"ANN\":\n",
    "        clf = MLPClassifier()\n",
    "    \n",
    "    if init_features is None:\n",
    "        init_features = data.index \n",
    "        \n",
    "    init_features = list(set(init_features) & set(data.index))\n",
    "            \n",
    "    res = []\n",
    "    for i in range(n_iter):\n",
    "        mat = data.loc[init_features, :].transpose()\n",
    "\n",
    "        X_train, X_test, y_train, y_test = train_test_split(mat, cluster, test_size=0.33, random_state=random_state)\n",
    "\n",
    "        sel = SelectFromModel(clf)\n",
    "        sel.fit(X_train, y_train)\n",
    "\n",
    "        clf.fit(X_train, y_train)\n",
    "        pred = clf.predict(X_test)\n",
    "\n",
    "        res.append(\n",
    "            {\n",
    "                \"iter\": i,\n",
    "                \"test_score\": accuracy_score(y_test, pred, normalize=True, sample_weight=None),\n",
    "                \"features\": init_features\n",
    "            }\n",
    "        )\n",
    "        \n",
    "        init_features = [init_features[x] for x in sel.get_support()]\n",
    "        \n",
    "    return res"
   ]
  },
  {
   "cell_type": "markdown",
   "metadata": {},
   "source": [
    "## All cells"
   ]
  },
  {
   "cell_type": "code",
   "execution_count": null,
   "metadata": {},
   "outputs": [],
   "source": [
    "res = find_best_features_by_cv(expr, meta.loc[expr.columns, \"cell_name\"])\n",
    "\n",
    "for i in res:\n",
    "    print(np.mean(i[\"test_score\"])) # i[\"test_score\"], "
   ]
  },
  {
   "cell_type": "code",
   "execution_count": null,
   "metadata": {},
   "outputs": [],
   "source": [
    "res = find_best_features_by_select_from_model(expr, meta.loc[expr.columns, \"cell_name\"])\n",
    "\n",
    "for i in res:\n",
    "    print(np.mean(i[\"test_score\"])) # i[\"test_score\"], "
   ]
  },
  {
   "cell_type": "code",
   "execution_count": null,
   "metadata": {},
   "outputs": [],
   "source": [
    "raw = read_scale_data(\"LungCancer10x/02_rds/raw_data.csv.gz\", choosed_cells)"
   ]
  },
  {
   "cell_type": "code",
   "execution_count": null,
   "metadata": {},
   "outputs": [],
   "source": [
    "from sklearn.feature_selection import SelectKBest\n",
    "from sklearn.feature_selection import chi2\n",
    "\n",
    "X_new = SelectKBest(chi2, k=2).fit_transform(raw, meta.loc[expr.columns, \"cell_name\"])"
   ]
  },
  {
   "cell_type": "code",
   "execution_count": null,
   "metadata": {},
   "outputs": [],
   "source": [
    "from feature_selector import FeatureSelector\n",
    "\n",
    "fs = FeatureSelector(data = expr, labels = list(meta.loc[expr.index, \"cell_name\"]))\n",
    "\n",
    "\n",
    "\n",
    "fs.identify_zero_importance(task = 'classification', eval_metric = 'auc', n_iterations = 10, early_stopping = False)\n",
    "\n"
   ]
  },
  {
   "cell_type": "markdown",
   "metadata": {},
   "source": [
    "### Basal"
   ]
  },
  {
   "cell_type": "code",
   "execution_count": 19,
   "metadata": {},
   "outputs": [],
   "source": [
    "basal = pd.read_csv(\"../03_each_cells/LUSC/Basal/scanpy/scale.csv.gz\", index_col=0)"
   ]
  },
  {
   "cell_type": "code",
   "execution_count": 20,
   "metadata": {},
   "outputs": [
    {
     "name": "stdout",
     "output_type": "stream",
     "text": [
      "0.7157553909543188\n",
      "0.7307867134462194\n",
      "0.747131058925462\n",
      "0.742642778711588\n",
      "0.7484510071685191\n",
      "0.7471358791232889\n",
      "0.7563575661221767\n",
      "0.7563575661221767\n",
      "0.7563575661221767\n",
      "0.7563575661221767\n"
     ]
    }
   ],
   "source": [
    "res = find_best_features_by_cv(basal, list(meta.loc[basal.columns, \"Stage\"]), init_features=tf[\"SYMBOL\"])\n",
    "\n",
    "for i in res:\n",
    "    print(np.mean(i[\"test_score\"])) # i[\"test_score\"], "
   ]
  },
  {
   "cell_type": "code",
   "execution_count": 21,
   "metadata": {},
   "outputs": [
    {
     "name": "stdout",
     "output_type": "stream",
     "text": [
      "0.7378961864595421\n",
      "0.793539423447179\n",
      "0.834130529198362\n",
      "0.8314975139980854\n",
      "0.8375654505368008\n",
      "0.8291249158938687\n",
      "0.8378126601808897\n",
      "0.8412503845990227\n",
      "0.8433646816575369\n",
      "0.8431015274365989\n"
     ]
    }
   ],
   "source": [
    "res = find_best_features_by_cv(basal, meta.loc[basal.columns, \"Stage\"], init_features=sf[\"SYMBOL\"])\n",
    "for i in res:\n",
    "    print(np.mean(i[\"test_score\"])) # i[\"test_score\"],"
   ]
  },
  {
   "cell_type": "code",
   "execution_count": 22,
   "metadata": {},
   "outputs": [
    {
     "name": "stdout",
     "output_type": "stream",
     "text": [
      "0.8586487210206905\n",
      "0.8723531370364105\n",
      "0.8747222340391267\n",
      "0.8612301705470633\n",
      "0.8702346188696509\n",
      "0.8734029618329371\n",
      "0.8749888783690956\n",
      "0.8749847122231973\n",
      "0.8749847122231973\n",
      "0.8749847122231973\n"
     ]
    }
   ],
   "source": [
    "res = find_best_features_by_cv(basal, meta.loc[basal.columns, \"Stage\"], init_features=rbp[\"SYMBOL\"])\n",
    "for i in res:\n",
    "    print(np.mean(i[\"test_score\"])) # i[\"test_score\"],"
   ]
  },
  {
   "cell_type": "markdown",
   "metadata": {},
   "source": [
    "### ATII"
   ]
  },
  {
   "cell_type": "code",
   "execution_count": 23,
   "metadata": {},
   "outputs": [],
   "source": [
    "atii = pd.read_csv(\"../03_each_cells/total/Alveolar_II/scanpy/scale.csv.gz\", index_col=0)"
   ]
  },
  {
   "cell_type": "code",
   "execution_count": 25,
   "metadata": {},
   "outputs": [
    {
     "name": "stdout",
     "output_type": "stream",
     "text": [
      "0.659184847020733\n",
      "0.6624508692750506\n",
      "0.6731407241191077\n",
      "0.6761775928431836\n",
      "0.6819190757644058\n",
      "0.670665265732361\n",
      "0.6755033102868742\n",
      "0.6776394136011523\n",
      "0.6776394136011523\n",
      "0.6776394136011523\n"
     ]
    }
   ],
   "source": [
    "res = find_best_features_by_cv(atii, list(meta.loc[atii.columns, \"Disease\"]), init_features=tf[\"SYMBOL\"])\n",
    "\n",
    "for i in res:\n",
    "    print(np.mean(i[\"test_score\"])) # i[\"test_score\"], "
   ]
  },
  {
   "cell_type": "code",
   "execution_count": 27,
   "metadata": {},
   "outputs": [
    {
     "name": "stdout",
     "output_type": "stream",
     "text": [
      "0.6578342551421146\n",
      "0.6610981287818902\n",
      "0.6692026974545231\n",
      "0.6647003415472568\n",
      "0.6775237650931153\n",
      "0.6780903699016227\n",
      "0.675274543615288\n",
      "0.6727966861100564\n",
      "0.6729144909155892\n",
      "0.6774067228973435\n"
     ]
    }
   ],
   "source": [
    "res = find_best_features_by_cv(atii, list(meta.loc[atii.columns, \"Disease\"]), init_features=sf[\"SYMBOL\"])\n",
    "\n",
    "for i in res:\n",
    "    print(np.mean(i[\"test_score\"])) # i[\"test_score\"], "
   ]
  },
  {
   "cell_type": "code",
   "execution_count": 46,
   "metadata": {},
   "outputs": [
    {
     "name": "stdout",
     "output_type": "stream",
     "text": [
      "0.6676286520687273\n",
      "0.71442302085965\n",
      "0.72938684182337\n",
      "0.733213397077084\n",
      "0.7332130176378648\n",
      "0.7309643034093188\n",
      "0.7354570457754829\n",
      "0.7341178388752109\n",
      "0.7352418126871663\n",
      "0.7368147237030804\n"
     ]
    }
   ],
   "source": [
    "res = find_best_features_by_cv(atii, list(meta.loc[atii.columns, \"Disease\"]), init_features=rbp[\"SYMBOL\"])\n",
    "\n",
    "for i in res:\n",
    "    print(np.mean(i[\"test_score\"])) # i[\"test_score\"], "
   ]
  },
  {
   "cell_type": "markdown",
   "metadata": {},
   "source": [
    "select best features by select from model"
   ]
  },
  {
   "cell_type": "code",
   "execution_count": 43,
   "metadata": {},
   "outputs": [
    {
     "name": "stderr",
     "output_type": "stream",
     "text": [
      "program/anaconda3/lib/python3.7/site-packages/ipykernel_launcher.py:67: DeprecationWarning: In future, it will be an error for 'np.bool_' scalars to be interpreted as an index\n",
      "program/anaconda3/lib/python3.7/site-packages/ipykernel_launcher.py:67: DeprecationWarning: In future, it will be an error for 'np.bool_' scalars to be interpreted as an index\n",
      "program/anaconda3/lib/python3.7/site-packages/ipykernel_launcher.py:67: DeprecationWarning: In future, it will be an error for 'np.bool_' scalars to be interpreted as an index\n",
      "program/anaconda3/lib/python3.7/site-packages/ipykernel_launcher.py:67: DeprecationWarning: In future, it will be an error for 'np.bool_' scalars to be interpreted as an index\n",
      "program/anaconda3/lib/python3.7/site-packages/ipykernel_launcher.py:67: DeprecationWarning: In future, it will be an error for 'np.bool_' scalars to be interpreted as an index\n",
      "program/anaconda3/lib/python3.7/site-packages/ipykernel_launcher.py:67: DeprecationWarning: In future, it will be an error for 'np.bool_' scalars to be interpreted as an index\n",
      "program/anaconda3/lib/python3.7/site-packages/ipykernel_launcher.py:67: DeprecationWarning: In future, it will be an error for 'np.bool_' scalars to be interpreted as an index\n",
      "program/anaconda3/lib/python3.7/site-packages/ipykernel_launcher.py:67: DeprecationWarning: In future, it will be an error for 'np.bool_' scalars to be interpreted as an index\n",
      "program/anaconda3/lib/python3.7/site-packages/ipykernel_launcher.py:67: DeprecationWarning: In future, it will be an error for 'np.bool_' scalars to be interpreted as an index\n",
      "0.6573474258438459\n",
      "0.651892260484146\n",
      "0.6512103648141835\n",
      "0.6512103648141835\n",
      "0.6512103648141835\n",
      "0.6512103648141835\n",
      "0.6512103648141835\n",
      "0.6512103648141835\n",
      "0.6512103648141835\n",
      "0.6512103648141835\n",
      "program/anaconda3/lib/python3.7/site-packages/ipykernel_launcher.py:67: DeprecationWarning: In future, it will be an error for 'np.bool_' scalars to be interpreted as an index\n"
     ]
    }
   ],
   "source": [
    "res = find_best_features_by_select_from_model(atii, list(meta.loc[atii.columns, \"Disease\"]), init_features=tf[\"SYMBOL\"])\n",
    "\n",
    "for i in res:\n",
    "    print(np.mean(i[\"test_score\"]))"
   ]
  },
  {
   "cell_type": "code",
   "execution_count": 44,
   "metadata": {},
   "outputs": [
    {
     "name": "stderr",
     "output_type": "stream",
     "text": [
      "program/anaconda3/lib/python3.7/site-packages/ipykernel_launcher.py:67: DeprecationWarning: In future, it will be an error for 'np.bool_' scalars to be interpreted as an index\n",
      "program/anaconda3/lib/python3.7/site-packages/ipykernel_launcher.py:67: DeprecationWarning: In future, it will be an error for 'np.bool_' scalars to be interpreted as an index\n",
      "program/anaconda3/lib/python3.7/site-packages/ipykernel_launcher.py:67: DeprecationWarning: In future, it will be an error for 'np.bool_' scalars to be interpreted as an index\n",
      "program/anaconda3/lib/python3.7/site-packages/ipykernel_launcher.py:67: DeprecationWarning: In future, it will be an error for 'np.bool_' scalars to be interpreted as an index\n",
      "program/anaconda3/lib/python3.7/site-packages/ipykernel_launcher.py:67: DeprecationWarning: In future, it will be an error for 'np.bool_' scalars to be interpreted as an index\n",
      "program/anaconda3/lib/python3.7/site-packages/ipykernel_launcher.py:67: DeprecationWarning: In future, it will be an error for 'np.bool_' scalars to be interpreted as an index\n",
      "program/anaconda3/lib/python3.7/site-packages/ipykernel_launcher.py:67: DeprecationWarning: In future, it will be an error for 'np.bool_' scalars to be interpreted as an index\n",
      "program/anaconda3/lib/python3.7/site-packages/ipykernel_launcher.py:67: DeprecationWarning: In future, it will be an error for 'np.bool_' scalars to be interpreted as an index\n",
      "program/anaconda3/lib/python3.7/site-packages/ipykernel_launcher.py:67: DeprecationWarning: In future, it will be an error for 'np.bool_' scalars to be interpreted as an index\n",
      "0.6553017388339584\n",
      "0.6484827821343334\n",
      "0.6484827821343334\n",
      "0.6355267644050461\n",
      "0.6355267644050461\n",
      "0.6355267644050461\n",
      "0.6355267644050461\n",
      "0.6355267644050461\n",
      "0.6355267644050461\n",
      "0.6355267644050461\n",
      "program/anaconda3/lib/python3.7/site-packages/ipykernel_launcher.py:67: DeprecationWarning: In future, it will be an error for 'np.bool_' scalars to be interpreted as an index\n"
     ]
    }
   ],
   "source": [
    "res = find_best_features_by_select_from_model(atii, list(meta.loc[atii.columns, \"Disease\"]), init_features=sf[\"SYMBOL\"])\n",
    "\n",
    "for i in res:\n",
    "    print(np.mean(i[\"test_score\"]))"
   ]
  },
  {
   "cell_type": "code",
   "execution_count": 45,
   "metadata": {},
   "outputs": [
    {
     "name": "stderr",
     "output_type": "stream",
     "text": [
      "program/anaconda3/lib/python3.7/site-packages/ipykernel_launcher.py:67: DeprecationWarning: In future, it will be an error for 'np.bool_' scalars to be interpreted as an index\n",
      "program/anaconda3/lib/python3.7/site-packages/ipykernel_launcher.py:67: DeprecationWarning: In future, it will be an error for 'np.bool_' scalars to be interpreted as an index\n",
      "program/anaconda3/lib/python3.7/site-packages/ipykernel_launcher.py:67: DeprecationWarning: In future, it will be an error for 'np.bool_' scalars to be interpreted as an index\n",
      "program/anaconda3/lib/python3.7/site-packages/ipykernel_launcher.py:67: DeprecationWarning: In future, it will be an error for 'np.bool_' scalars to be interpreted as an index\n",
      "program/anaconda3/lib/python3.7/site-packages/ipykernel_launcher.py:67: DeprecationWarning: In future, it will be an error for 'np.bool_' scalars to be interpreted as an index\n",
      "program/anaconda3/lib/python3.7/site-packages/ipykernel_launcher.py:67: DeprecationWarning: In future, it will be an error for 'np.bool_' scalars to be interpreted as an index\n",
      "program/anaconda3/lib/python3.7/site-packages/ipykernel_launcher.py:67: DeprecationWarning: In future, it will be an error for 'np.bool_' scalars to be interpreted as an index\n",
      "program/anaconda3/lib/python3.7/site-packages/ipykernel_launcher.py:67: DeprecationWarning: In future, it will be an error for 'np.bool_' scalars to be interpreted as an index\n",
      "program/anaconda3/lib/python3.7/site-packages/ipykernel_launcher.py:67: DeprecationWarning: In future, it will be an error for 'np.bool_' scalars to be interpreted as an index\n",
      "0.6696215479031709\n",
      "0.6525741561541084\n",
      "0.6464370951244459\n",
      "0.6464370951244459\n",
      "0.6464370951244459\n",
      "0.6464370951244459\n",
      "0.6464370951244459\n",
      "0.6464370951244459\n",
      "0.6464370951244459\n",
      "0.6464370951244459\n",
      "program/anaconda3/lib/python3.7/site-packages/ipykernel_launcher.py:67: DeprecationWarning: In future, it will be an error for 'np.bool_' scalars to be interpreted as an index\n"
     ]
    }
   ],
   "source": [
    "res = find_best_features_by_select_from_model(atii, list(meta.loc[atii.columns, \"Disease\"]), init_features=rbp[\"SYMBOL\"])\n",
    "\n",
    "for i in res:\n",
    "    print(np.mean(i[\"test_score\"]))"
   ]
  },
  {
   "cell_type": "markdown",
   "metadata": {},
   "source": [
    "#### ATII luad"
   ]
  },
  {
   "cell_type": "code",
   "execution_count": 72,
   "metadata": {},
   "outputs": [],
   "source": [
    "atii_luad = pd.read_csv(\"../03_each_cells/LUAD/Alveolar_II/scanpy/scale.csv.gz\", index_col=0)\n",
    "\n",
    "target_cells = meta.loc[meta[\"Disease\"] == \"LUAD\", :]\n",
    "atii_luad = atii_luad.loc[:, set(atii_luad.columns) & set(target_cells.index)]\n"
   ]
  },
  {
   "cell_type": "code",
   "execution_count": 73,
   "metadata": {},
   "outputs": [
    {
     "name": "stdout",
     "output_type": "stream",
     "text": [
      "0.6200750469043153\n",
      "0.6864915572232646\n",
      "0.6839274546591619\n",
      "0.6888055034396497\n",
      "0.6938086303939963\n",
      "0.6758599124452783\n",
      "0.6862414008755472\n",
      "0.6886804252657912\n",
      "0.6835522201375861\n",
      "0.6835522201375861\n"
     ]
    }
   ],
   "source": [
    "res = find_best_features_by_cv(atii_luad, list(meta.loc[atii_luad.columns, \"Stage\"]), init_features=tf[\"SYMBOL\"])\n",
    "\n",
    "for i in res:\n",
    "    print(np.mean(i[\"test_score\"])) # i[\"test_score\"], "
   ]
  },
  {
   "cell_type": "code",
   "execution_count": 74,
   "metadata": {},
   "outputs": [
    {
     "name": "stdout",
     "output_type": "stream",
     "text": [
      "0.5661038148843026\n",
      "0.6271419637273297\n",
      "0.6424015009380863\n",
      "0.627016885553471\n",
      "0.6480300187617262\n",
      "0.6325203252032521\n",
      "0.6294559099437148\n",
      "0.6348342714196373\n",
      "0.6348342714196373\n",
      "0.6348342714196373\n"
     ]
    }
   ],
   "source": [
    "res = find_best_features_by_cv(atii_luad, list(meta.loc[atii_luad.columns, \"Stage\"]), init_features=sf[\"SYMBOL\"])\n",
    "\n",
    "for i in res:\n",
    "    print(np.mean(i[\"test_score\"])) # i[\"test_score\"], "
   ]
  },
  {
   "cell_type": "code",
   "execution_count": 75,
   "metadata": {},
   "outputs": [
    {
     "name": "stdout",
     "output_type": "stream",
     "text": [
      "0.6276422764227643\n",
      "0.6426516572858038\n",
      "0.6580362726704191\n",
      "0.6608505315822389\n",
      "0.6580362726704191\n",
      "0.6709818636647905\n",
      "0.6732958098811758\n",
      "0.6706066291432146\n",
      "0.6706066291432146\n",
      "0.6706066291432146\n"
     ]
    }
   ],
   "source": [
    "res = find_best_features_by_cv(atii_luad, list(meta.loc[atii_luad.columns, \"Stage\"]), init_features=rbp[\"SYMBOL\"])\n",
    "\n",
    "for i in res:\n",
    "    print(np.mean(i[\"test_score\"])) # i[\"test_score\"], "
   ]
  },
  {
   "cell_type": "markdown",
   "metadata": {},
   "source": [
    "### CD4"
   ]
  },
  {
   "cell_type": "code",
   "execution_count": 54,
   "metadata": {},
   "outputs": [],
   "source": [
    "cd4 = pd.read_csv(\"../03_each_cells/total/CD4/scanpy/scale.csv.gz\", index_col=0)"
   ]
  },
  {
   "cell_type": "code",
   "execution_count": 55,
   "metadata": {},
   "outputs": [
    {
     "name": "stdout",
     "output_type": "stream",
     "text": [
      "0.4282931055566393\n",
      "0.42781318450216743\n",
      "0.42946054701107894\n",
      "0.4289112843697772\n",
      "0.42774403153597235\n",
      "0.4285677835633134\n",
      "0.4285685378502654\n",
      "0.4285685378502654\n",
      "0.4285685378502654\n",
      "0.4285685378502654\n"
     ]
    }
   ],
   "source": [
    "res = find_best_features_by_cv(cd4, list(meta.loc[cd4.columns, \"Disease\"]), init_features=tf[\"SYMBOL\"])\n",
    "\n",
    "for i in res:\n",
    "    print(np.mean(i[\"test_score\"])) # i[\"test_score\"], "
   ]
  },
  {
   "cell_type": "code",
   "execution_count": 69,
   "metadata": {},
   "outputs": [],
   "source": [
    "cd4_luad = meta.loc[(meta[\"Disease\"] == \"LUAD\") & (meta[\"cell_name\"] == \"CD4\") & (meta[\"Batch\"] != 3), ]\n",
    "# cd4_luad = cd4.loc[:, cd4_luad]\n",
    "# res = find_best_features_by_cv(cd4_luad.loc[:, ], list(meta.loc[cd4_luad.columns, \"Disease\"]), init_features=tf[\"SYMBOL\"])\n",
    "\n",
    "# for i in res:\n",
    "#     print(np.mean(i[\"test_score\"])) # i[\"test_score\"], "
   ]
  },
  {
   "cell_type": "code",
   "execution_count": 70,
   "metadata": {},
   "outputs": [
    {
     "data": {
      "text/html": [
       "<div>\n",
       "<style scoped>\n",
       "    .dataframe tbody tr th:only-of-type {\n",
       "        vertical-align: middle;\n",
       "    }\n",
       "\n",
       "    .dataframe tbody tr th {\n",
       "        vertical-align: top;\n",
       "    }\n",
       "\n",
       "    .dataframe thead th {\n",
       "        text-align: right;\n",
       "    }\n",
       "</style>\n",
       "<table border=\"1\" class=\"dataframe\">\n",
       "  <thead>\n",
       "    <tr style=\"text-align: right;\">\n",
       "      <th></th>\n",
       "      <th>2018jz1_AACCGCGCAGTGGGAT-1</th>\n",
       "      <th>2018jz1_AAGCCGCAGGCATGTG-1</th>\n",
       "      <th>2018jz1_AAGCCGCTCTCGCTTG-1</th>\n",
       "      <th>2018jz1_ACACCCTTCAAACGGG-1</th>\n",
       "      <th>2018jz1_ACGGGCTCATCGGTTA-1</th>\n",
       "      <th>2018jz1_ACTGATGGTCGCATAT-1</th>\n",
       "      <th>2018jz1_AGCTTGATCCGGCACA-1</th>\n",
       "      <th>2018jz1_ATTACTCCAGGAATGC-1</th>\n",
       "      <th>2018jz1_CAAGATCAGATGCCTT-1</th>\n",
       "      <th>2018jz1_CCATGTCAGATCGATA-1</th>\n",
       "      <th>...</th>\n",
       "      <th>AK657_TACCTATGTAAGAGAG-1</th>\n",
       "      <th>AK657_TACTTGTGTGACCAAG-1</th>\n",
       "      <th>AK657_TCAGCAACAATAGCAA-1</th>\n",
       "      <th>AK657_TGCGCAGAGAGTCGGT-1</th>\n",
       "      <th>AK657_TGCGGGTCATGAGCGA-1</th>\n",
       "      <th>AK657_TTAGGACAGCTTTGGT-1</th>\n",
       "      <th>AK657_TTAGGCACAACTTGAC-1</th>\n",
       "      <th>AK657_TTCGGTCGTGTGCGTC-1</th>\n",
       "      <th>AK657_TTGCGTCAGATACACA-1</th>\n",
       "      <th>AK657_TTTCCTCGTTCCCTTG-1</th>\n",
       "    </tr>\n",
       "  </thead>\n",
       "  <tbody>\n",
       "    <tr>\n",
       "      <th>A1BG</th>\n",
       "      <td>NaN</td>\n",
       "      <td>NaN</td>\n",
       "      <td>NaN</td>\n",
       "      <td>-0.079085</td>\n",
       "      <td>NaN</td>\n",
       "      <td>-0.085342</td>\n",
       "      <td>NaN</td>\n",
       "      <td>-0.085257</td>\n",
       "      <td>NaN</td>\n",
       "      <td>-0.086009</td>\n",
       "      <td>...</td>\n",
       "      <td>-0.099788</td>\n",
       "      <td>NaN</td>\n",
       "      <td>-0.062124</td>\n",
       "      <td>-0.103510</td>\n",
       "      <td>NaN</td>\n",
       "      <td>NaN</td>\n",
       "      <td>-0.063538</td>\n",
       "      <td>-0.066060</td>\n",
       "      <td>NaN</td>\n",
       "      <td>-0.061271</td>\n",
       "    </tr>\n",
       "    <tr>\n",
       "      <th>A1BG-AS1</th>\n",
       "      <td>NaN</td>\n",
       "      <td>NaN</td>\n",
       "      <td>NaN</td>\n",
       "      <td>-0.098340</td>\n",
       "      <td>NaN</td>\n",
       "      <td>-0.097162</td>\n",
       "      <td>NaN</td>\n",
       "      <td>-0.094569</td>\n",
       "      <td>NaN</td>\n",
       "      <td>-0.093521</td>\n",
       "      <td>...</td>\n",
       "      <td>-0.079549</td>\n",
       "      <td>NaN</td>\n",
       "      <td>-0.108655</td>\n",
       "      <td>-0.070391</td>\n",
       "      <td>NaN</td>\n",
       "      <td>NaN</td>\n",
       "      <td>-0.105155</td>\n",
       "      <td>-0.106234</td>\n",
       "      <td>NaN</td>\n",
       "      <td>-0.104626</td>\n",
       "    </tr>\n",
       "    <tr>\n",
       "      <th>A2M</th>\n",
       "      <td>NaN</td>\n",
       "      <td>NaN</td>\n",
       "      <td>NaN</td>\n",
       "      <td>-0.023550</td>\n",
       "      <td>NaN</td>\n",
       "      <td>-0.027839</td>\n",
       "      <td>NaN</td>\n",
       "      <td>-0.040404</td>\n",
       "      <td>NaN</td>\n",
       "      <td>-0.045303</td>\n",
       "      <td>...</td>\n",
       "      <td>-0.109799</td>\n",
       "      <td>NaN</td>\n",
       "      <td>0.022535</td>\n",
       "      <td>-0.153271</td>\n",
       "      <td>NaN</td>\n",
       "      <td>NaN</td>\n",
       "      <td>0.005918</td>\n",
       "      <td>0.011707</td>\n",
       "      <td>NaN</td>\n",
       "      <td>0.002850</td>\n",
       "    </tr>\n",
       "    <tr>\n",
       "      <th>A2M-AS1</th>\n",
       "      <td>NaN</td>\n",
       "      <td>NaN</td>\n",
       "      <td>NaN</td>\n",
       "      <td>-0.075331</td>\n",
       "      <td>NaN</td>\n",
       "      <td>-0.067152</td>\n",
       "      <td>NaN</td>\n",
       "      <td>-0.082471</td>\n",
       "      <td>NaN</td>\n",
       "      <td>-0.086770</td>\n",
       "      <td>...</td>\n",
       "      <td>-0.135083</td>\n",
       "      <td>NaN</td>\n",
       "      <td>-0.055987</td>\n",
       "      <td>-0.179516</td>\n",
       "      <td>NaN</td>\n",
       "      <td>NaN</td>\n",
       "      <td>-0.072991</td>\n",
       "      <td>-0.060636</td>\n",
       "      <td>NaN</td>\n",
       "      <td>-0.081522</td>\n",
       "    </tr>\n",
       "    <tr>\n",
       "      <th>A4GALT</th>\n",
       "      <td>NaN</td>\n",
       "      <td>NaN</td>\n",
       "      <td>NaN</td>\n",
       "      <td>-0.022631</td>\n",
       "      <td>NaN</td>\n",
       "      <td>-0.027135</td>\n",
       "      <td>NaN</td>\n",
       "      <td>-0.025305</td>\n",
       "      <td>NaN</td>\n",
       "      <td>-0.025232</td>\n",
       "      <td>...</td>\n",
       "      <td>-0.027436</td>\n",
       "      <td>NaN</td>\n",
       "      <td>-0.015251</td>\n",
       "      <td>-0.024382</td>\n",
       "      <td>NaN</td>\n",
       "      <td>NaN</td>\n",
       "      <td>-0.014076</td>\n",
       "      <td>-0.016945</td>\n",
       "      <td>NaN</td>\n",
       "      <td>-0.011797</td>\n",
       "    </tr>\n",
       "  </tbody>\n",
       "</table>\n",
       "<p>5 rows × 5898 columns</p>\n",
       "</div>"
      ],
      "text/plain": [
       "          2018jz1_AACCGCGCAGTGGGAT-1  2018jz1_AAGCCGCAGGCATGTG-1  \\\n",
       "A1BG                             NaN                         NaN   \n",
       "A1BG-AS1                         NaN                         NaN   \n",
       "A2M                              NaN                         NaN   \n",
       "A2M-AS1                          NaN                         NaN   \n",
       "A4GALT                           NaN                         NaN   \n",
       "\n",
       "          2018jz1_AAGCCGCTCTCGCTTG-1  2018jz1_ACACCCTTCAAACGGG-1  \\\n",
       "A1BG                             NaN                   -0.079085   \n",
       "A1BG-AS1                         NaN                   -0.098340   \n",
       "A2M                              NaN                   -0.023550   \n",
       "A2M-AS1                          NaN                   -0.075331   \n",
       "A4GALT                           NaN                   -0.022631   \n",
       "\n",
       "          2018jz1_ACGGGCTCATCGGTTA-1  2018jz1_ACTGATGGTCGCATAT-1  \\\n",
       "A1BG                             NaN                   -0.085342   \n",
       "A1BG-AS1                         NaN                   -0.097162   \n",
       "A2M                              NaN                   -0.027839   \n",
       "A2M-AS1                          NaN                   -0.067152   \n",
       "A4GALT                           NaN                   -0.027135   \n",
       "\n",
       "          2018jz1_AGCTTGATCCGGCACA-1  2018jz1_ATTACTCCAGGAATGC-1  \\\n",
       "A1BG                             NaN                   -0.085257   \n",
       "A1BG-AS1                         NaN                   -0.094569   \n",
       "A2M                              NaN                   -0.040404   \n",
       "A2M-AS1                          NaN                   -0.082471   \n",
       "A4GALT                           NaN                   -0.025305   \n",
       "\n",
       "          2018jz1_CAAGATCAGATGCCTT-1  2018jz1_CCATGTCAGATCGATA-1  \\\n",
       "A1BG                             NaN                   -0.086009   \n",
       "A1BG-AS1                         NaN                   -0.093521   \n",
       "A2M                              NaN                   -0.045303   \n",
       "A2M-AS1                          NaN                   -0.086770   \n",
       "A4GALT                           NaN                   -0.025232   \n",
       "\n",
       "                    ...             AK657_TACCTATGTAAGAGAG-1  \\\n",
       "A1BG                ...                            -0.099788   \n",
       "A1BG-AS1            ...                            -0.079549   \n",
       "A2M                 ...                            -0.109799   \n",
       "A2M-AS1             ...                            -0.135083   \n",
       "A4GALT              ...                            -0.027436   \n",
       "\n",
       "          AK657_TACTTGTGTGACCAAG-1  AK657_TCAGCAACAATAGCAA-1  \\\n",
       "A1BG                           NaN                 -0.062124   \n",
       "A1BG-AS1                       NaN                 -0.108655   \n",
       "A2M                            NaN                  0.022535   \n",
       "A2M-AS1                        NaN                 -0.055987   \n",
       "A4GALT                         NaN                 -0.015251   \n",
       "\n",
       "          AK657_TGCGCAGAGAGTCGGT-1  AK657_TGCGGGTCATGAGCGA-1  \\\n",
       "A1BG                     -0.103510                       NaN   \n",
       "A1BG-AS1                 -0.070391                       NaN   \n",
       "A2M                      -0.153271                       NaN   \n",
       "A2M-AS1                  -0.179516                       NaN   \n",
       "A4GALT                   -0.024382                       NaN   \n",
       "\n",
       "          AK657_TTAGGACAGCTTTGGT-1  AK657_TTAGGCACAACTTGAC-1  \\\n",
       "A1BG                           NaN                 -0.063538   \n",
       "A1BG-AS1                       NaN                 -0.105155   \n",
       "A2M                            NaN                  0.005918   \n",
       "A2M-AS1                        NaN                 -0.072991   \n",
       "A4GALT                         NaN                 -0.014076   \n",
       "\n",
       "          AK657_TTCGGTCGTGTGCGTC-1  AK657_TTGCGTCAGATACACA-1  \\\n",
       "A1BG                     -0.066060                       NaN   \n",
       "A1BG-AS1                 -0.106234                       NaN   \n",
       "A2M                       0.011707                       NaN   \n",
       "A2M-AS1                  -0.060636                       NaN   \n",
       "A4GALT                   -0.016945                       NaN   \n",
       "\n",
       "          AK657_TTTCCTCGTTCCCTTG-1  \n",
       "A1BG                     -0.061271  \n",
       "A1BG-AS1                 -0.104626  \n",
       "A2M                       0.002850  \n",
       "A2M-AS1                  -0.081522  \n",
       "A4GALT                   -0.011797  \n",
       "\n",
       "[5 rows x 5898 columns]"
      ]
     },
     "execution_count": 70,
     "metadata": {},
     "output_type": "execute_result"
    }
   ],
   "source": [
    "expr = cd4.loc[:, cd4_luad.index]\n",
    "\n",
    "expr.head()"
   ]
  },
  {
   "cell_type": "code",
   "execution_count": null,
   "metadata": {},
   "outputs": [],
   "source": []
  }
 ],
 "metadata": {
  "kernelspec": {
   "display_name": "Python 3",
   "language": "python",
   "name": "python3"
  },
  "language_info": {
   "codemirror_mode": {
    "name": "ipython",
    "version": 3
   },
   "file_extension": ".py",
   "mimetype": "text/x-python",
   "name": "python",
   "nbconvert_exporter": "python",
   "pygments_lexer": "ipython3",
   "version": "3.7.4"
  }
 },
 "nbformat": 4,
 "nbformat_minor": 4
}